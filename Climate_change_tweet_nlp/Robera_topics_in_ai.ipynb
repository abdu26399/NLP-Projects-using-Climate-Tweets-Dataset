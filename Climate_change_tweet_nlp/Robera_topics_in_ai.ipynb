{
  "cells": [
    {
      "cell_type": "code",
      "source": [
        "pip install transformers"
      ],
      "metadata": {
        "colab": {
          "base_uri": "https://localhost:8080/"
        },
        "id": "T1LjwCi3Jqjj",
        "outputId": "3b2c0a40-3255-405f-a7ce-0bc72e4df2b1"
      },
      "execution_count": null,
      "outputs": [
        {
          "output_type": "stream",
          "name": "stdout",
          "text": [
            "Looking in indexes: https://pypi.org/simple, https://us-python.pkg.dev/colab-wheels/public/simple/\n",
            "Collecting transformers\n",
            "  Downloading transformers-4.25.1-py3-none-any.whl (5.8 MB)\n",
            "\u001b[K     |████████████████████████████████| 5.8 MB 17.2 MB/s \n",
            "\u001b[?25hRequirement already satisfied: tqdm>=4.27 in /usr/local/lib/python3.8/dist-packages (from transformers) (4.64.1)\n",
            "Requirement already satisfied: filelock in /usr/local/lib/python3.8/dist-packages (from transformers) (3.8.0)\n",
            "Requirement already satisfied: regex!=2019.12.17 in /usr/local/lib/python3.8/dist-packages (from transformers) (2022.6.2)\n",
            "Requirement already satisfied: requests in /usr/local/lib/python3.8/dist-packages (from transformers) (2.23.0)\n",
            "Requirement already satisfied: numpy>=1.17 in /usr/local/lib/python3.8/dist-packages (from transformers) (1.21.6)\n",
            "Collecting huggingface-hub<1.0,>=0.10.0\n",
            "  Downloading huggingface_hub-0.11.1-py3-none-any.whl (182 kB)\n",
            "\u001b[K     |████████████████████████████████| 182 kB 65.6 MB/s \n",
            "\u001b[?25hRequirement already satisfied: pyyaml>=5.1 in /usr/local/lib/python3.8/dist-packages (from transformers) (6.0)\n",
            "Requirement already satisfied: packaging>=20.0 in /usr/local/lib/python3.8/dist-packages (from transformers) (21.3)\n",
            "Collecting tokenizers!=0.11.3,<0.14,>=0.11.1\n",
            "  Downloading tokenizers-0.13.2-cp38-cp38-manylinux_2_17_x86_64.manylinux2014_x86_64.whl (7.6 MB)\n",
            "\u001b[K     |████████████████████████████████| 7.6 MB 38.8 MB/s \n",
            "\u001b[?25hRequirement already satisfied: typing-extensions>=3.7.4.3 in /usr/local/lib/python3.8/dist-packages (from huggingface-hub<1.0,>=0.10.0->transformers) (4.1.1)\n",
            "Requirement already satisfied: pyparsing!=3.0.5,>=2.0.2 in /usr/local/lib/python3.8/dist-packages (from packaging>=20.0->transformers) (3.0.9)\n",
            "Requirement already satisfied: certifi>=2017.4.17 in /usr/local/lib/python3.8/dist-packages (from requests->transformers) (2022.9.24)\n",
            "Requirement already satisfied: urllib3!=1.25.0,!=1.25.1,<1.26,>=1.21.1 in /usr/local/lib/python3.8/dist-packages (from requests->transformers) (1.24.3)\n",
            "Requirement already satisfied: idna<3,>=2.5 in /usr/local/lib/python3.8/dist-packages (from requests->transformers) (2.10)\n",
            "Requirement already satisfied: chardet<4,>=3.0.2 in /usr/local/lib/python3.8/dist-packages (from requests->transformers) (3.0.4)\n",
            "Installing collected packages: tokenizers, huggingface-hub, transformers\n",
            "Successfully installed huggingface-hub-0.11.1 tokenizers-0.13.2 transformers-4.25.1\n"
          ]
        }
      ]
    },
    {
      "cell_type": "code",
      "source": [
        "# For Weights and Biases\n",
        "!pip install -qq wandb"
      ],
      "metadata": {
        "id": "9dP8LQrVmNkF",
        "colab": {
          "base_uri": "https://localhost:8080/"
        },
        "outputId": "d1591110-6f8f-4b3f-a0ab-b511b333684e"
      },
      "execution_count": null,
      "outputs": [
        {
          "output_type": "stream",
          "name": "stdout",
          "text": [
            "\u001b[K     |████████████████████████████████| 1.9 MB 25.4 MB/s \n",
            "\u001b[K     |████████████████████████████████| 168 kB 64.9 MB/s \n",
            "\u001b[K     |████████████████████████████████| 182 kB 71.5 MB/s \n",
            "\u001b[K     |████████████████████████████████| 62 kB 1.5 MB/s \n",
            "\u001b[K     |████████████████████████████████| 168 kB 74.4 MB/s \n",
            "\u001b[K     |████████████████████████████████| 166 kB 77.4 MB/s \n",
            "\u001b[K     |████████████████████████████████| 166 kB 79.3 MB/s \n",
            "\u001b[K     |████████████████████████████████| 162 kB 72.6 MB/s \n",
            "\u001b[K     |████████████████████████████████| 162 kB 74.9 MB/s \n",
            "\u001b[K     |████████████████████████████████| 158 kB 77.9 MB/s \n",
            "\u001b[K     |████████████████████████████████| 157 kB 77.9 MB/s \n",
            "\u001b[K     |████████████████████████████████| 157 kB 81.5 MB/s \n",
            "\u001b[K     |████████████████████████████████| 157 kB 83.1 MB/s \n",
            "\u001b[K     |████████████████████████████████| 157 kB 80.7 MB/s \n",
            "\u001b[K     |████████████████████████████████| 157 kB 81.5 MB/s \n",
            "\u001b[K     |████████████████████████████████| 157 kB 82.6 MB/s \n",
            "\u001b[K     |████████████████████████████████| 157 kB 65.9 MB/s \n",
            "\u001b[K     |████████████████████████████████| 156 kB 86.6 MB/s \n",
            "\u001b[?25h  Building wheel for pathtools (setup.py) ... \u001b[?25l\u001b[?25hdone\n"
          ]
        }
      ]
    },
    {
      "cell_type": "code",
      "source": [
        "import wandb\n",
        "print(\"W&B: \", wandb.__version__)\n",
        "from wandb.keras import WandbCallback"
      ],
      "metadata": {
        "colab": {
          "base_uri": "https://localhost:8080/"
        },
        "id": "G4WTbjE2mUPa",
        "outputId": "e970544b-3a28-4ca9-e6ee-76e40a37c5f9"
      },
      "execution_count": null,
      "outputs": [
        {
          "output_type": "stream",
          "name": "stdout",
          "text": [
            "W&B:  0.13.6\n"
          ]
        }
      ]
    },
    {
      "cell_type": "code",
      "source": [
        "import wandb\n",
        "from wandb.keras import WandbCallback\n",
        "# wandb.init(project=\"hyperparam-test\", entity=\"ariq913\")\n",
        "wandb.init(project=\"Roberta-test\", entity=\"ariq913\")"
      ],
      "metadata": {
        "colab": {
          "base_uri": "https://localhost:8080/",
          "height": 563
        },
        "id": "TMh1xUwZn-3B",
        "outputId": "86a85eb8-9bd6-43c3-a80a-1fca15301007"
      },
      "execution_count": null,
      "outputs": [
        {
          "output_type": "stream",
          "name": "stderr",
          "text": [
            "ERROR:wandb.jupyter:Failed to detect the name of this notebook, you can set it manually with the WANDB_NOTEBOOK_NAME environment variable to enable code saving.\n"
          ]
        },
        {
          "output_type": "display_data",
          "data": {
            "text/plain": [
              "<IPython.core.display.Javascript object>"
            ],
            "application/javascript": [
              "\n",
              "        window._wandbApiKey = new Promise((resolve, reject) => {\n",
              "            function loadScript(url) {\n",
              "            return new Promise(function(resolve, reject) {\n",
              "                let newScript = document.createElement(\"script\");\n",
              "                newScript.onerror = reject;\n",
              "                newScript.onload = resolve;\n",
              "                document.body.appendChild(newScript);\n",
              "                newScript.src = url;\n",
              "            });\n",
              "            }\n",
              "            loadScript(\"https://cdn.jsdelivr.net/npm/postmate/build/postmate.min.js\").then(() => {\n",
              "            const iframe = document.createElement('iframe')\n",
              "            iframe.style.cssText = \"width:0;height:0;border:none\"\n",
              "            document.body.appendChild(iframe)\n",
              "            const handshake = new Postmate({\n",
              "                container: iframe,\n",
              "                url: 'https://wandb.ai/authorize'\n",
              "            });\n",
              "            const timeout = setTimeout(() => reject(\"Couldn't auto authenticate\"), 5000)\n",
              "            handshake.then(function(child) {\n",
              "                child.on('authorize', data => {\n",
              "                    clearTimeout(timeout)\n",
              "                    resolve(data)\n",
              "                });\n",
              "            });\n",
              "            })\n",
              "        });\n",
              "    "
            ]
          },
          "metadata": {}
        },
        {
          "output_type": "stream",
          "name": "stderr",
          "text": [
            "\u001b[34m\u001b[1mwandb\u001b[0m: Appending key for api.wandb.ai to your netrc file: /root/.netrc\n"
          ]
        },
        {
          "output_type": "display_data",
          "data": {
            "text/plain": [
              "<IPython.core.display.HTML object>"
            ],
            "text/html": [
              "Tracking run with wandb version 0.13.6"
            ]
          },
          "metadata": {}
        },
        {
          "output_type": "display_data",
          "data": {
            "text/plain": [
              "<IPython.core.display.HTML object>"
            ],
            "text/html": [
              "Run data is saved locally in <code>/content/wandb/run-20221206_185314-1ylewo3y</code>"
            ]
          },
          "metadata": {}
        },
        {
          "output_type": "display_data",
          "data": {
            "text/plain": [
              "<IPython.core.display.HTML object>"
            ],
            "text/html": [
              "Syncing run <strong><a href=\"https://wandb.ai/ariq913/Roberta-test/runs/1ylewo3y\" target=\"_blank\">copper-plant-1</a></strong> to <a href=\"https://wandb.ai/ariq913/Roberta-test\" target=\"_blank\">Weights & Biases</a> (<a href=\"https://wandb.me/run\" target=\"_blank\">docs</a>)<br/>"
            ]
          },
          "metadata": {}
        },
        {
          "output_type": "execute_result",
          "data": {
            "text/html": [
              "<button onClick=\"this.nextSibling.style.display='block';this.style.display='none';\">Display W&B run</button><iframe src=\"https://wandb.ai/ariq913/Roberta-test/runs/1ylewo3y?jupyter=true\" style=\"border:none;width:100%;height:420px;display:none;\"></iframe>"
            ],
            "text/plain": [
              "<wandb.sdk.wandb_run.Run at 0x7fbb1ba94c70>"
            ]
          },
          "metadata": {},
          "execution_count": 4
        }
      ]
    },
    {
      "cell_type": "code",
      "source": [
        "pip install tensorflow"
      ],
      "metadata": {
        "colab": {
          "base_uri": "https://localhost:8080/"
        },
        "id": "fO9udIWuJyjG",
        "outputId": "ccf8a615-7e25-4d08-f062-a5560d06b431"
      },
      "execution_count": null,
      "outputs": [
        {
          "output_type": "stream",
          "name": "stdout",
          "text": [
            "Looking in indexes: https://pypi.org/simple, https://us-python.pkg.dev/colab-wheels/public/simple/\n",
            "Requirement already satisfied: tensorflow in /usr/local/lib/python3.8/dist-packages (2.9.2)\n",
            "Requirement already satisfied: termcolor>=1.1.0 in /usr/local/lib/python3.8/dist-packages (from tensorflow) (2.1.1)\n",
            "Requirement already satisfied: keras-preprocessing>=1.1.1 in /usr/local/lib/python3.8/dist-packages (from tensorflow) (1.1.2)\n",
            "Requirement already satisfied: typing-extensions>=3.6.6 in /usr/local/lib/python3.8/dist-packages (from tensorflow) (4.1.1)\n",
            "Requirement already satisfied: google-pasta>=0.1.1 in /usr/local/lib/python3.8/dist-packages (from tensorflow) (0.2.0)\n",
            "Requirement already satisfied: keras<2.10.0,>=2.9.0rc0 in /usr/local/lib/python3.8/dist-packages (from tensorflow) (2.9.0)\n",
            "Requirement already satisfied: tensorboard<2.10,>=2.9 in /usr/local/lib/python3.8/dist-packages (from tensorflow) (2.9.1)\n",
            "Requirement already satisfied: numpy>=1.20 in /usr/local/lib/python3.8/dist-packages (from tensorflow) (1.21.6)\n",
            "Requirement already satisfied: gast<=0.4.0,>=0.2.1 in /usr/local/lib/python3.8/dist-packages (from tensorflow) (0.4.0)\n",
            "Requirement already satisfied: astunparse>=1.6.0 in /usr/local/lib/python3.8/dist-packages (from tensorflow) (1.6.3)\n",
            "Requirement already satisfied: packaging in /usr/local/lib/python3.8/dist-packages (from tensorflow) (21.3)\n",
            "Requirement already satisfied: h5py>=2.9.0 in /usr/local/lib/python3.8/dist-packages (from tensorflow) (3.1.0)\n",
            "Requirement already satisfied: opt-einsum>=2.3.2 in /usr/local/lib/python3.8/dist-packages (from tensorflow) (3.3.0)\n",
            "Requirement already satisfied: six>=1.12.0 in /usr/local/lib/python3.8/dist-packages (from tensorflow) (1.15.0)\n",
            "Requirement already satisfied: tensorflow-io-gcs-filesystem>=0.23.1 in /usr/local/lib/python3.8/dist-packages (from tensorflow) (0.28.0)\n",
            "Requirement already satisfied: protobuf<3.20,>=3.9.2 in /usr/local/lib/python3.8/dist-packages (from tensorflow) (3.19.6)\n",
            "Requirement already satisfied: wrapt>=1.11.0 in /usr/local/lib/python3.8/dist-packages (from tensorflow) (1.14.1)\n",
            "Requirement already satisfied: flatbuffers<2,>=1.12 in /usr/local/lib/python3.8/dist-packages (from tensorflow) (1.12)\n",
            "Requirement already satisfied: libclang>=13.0.0 in /usr/local/lib/python3.8/dist-packages (from tensorflow) (14.0.6)\n",
            "Requirement already satisfied: absl-py>=1.0.0 in /usr/local/lib/python3.8/dist-packages (from tensorflow) (1.3.0)\n",
            "Requirement already satisfied: setuptools in /usr/local/lib/python3.8/dist-packages (from tensorflow) (57.4.0)\n",
            "Requirement already satisfied: tensorflow-estimator<2.10.0,>=2.9.0rc0 in /usr/local/lib/python3.8/dist-packages (from tensorflow) (2.9.0)\n",
            "Requirement already satisfied: grpcio<2.0,>=1.24.3 in /usr/local/lib/python3.8/dist-packages (from tensorflow) (1.50.0)\n",
            "Requirement already satisfied: wheel<1.0,>=0.23.0 in /usr/local/lib/python3.8/dist-packages (from astunparse>=1.6.0->tensorflow) (0.38.4)\n",
            "Requirement already satisfied: requests<3,>=2.21.0 in /usr/local/lib/python3.8/dist-packages (from tensorboard<2.10,>=2.9->tensorflow) (2.23.0)\n",
            "Requirement already satisfied: google-auth-oauthlib<0.5,>=0.4.1 in /usr/local/lib/python3.8/dist-packages (from tensorboard<2.10,>=2.9->tensorflow) (0.4.6)\n",
            "Requirement already satisfied: google-auth<3,>=1.6.3 in /usr/local/lib/python3.8/dist-packages (from tensorboard<2.10,>=2.9->tensorflow) (2.14.1)\n",
            "Requirement already satisfied: werkzeug>=1.0.1 in /usr/local/lib/python3.8/dist-packages (from tensorboard<2.10,>=2.9->tensorflow) (1.0.1)\n",
            "Requirement already satisfied: tensorboard-plugin-wit>=1.6.0 in /usr/local/lib/python3.8/dist-packages (from tensorboard<2.10,>=2.9->tensorflow) (1.8.1)\n",
            "Requirement already satisfied: markdown>=2.6.8 in /usr/local/lib/python3.8/dist-packages (from tensorboard<2.10,>=2.9->tensorflow) (3.4.1)\n",
            "Requirement already satisfied: tensorboard-data-server<0.7.0,>=0.6.0 in /usr/local/lib/python3.8/dist-packages (from tensorboard<2.10,>=2.9->tensorflow) (0.6.1)\n",
            "Requirement already satisfied: pyasn1-modules>=0.2.1 in /usr/local/lib/python3.8/dist-packages (from google-auth<3,>=1.6.3->tensorboard<2.10,>=2.9->tensorflow) (0.2.8)\n",
            "Requirement already satisfied: cachetools<6.0,>=2.0.0 in /usr/local/lib/python3.8/dist-packages (from google-auth<3,>=1.6.3->tensorboard<2.10,>=2.9->tensorflow) (5.2.0)\n",
            "Requirement already satisfied: rsa<5,>=3.1.4 in /usr/local/lib/python3.8/dist-packages (from google-auth<3,>=1.6.3->tensorboard<2.10,>=2.9->tensorflow) (4.9)\n",
            "Requirement already satisfied: requests-oauthlib>=0.7.0 in /usr/local/lib/python3.8/dist-packages (from google-auth-oauthlib<0.5,>=0.4.1->tensorboard<2.10,>=2.9->tensorflow) (1.3.1)\n",
            "Requirement already satisfied: importlib-metadata>=4.4 in /usr/local/lib/python3.8/dist-packages (from markdown>=2.6.8->tensorboard<2.10,>=2.9->tensorflow) (4.13.0)\n",
            "Requirement already satisfied: zipp>=0.5 in /usr/local/lib/python3.8/dist-packages (from importlib-metadata>=4.4->markdown>=2.6.8->tensorboard<2.10,>=2.9->tensorflow) (3.10.0)\n",
            "Requirement already satisfied: pyasn1<0.5.0,>=0.4.6 in /usr/local/lib/python3.8/dist-packages (from pyasn1-modules>=0.2.1->google-auth<3,>=1.6.3->tensorboard<2.10,>=2.9->tensorflow) (0.4.8)\n",
            "Requirement already satisfied: idna<3,>=2.5 in /usr/local/lib/python3.8/dist-packages (from requests<3,>=2.21.0->tensorboard<2.10,>=2.9->tensorflow) (2.10)\n",
            "Requirement already satisfied: certifi>=2017.4.17 in /usr/local/lib/python3.8/dist-packages (from requests<3,>=2.21.0->tensorboard<2.10,>=2.9->tensorflow) (2022.9.24)\n",
            "Requirement already satisfied: urllib3!=1.25.0,!=1.25.1,<1.26,>=1.21.1 in /usr/local/lib/python3.8/dist-packages (from requests<3,>=2.21.0->tensorboard<2.10,>=2.9->tensorflow) (1.24.3)\n",
            "Requirement already satisfied: chardet<4,>=3.0.2 in /usr/local/lib/python3.8/dist-packages (from requests<3,>=2.21.0->tensorboard<2.10,>=2.9->tensorflow) (3.0.4)\n",
            "Requirement already satisfied: oauthlib>=3.0.0 in /usr/local/lib/python3.8/dist-packages (from requests-oauthlib>=0.7.0->google-auth-oauthlib<0.5,>=0.4.1->tensorboard<2.10,>=2.9->tensorflow) (3.2.2)\n",
            "Requirement already satisfied: pyparsing!=3.0.5,>=2.0.2 in /usr/local/lib/python3.8/dist-packages (from packaging->tensorflow) (3.0.9)\n"
          ]
        }
      ]
    },
    {
      "cell_type": "markdown",
      "metadata": {
        "id": "COmDlKemBJwR"
      },
      "source": [
        "![](img/prepare_dataset_bert.png)"
      ]
    },
    {
      "cell_type": "code",
      "execution_count": null,
      "metadata": {
        "tags": [],
        "id": "PGm7YWWZBJwT"
      },
      "outputs": [],
      "source": [
        "max_seq_length = 22"
      ]
    },
    {
      "cell_type": "code",
      "execution_count": null,
      "metadata": {
        "tags": [],
        "id": "sL6zoQAcBJwT"
      },
      "outputs": [],
      "source": [
        "import pandas as pd\n",
        "df=pd.read_csv(\"/content/drive/MyDrive/cleaned_twitter_sentiment_data.csv\")"
      ]
    },
    {
      "cell_type": "code",
      "execution_count": null,
      "metadata": {
        "tags": [],
        "colab": {
          "base_uri": "https://localhost:8080/",
          "height": 206
        },
        "id": "MzuqsjWIBJwT",
        "outputId": "d6a5f245-69b1-4c4f-b2f8-8a35c3aec536"
      },
      "outputs": [
        {
          "output_type": "execute_result",
          "data": {
            "text/plain": [
              "   Unnamed: 0 sentiment                                            message  \\\n",
              "0           0      Anti  climate change is an interesting hustle as it ...   \n",
              "1           1       Pro  rt watch right here as travels the world to ta...   \n",
              "2           2       Pro  fabulous leonardo s film on change is brillian...   \n",
              "3           3       Pro  rt just watched this amazing documentary by le...   \n",
              "4           4      News  rt pranita biswasi a lutheran from odisha give...   \n",
              "\n",
              "              tweetid  \n",
              "0  792927353886371840  \n",
              "1  793124211518832641  \n",
              "2  793124402388832256  \n",
              "3  793124635873275904  \n",
              "4  793125156185137153  "
            ],
            "text/html": [
              "\n",
              "  <div id=\"df-31b3d0c5-0b43-409c-95de-7d999322f28c\">\n",
              "    <div class=\"colab-df-container\">\n",
              "      <div>\n",
              "<style scoped>\n",
              "    .dataframe tbody tr th:only-of-type {\n",
              "        vertical-align: middle;\n",
              "    }\n",
              "\n",
              "    .dataframe tbody tr th {\n",
              "        vertical-align: top;\n",
              "    }\n",
              "\n",
              "    .dataframe thead th {\n",
              "        text-align: right;\n",
              "    }\n",
              "</style>\n",
              "<table border=\"1\" class=\"dataframe\">\n",
              "  <thead>\n",
              "    <tr style=\"text-align: right;\">\n",
              "      <th></th>\n",
              "      <th>Unnamed: 0</th>\n",
              "      <th>sentiment</th>\n",
              "      <th>message</th>\n",
              "      <th>tweetid</th>\n",
              "    </tr>\n",
              "  </thead>\n",
              "  <tbody>\n",
              "    <tr>\n",
              "      <th>0</th>\n",
              "      <td>0</td>\n",
              "      <td>Anti</td>\n",
              "      <td>climate change is an interesting hustle as it ...</td>\n",
              "      <td>792927353886371840</td>\n",
              "    </tr>\n",
              "    <tr>\n",
              "      <th>1</th>\n",
              "      <td>1</td>\n",
              "      <td>Pro</td>\n",
              "      <td>rt watch right here as travels the world to ta...</td>\n",
              "      <td>793124211518832641</td>\n",
              "    </tr>\n",
              "    <tr>\n",
              "      <th>2</th>\n",
              "      <td>2</td>\n",
              "      <td>Pro</td>\n",
              "      <td>fabulous leonardo s film on change is brillian...</td>\n",
              "      <td>793124402388832256</td>\n",
              "    </tr>\n",
              "    <tr>\n",
              "      <th>3</th>\n",
              "      <td>3</td>\n",
              "      <td>Pro</td>\n",
              "      <td>rt just watched this amazing documentary by le...</td>\n",
              "      <td>793124635873275904</td>\n",
              "    </tr>\n",
              "    <tr>\n",
              "      <th>4</th>\n",
              "      <td>4</td>\n",
              "      <td>News</td>\n",
              "      <td>rt pranita biswasi a lutheran from odisha give...</td>\n",
              "      <td>793125156185137153</td>\n",
              "    </tr>\n",
              "  </tbody>\n",
              "</table>\n",
              "</div>\n",
              "      <button class=\"colab-df-convert\" onclick=\"convertToInteractive('df-31b3d0c5-0b43-409c-95de-7d999322f28c')\"\n",
              "              title=\"Convert this dataframe to an interactive table.\"\n",
              "              style=\"display:none;\">\n",
              "        \n",
              "  <svg xmlns=\"http://www.w3.org/2000/svg\" height=\"24px\"viewBox=\"0 0 24 24\"\n",
              "       width=\"24px\">\n",
              "    <path d=\"M0 0h24v24H0V0z\" fill=\"none\"/>\n",
              "    <path d=\"M18.56 5.44l.94 2.06.94-2.06 2.06-.94-2.06-.94-.94-2.06-.94 2.06-2.06.94zm-11 1L8.5 8.5l.94-2.06 2.06-.94-2.06-.94L8.5 2.5l-.94 2.06-2.06.94zm10 10l.94 2.06.94-2.06 2.06-.94-2.06-.94-.94-2.06-.94 2.06-2.06.94z\"/><path d=\"M17.41 7.96l-1.37-1.37c-.4-.4-.92-.59-1.43-.59-.52 0-1.04.2-1.43.59L10.3 9.45l-7.72 7.72c-.78.78-.78 2.05 0 2.83L4 21.41c.39.39.9.59 1.41.59.51 0 1.02-.2 1.41-.59l7.78-7.78 2.81-2.81c.8-.78.8-2.07 0-2.86zM5.41 20L4 18.59l7.72-7.72 1.47 1.35L5.41 20z\"/>\n",
              "  </svg>\n",
              "      </button>\n",
              "      \n",
              "  <style>\n",
              "    .colab-df-container {\n",
              "      display:flex;\n",
              "      flex-wrap:wrap;\n",
              "      gap: 12px;\n",
              "    }\n",
              "\n",
              "    .colab-df-convert {\n",
              "      background-color: #E8F0FE;\n",
              "      border: none;\n",
              "      border-radius: 50%;\n",
              "      cursor: pointer;\n",
              "      display: none;\n",
              "      fill: #1967D2;\n",
              "      height: 32px;\n",
              "      padding: 0 0 0 0;\n",
              "      width: 32px;\n",
              "    }\n",
              "\n",
              "    .colab-df-convert:hover {\n",
              "      background-color: #E2EBFA;\n",
              "      box-shadow: 0px 1px 2px rgba(60, 64, 67, 0.3), 0px 1px 3px 1px rgba(60, 64, 67, 0.15);\n",
              "      fill: #174EA6;\n",
              "    }\n",
              "\n",
              "    [theme=dark] .colab-df-convert {\n",
              "      background-color: #3B4455;\n",
              "      fill: #D2E3FC;\n",
              "    }\n",
              "\n",
              "    [theme=dark] .colab-df-convert:hover {\n",
              "      background-color: #434B5C;\n",
              "      box-shadow: 0px 1px 3px 1px rgba(0, 0, 0, 0.15);\n",
              "      filter: drop-shadow(0px 1px 2px rgba(0, 0, 0, 0.3));\n",
              "      fill: #FFFFFF;\n",
              "    }\n",
              "  </style>\n",
              "\n",
              "      <script>\n",
              "        const buttonEl =\n",
              "          document.querySelector('#df-31b3d0c5-0b43-409c-95de-7d999322f28c button.colab-df-convert');\n",
              "        buttonEl.style.display =\n",
              "          google.colab.kernel.accessAllowed ? 'block' : 'none';\n",
              "\n",
              "        async function convertToInteractive(key) {\n",
              "          const element = document.querySelector('#df-31b3d0c5-0b43-409c-95de-7d999322f28c');\n",
              "          const dataTable =\n",
              "            await google.colab.kernel.invokeFunction('convertToInteractive',\n",
              "                                                     [key], {});\n",
              "          if (!dataTable) return;\n",
              "\n",
              "          const docLinkHtml = 'Like what you see? Visit the ' +\n",
              "            '<a target=\"_blank\" href=https://colab.research.google.com/notebooks/data_table.ipynb>data table notebook</a>'\n",
              "            + ' to learn more about interactive tables.';\n",
              "          element.innerHTML = '';\n",
              "          dataTable['output_type'] = 'display_data';\n",
              "          await google.colab.output.renderOutput(dataTable, element);\n",
              "          const docLink = document.createElement('div');\n",
              "          docLink.innerHTML = docLinkHtml;\n",
              "          element.appendChild(docLink);\n",
              "        }\n",
              "      </script>\n",
              "    </div>\n",
              "  </div>\n",
              "  "
            ]
          },
          "metadata": {},
          "execution_count": 9
        }
      ],
      "source": [
        "df.head()"
      ]
    },
    {
      "cell_type": "code",
      "execution_count": null,
      "metadata": {
        "tags": [],
        "colab": {
          "base_uri": "https://localhost:8080/"
        },
        "id": "mPUx1vBtBJwT",
        "outputId": "a36b7622-4d06-44d2-afe9-f3a5a182357d"
      },
      "outputs": [
        {
          "output_type": "stream",
          "name": "stdout",
          "text": [
            "<class 'pandas.core.frame.DataFrame'>\n",
            "RangeIndex: 43943 entries, 0 to 43942\n",
            "Data columns (total 4 columns):\n",
            " #   Column      Non-Null Count  Dtype \n",
            "---  ------      --------------  ----- \n",
            " 0   Unnamed: 0  43943 non-null  int64 \n",
            " 1   sentiment   43943 non-null  object\n",
            " 2   message     43881 non-null  object\n",
            " 3   tweetid     43943 non-null  int64 \n",
            "dtypes: int64(2), object(2)\n",
            "memory usage: 1.3+ MB\n"
          ]
        }
      ],
      "source": [
        "df.info()"
      ]
    },
    {
      "cell_type": "code",
      "source": [
        "df[\"length\"]=df[\"message\"].apply(lambda x: len(str(x).split(\" \")))"
      ],
      "metadata": {
        "id": "z_U3X6fwKOK6"
      },
      "execution_count": null,
      "outputs": []
    },
    {
      "cell_type": "code",
      "source": [
        "min(df[\"length\"])"
      ],
      "metadata": {
        "colab": {
          "base_uri": "https://localhost:8080/"
        },
        "id": "tyroblc_Kqxa",
        "outputId": "1a3bb07a-4003-4715-8f76-6f132209693a"
      },
      "execution_count": null,
      "outputs": [
        {
          "output_type": "execute_result",
          "data": {
            "text/plain": [
              "1"
            ]
          },
          "metadata": {},
          "execution_count": 12
        }
      ]
    },
    {
      "cell_type": "code",
      "source": [
        "s=set(df[\"sentiment\"])"
      ],
      "metadata": {
        "id": "cu1ZuWwgLTOR"
      },
      "execution_count": null,
      "outputs": []
    },
    {
      "cell_type": "code",
      "source": [
        "ch_to_int={'Anti':-1, 'News':1, 'Pro':2, 'Neutral':0}"
      ],
      "metadata": {
        "id": "0hIT6KQ2tomx"
      },
      "execution_count": null,
      "outputs": []
    },
    {
      "cell_type": "code",
      "source": [
        "df[\"sentiment\"]=df[\"sentiment\"].apply(lambda x: ch_to_int[x])"
      ],
      "metadata": {
        "id": "oUDs-A47trTr"
      },
      "execution_count": null,
      "outputs": []
    },
    {
      "cell_type": "code",
      "source": [
        "df = df.drop(df[df.length<5].index)\n"
      ],
      "metadata": {
        "id": "qFvQmecGLOjb"
      },
      "execution_count": null,
      "outputs": []
    },
    {
      "cell_type": "code",
      "source": [
        "df.info()"
      ],
      "metadata": {
        "colab": {
          "base_uri": "https://localhost:8080/"
        },
        "id": "PFGZIFi3LXTO",
        "outputId": "575e85f7-c19f-4343-eaa3-8194b06a31d6"
      },
      "execution_count": null,
      "outputs": [
        {
          "output_type": "stream",
          "name": "stdout",
          "text": [
            "<class 'pandas.core.frame.DataFrame'>\n",
            "Int64Index: 43559 entries, 0 to 43942\n",
            "Data columns (total 5 columns):\n",
            " #   Column      Non-Null Count  Dtype \n",
            "---  ------      --------------  ----- \n",
            " 0   Unnamed: 0  43559 non-null  int64 \n",
            " 1   sentiment   43559 non-null  int64 \n",
            " 2   message     43559 non-null  object\n",
            " 3   tweetid     43559 non-null  int64 \n",
            " 4   length      43559 non-null  int64 \n",
            "dtypes: int64(4), object(1)\n",
            "memory usage: 2.0+ MB\n"
          ]
        }
      ]
    },
    {
      "cell_type": "code",
      "execution_count": null,
      "metadata": {
        "tags": [],
        "colab": {
          "base_uri": "https://localhost:8080/"
        },
        "id": "FgbZmc1GBJwT",
        "outputId": "4d98fb54-5c70-469a-e764-3235bff395cf"
      },
      "outputs": [
        {
          "output_type": "stream",
          "name": "stdout",
          "text": [
            "{0, 1, 2, -1}\n"
          ]
        }
      ],
      "source": [
        "s=set(df[\"sentiment\"])\n",
        "print(s)"
      ]
    },
    {
      "cell_type": "code",
      "source": [
        "df.head()"
      ],
      "metadata": {
        "colab": {
          "base_uri": "https://localhost:8080/",
          "height": 206
        },
        "id": "sO8E-vHkywD1",
        "outputId": "3bb94b2d-7d2f-428e-f8b8-5a68cfb65450"
      },
      "execution_count": null,
      "outputs": [
        {
          "output_type": "execute_result",
          "data": {
            "text/plain": [
              "   Unnamed: 0  sentiment                                            message  \\\n",
              "0           0         -1  climate change is an interesting hustle as it ...   \n",
              "1           1          2  rt watch right here as travels the world to ta...   \n",
              "2           2          2  fabulous leonardo s film on change is brillian...   \n",
              "3           3          2  rt just watched this amazing documentary by le...   \n",
              "4           4          1  rt pranita biswasi a lutheran from odisha give...   \n",
              "\n",
              "              tweetid  length  \n",
              "0  792927353886371840      22  \n",
              "1  793124211518832641      13  \n",
              "2  793124402388832256      12  \n",
              "3  793124635873275904      16  \n",
              "4  793125156185137153      20  "
            ],
            "text/html": [
              "\n",
              "  <div id=\"df-e34a4d0d-03b6-4e6d-bdb9-c480e07304dd\">\n",
              "    <div class=\"colab-df-container\">\n",
              "      <div>\n",
              "<style scoped>\n",
              "    .dataframe tbody tr th:only-of-type {\n",
              "        vertical-align: middle;\n",
              "    }\n",
              "\n",
              "    .dataframe tbody tr th {\n",
              "        vertical-align: top;\n",
              "    }\n",
              "\n",
              "    .dataframe thead th {\n",
              "        text-align: right;\n",
              "    }\n",
              "</style>\n",
              "<table border=\"1\" class=\"dataframe\">\n",
              "  <thead>\n",
              "    <tr style=\"text-align: right;\">\n",
              "      <th></th>\n",
              "      <th>Unnamed: 0</th>\n",
              "      <th>sentiment</th>\n",
              "      <th>message</th>\n",
              "      <th>tweetid</th>\n",
              "      <th>length</th>\n",
              "    </tr>\n",
              "  </thead>\n",
              "  <tbody>\n",
              "    <tr>\n",
              "      <th>0</th>\n",
              "      <td>0</td>\n",
              "      <td>-1</td>\n",
              "      <td>climate change is an interesting hustle as it ...</td>\n",
              "      <td>792927353886371840</td>\n",
              "      <td>22</td>\n",
              "    </tr>\n",
              "    <tr>\n",
              "      <th>1</th>\n",
              "      <td>1</td>\n",
              "      <td>2</td>\n",
              "      <td>rt watch right here as travels the world to ta...</td>\n",
              "      <td>793124211518832641</td>\n",
              "      <td>13</td>\n",
              "    </tr>\n",
              "    <tr>\n",
              "      <th>2</th>\n",
              "      <td>2</td>\n",
              "      <td>2</td>\n",
              "      <td>fabulous leonardo s film on change is brillian...</td>\n",
              "      <td>793124402388832256</td>\n",
              "      <td>12</td>\n",
              "    </tr>\n",
              "    <tr>\n",
              "      <th>3</th>\n",
              "      <td>3</td>\n",
              "      <td>2</td>\n",
              "      <td>rt just watched this amazing documentary by le...</td>\n",
              "      <td>793124635873275904</td>\n",
              "      <td>16</td>\n",
              "    </tr>\n",
              "    <tr>\n",
              "      <th>4</th>\n",
              "      <td>4</td>\n",
              "      <td>1</td>\n",
              "      <td>rt pranita biswasi a lutheran from odisha give...</td>\n",
              "      <td>793125156185137153</td>\n",
              "      <td>20</td>\n",
              "    </tr>\n",
              "  </tbody>\n",
              "</table>\n",
              "</div>\n",
              "      <button class=\"colab-df-convert\" onclick=\"convertToInteractive('df-e34a4d0d-03b6-4e6d-bdb9-c480e07304dd')\"\n",
              "              title=\"Convert this dataframe to an interactive table.\"\n",
              "              style=\"display:none;\">\n",
              "        \n",
              "  <svg xmlns=\"http://www.w3.org/2000/svg\" height=\"24px\"viewBox=\"0 0 24 24\"\n",
              "       width=\"24px\">\n",
              "    <path d=\"M0 0h24v24H0V0z\" fill=\"none\"/>\n",
              "    <path d=\"M18.56 5.44l.94 2.06.94-2.06 2.06-.94-2.06-.94-.94-2.06-.94 2.06-2.06.94zm-11 1L8.5 8.5l.94-2.06 2.06-.94-2.06-.94L8.5 2.5l-.94 2.06-2.06.94zm10 10l.94 2.06.94-2.06 2.06-.94-2.06-.94-.94-2.06-.94 2.06-2.06.94z\"/><path d=\"M17.41 7.96l-1.37-1.37c-.4-.4-.92-.59-1.43-.59-.52 0-1.04.2-1.43.59L10.3 9.45l-7.72 7.72c-.78.78-.78 2.05 0 2.83L4 21.41c.39.39.9.59 1.41.59.51 0 1.02-.2 1.41-.59l7.78-7.78 2.81-2.81c.8-.78.8-2.07 0-2.86zM5.41 20L4 18.59l7.72-7.72 1.47 1.35L5.41 20z\"/>\n",
              "  </svg>\n",
              "      </button>\n",
              "      \n",
              "  <style>\n",
              "    .colab-df-container {\n",
              "      display:flex;\n",
              "      flex-wrap:wrap;\n",
              "      gap: 12px;\n",
              "    }\n",
              "\n",
              "    .colab-df-convert {\n",
              "      background-color: #E8F0FE;\n",
              "      border: none;\n",
              "      border-radius: 50%;\n",
              "      cursor: pointer;\n",
              "      display: none;\n",
              "      fill: #1967D2;\n",
              "      height: 32px;\n",
              "      padding: 0 0 0 0;\n",
              "      width: 32px;\n",
              "    }\n",
              "\n",
              "    .colab-df-convert:hover {\n",
              "      background-color: #E2EBFA;\n",
              "      box-shadow: 0px 1px 2px rgba(60, 64, 67, 0.3), 0px 1px 3px 1px rgba(60, 64, 67, 0.15);\n",
              "      fill: #174EA6;\n",
              "    }\n",
              "\n",
              "    [theme=dark] .colab-df-convert {\n",
              "      background-color: #3B4455;\n",
              "      fill: #D2E3FC;\n",
              "    }\n",
              "\n",
              "    [theme=dark] .colab-df-convert:hover {\n",
              "      background-color: #434B5C;\n",
              "      box-shadow: 0px 1px 3px 1px rgba(0, 0, 0, 0.15);\n",
              "      filter: drop-shadow(0px 1px 2px rgba(0, 0, 0, 0.3));\n",
              "      fill: #FFFFFF;\n",
              "    }\n",
              "  </style>\n",
              "\n",
              "      <script>\n",
              "        const buttonEl =\n",
              "          document.querySelector('#df-e34a4d0d-03b6-4e6d-bdb9-c480e07304dd button.colab-df-convert');\n",
              "        buttonEl.style.display =\n",
              "          google.colab.kernel.accessAllowed ? 'block' : 'none';\n",
              "\n",
              "        async function convertToInteractive(key) {\n",
              "          const element = document.querySelector('#df-e34a4d0d-03b6-4e6d-bdb9-c480e07304dd');\n",
              "          const dataTable =\n",
              "            await google.colab.kernel.invokeFunction('convertToInteractive',\n",
              "                                                     [key], {});\n",
              "          if (!dataTable) return;\n",
              "\n",
              "          const docLinkHtml = 'Like what you see? Visit the ' +\n",
              "            '<a target=\"_blank\" href=https://colab.research.google.com/notebooks/data_table.ipynb>data table notebook</a>'\n",
              "            + ' to learn more about interactive tables.';\n",
              "          element.innerHTML = '';\n",
              "          dataTable['output_type'] = 'display_data';\n",
              "          await google.colab.output.renderOutput(dataTable, element);\n",
              "          const docLink = document.createElement('div');\n",
              "          docLink.innerHTML = docLinkHtml;\n",
              "          element.appendChild(docLink);\n",
              "        }\n",
              "      </script>\n",
              "    </div>\n",
              "  </div>\n",
              "  "
            ]
          },
          "metadata": {},
          "execution_count": 19
        }
      ]
    },
    {
      "cell_type": "markdown",
      "metadata": {
        "id": "6eezUyJPBJwU"
      },
      "source": [
        "# Convert Raw Text to BERT Features using Hugging Face and TensorFlow"
      ]
    },
    {
      "cell_type": "code",
      "execution_count": null,
      "metadata": {
        "tags": [],
        "id": "d_Yg-CDSBJwU",
        "colab": {
          "base_uri": "https://localhost:8080/",
          "height": 113,
          "referenced_widgets": [
            "2c79333a14a944eea50ceaed03c6fbab",
            "ca90f82a349d46af9f9ceb39b4fa1e4d",
            "02779d6406ce437d908ceed28203e055",
            "eb60a63e79eb47ca94b7f92f3ba4092a",
            "ca8bb5d7e8fa4a77926e46eafe6b492e",
            "efb35298781640b7812113497093a3c2",
            "9228f45844af47548eeaa44c56e958f0",
            "fe5da18ef8094965ac0c05080525a0f6",
            "3de5f02ad2b246ada1fc8eb7ab60814d",
            "84fc913c74c344c3ad702288a1f2cdce",
            "218a6d97ef2542f99e7afab4e088aefa",
            "b0f83505f3d643f68022250377f8e35f",
            "3199badea29d47d596352504b98c58f4",
            "2db970052d1f4e00858cbd31d1b9aa95",
            "f17fbc3a62984f598963489f07525ddb",
            "5148d8b16d8a44b7b38df55e523db2cd",
            "2a060ecedb4641cca580414baaf59e13",
            "7105c89ca9834de9a2037c961e03de82",
            "19a2ff400a084427a76b1314af63905b",
            "1405f8aed67e480c86b40a5bbeb7ddf1",
            "b4c1f6ed94c143f89ec4988f8b3e6880",
            "2ca54f4cc80a4141b05108e6246c6666",
            "d45f59b9b60f4d58a428a1670ec175a3",
            "00297bd0be7544e888a87ddbba538bb4",
            "848806f2aeb6404096406f66538bb5ba",
            "dccaf923af96413299a970faec4b31e1",
            "49de934c143e4220b68fb17b55a46884",
            "ebc9b2a789a640d8b71b0bd97438a5c7",
            "dab31661a14a4c3abf0086667a3d122f",
            "ed727ae28cb6498e989b80d0fb187fb7",
            "d4126576d0494915b06369666bf5c038",
            "86d22adb3ceb422ca4c6a9bf9b627b2d",
            "1f520181369e4ddcbb557c31a8414009"
          ]
        },
        "outputId": "7816bdb6-9575-4765-cab0-4105b0be6f9a"
      },
      "outputs": [
        {
          "output_type": "display_data",
          "data": {
            "text/plain": [
              "Downloading:   0%|          | 0.00/899k [00:00<?, ?B/s]"
            ],
            "application/vnd.jupyter.widget-view+json": {
              "version_major": 2,
              "version_minor": 0,
              "model_id": "2c79333a14a944eea50ceaed03c6fbab"
            }
          },
          "metadata": {}
        },
        {
          "output_type": "display_data",
          "data": {
            "text/plain": [
              "Downloading:   0%|          | 0.00/456k [00:00<?, ?B/s]"
            ],
            "application/vnd.jupyter.widget-view+json": {
              "version_major": 2,
              "version_minor": 0,
              "model_id": "b0f83505f3d643f68022250377f8e35f"
            }
          },
          "metadata": {}
        },
        {
          "output_type": "display_data",
          "data": {
            "text/plain": [
              "Downloading:   0%|          | 0.00/481 [00:00<?, ?B/s]"
            ],
            "application/vnd.jupyter.widget-view+json": {
              "version_major": 2,
              "version_minor": 0,
              "model_id": "d45f59b9b60f4d58a428a1670ec175a3"
            }
          },
          "metadata": {}
        }
      ],
      "source": [
        "import tensorflow as tf\n",
        "import collections\n",
        "import json\n",
        "import os\n",
        "import pandas as pd\n",
        "import csv\n",
        "# from transformers import DistilBertTokenizer\n",
        "\n",
        "# tokenizer = DistilBertTokenizer.from_pretrained(\"distilbert-base-uncased\")\n",
        "\n",
        "from transformers import RobertaTokenizer\n",
        "tokenizer = RobertaTokenizer.from_pretrained('roberta-base')\n",
        "\n",
        "\n",
        "MESSAGE_COLUMN = \"message\"\n",
        "TWEETID_COLUMN = \"tweetid\"\n",
        "\n",
        "LABEL_COLUMN = \"sentiment\"\n",
        "LABEL_VALUES = [0,1,2,-1]\n",
        "\n",
        "label_map = {-1:0,0:1,1:2,2:3}\n",
        "# for (i, label) in enumerate(LABEL_VALUES):\n",
        "#     label_map[label] = i\n",
        "\n",
        "\n",
        "class InputFeatures(object):\n",
        "    \"\"\"BERT feature vectors.\"\"\"\n",
        "\n",
        "    def __init__(self, input_ids, input_mask, segment_ids, label_id, tweet_id, date, label):\n",
        "        self.input_ids = input_ids\n",
        "        self.input_mask = input_mask\n",
        "        self.segment_ids = segment_ids\n",
        "        self.label_id = label_id\n",
        "        self.tweet_id = tweet_id\n",
        "        self.date = date\n",
        "        self.label = label\n",
        "\n",
        "\n",
        "class Input(object):\n",
        "    \"\"\"A single training/test input for sequence classification.\"\"\"\n",
        "\n",
        "    def __init__(self, text, tweet_id, date, label=None):\n",
        "        \"\"\"Constructs an Input.\n",
        "        Args:\n",
        "          text: string. The untokenized text of the first sequence. For single\n",
        "            sequence tasks, only this sequence must be specified.\n",
        "          label: (Optional) string. The label of the example. This should be\n",
        "            specified for train and dev examples, but not for test examples.\n",
        "        \"\"\"\n",
        "        self.text = text\n",
        "        self.tweet_id = tweet_id\n",
        "        self.date = date\n",
        "        self.label = label\n",
        "\n",
        "\n",
        "def convert_input(the_input, max_seq_length):\n",
        "    tokens = tokenizer.tokenize(the_input.text)\n",
        "    tokens.insert(0, '[CLS]')\n",
        "    tokens.append('[SEP]')\n",
        "    # print(\"**{} tokens**\\n{}\\n\".format(len(tokens), tokens))\n",
        "\n",
        "    encode_plus_tokens = tokenizer.encode_plus(\n",
        "        the_input.text,\n",
        "        padding='max_length', \n",
        "        max_length=max_seq_length,\n",
        "        truncation=True\n",
        "    )\n",
        "    \n",
        "    # The id from the pre-trained BERT vocabulary that represents the token.  (Padding of 0 will be used if the # of tokens is less than `max_seq_length`)\n",
        "    input_ids = encode_plus_tokens[\"input_ids\"]\n",
        "\n",
        "    # Specifies which tokens BERT should pay attention to (0 or 1).  Padded `input_ids` will have 0 in each of these vector elements.\n",
        "    input_mask = encode_plus_tokens[\"attention_mask\"]\n",
        "\n",
        "    # Segment ids are always 0 for single-sequence tasks such as text classification.  1 is used for two-sequence tasks such as question/answer and next sentence prediction.\n",
        "    segment_ids = [0] * max_seq_length\n",
        "\n",
        "    # Label for each training row (`star_rating` 1 through 5)\n",
        "    label_id = label_map[the_input.label]\n",
        "    # print(\"Here \",the_input.tweet_id)\n",
        "    features = InputFeatures(\n",
        "        input_ids=input_ids,\n",
        "        input_mask=input_mask,\n",
        "        segment_ids=segment_ids,\n",
        "        label_id=label_id,\n",
        "        tweet_id=the_input.tweet_id,\n",
        "        date=the_input.date,\n",
        "        label=the_input.label,\n",
        "    )\n",
        "\n",
        "    # print(\"**{} input_ids**\\n{}\\n\".format(len(features.input_ids), features.input_ids))\n",
        "    # print(\"**{} input_mask**\\n{}\\n\".format(len(features.input_mask), features.input_mask))\n",
        "    # print(\"**{} segment_ids**\\n{}\\n\".format(len(features.segment_ids), features.segment_ids))\n",
        "    # print(\"**label_id**\\n{}\\n\".format(features.label_id))\n",
        "    # print(\"**tweet_id**\\n{}\\n\".format(features.tweet_id))\n",
        "    # print(\"**date**\\n{}\\n\".format(features.date))\n",
        "    # print(\"**label**\\n{}\\n\".format(features.label))\n",
        "\n",
        "    return features\n",
        "\n",
        "\n",
        "# We'll need to transform our data into a format that BERT understands.\n",
        "# - `text` is the text we want to classify, which in this case, is the `Request` field in our Dataframe.\n",
        "# - `label` is the star_rating label (1, 2, 3, 4, 5) for our training input data\n",
        "def transform_inputs_to_tfrecord(inputs, output_file, max_seq_length):\n",
        "    records = []\n",
        "    tf_record_writer = tf.io.TFRecordWriter(output_file)\n",
        "\n",
        "    for (input_idx, the_input) in enumerate(inputs):\n",
        "        if input_idx % 10000 == 0:\n",
        "            print(\"Writing input {} of {}\\n\".format(input_idx, len(inputs)))\n",
        "       \n",
        "        features = convert_input(the_input, max_seq_length)\n",
        "\n",
        "        all_features = collections.OrderedDict()\n",
        "\n",
        "        # Create TFRecord With input_ids, input_mask, segment_ids, and label_ids\n",
        "        all_features[\"input_ids\"] = tf.train.Feature(int64_list=tf.train.Int64List(value=features.input_ids))\n",
        "        all_features[\"input_mask\"] = tf.train.Feature(int64_list=tf.train.Int64List(value=features.input_mask))\n",
        "        all_features[\"segment_ids\"] = tf.train.Feature(int64_list=tf.train.Int64List(value=features.segment_ids))\n",
        "        all_features[\"label_ids\"] = tf.train.Feature(int64_list=tf.train.Int64List(value=[features.label_id]))\n",
        "\n",
        "        tf_record = tf.train.Example(features=tf.train.Features(feature=all_features))\n",
        "        tf_record_writer.write(tf_record.SerializeToString())\n",
        "\n",
        "        # Create Record For Feature Store With All Features\n",
        "        records.append(\n",
        "            {\n",
        "                \"input_ids\": features.input_ids,\n",
        "                \"input_mask\": features.input_mask,\n",
        "                \"segment_ids\": features.segment_ids,\n",
        "                \"label_id\": features.label_id,\n",
        "                \"tweet_id\": the_input.tweet_id,\n",
        "                \"date\": the_input.date,\n",
        "                \"label\": features.label,\n",
        "            }\n",
        "        )\n",
        "\n",
        "    tf_record_writer.close()\n",
        "\n",
        "    return records"
      ]
    },
    {
      "cell_type": "code",
      "source": [
        "df_grouped_by = df.groupby([\"sentiment\"])\n",
        "df_balanced = df_grouped_by.apply(\n",
        "            lambda x: x.sample(df_grouped_by.size().min()).reset_index(drop=True)\n",
        "        )\n",
        "df_balanced = df_balanced.reset_index(drop=True)\n",
        "print(\"Shape of balanced dataframe {}\".format(df_balanced.shape))\n",
        "\n",
        "print(df_balanced[\"sentiment\"].head(2))\n",
        "print(df_balanced[\"message\"].head(2))\n",
        "\n",
        "df = df_balanced\n",
        "df = df.sample(frac=1).reset_index(drop=True)\n",
        "df = df.sample(frac=1).reset_index(drop=True)"
      ],
      "metadata": {
        "colab": {
          "base_uri": "https://localhost:8080/"
        },
        "id": "gixFSFD8DDR-",
        "outputId": "bd59355f-15e1-438a-c073-099016be996b"
      },
      "execution_count": null,
      "outputs": [
        {
          "output_type": "stream",
          "name": "stdout",
          "text": [
            "Shape of balanced dataframe (15832, 5)\n",
            "0   -1\n",
            "1   -1\n",
            "Name: sentiment, dtype: int64\n",
            "0    debunking the claim they changed global warmin...\n",
            "1    and climate change hasn t killed any if past p...\n",
            "Name: message, dtype: object\n"
          ]
        }
      ]
    },
    {
      "cell_type": "code",
      "source": [
        "from sklearn.model_selection import train_test_split\n",
        "train_split_percentage=0.9\n",
        "test_split_percentage=0.05\n"
      ],
      "metadata": {
        "id": "VlC86pn-Mi2P"
      },
      "execution_count": null,
      "outputs": []
    },
    {
      "cell_type": "code",
      "source": [
        "holdout_percentage = 1.00 - train_split_percentage\n",
        "print(\"holdout percentage {}\".format(holdout_percentage))\n",
        "\n",
        "df_train, df_holdout = train_test_split(\n",
        "        df, test_size=holdout_percentage, stratify=df[\"sentiment\"]\n",
        "    )\n",
        "\n",
        "test_holdout_percentage = test_split_percentage / holdout_percentage\n",
        "\n",
        "print(\"test holdout percentage {}\".format(test_holdout_percentage))\n",
        "\n",
        "df_validation, df_test = train_test_split(\n",
        "        df_holdout, test_size=test_holdout_percentage, stratify=df_holdout[\"sentiment\"]\n",
        "    )\n",
        "\n",
        "df_train = df_train.reset_index(drop=True)\n",
        "df_validation = df_validation.reset_index(drop=True)\n",
        "df_test = df_test.reset_index(drop=True)\n"
      ],
      "metadata": {
        "colab": {
          "base_uri": "https://localhost:8080/"
        },
        "id": "iK61nzl4MWUu",
        "outputId": "9b3e2f0a-4f57-4baf-eb2f-0916a05fe0b7"
      },
      "execution_count": null,
      "outputs": [
        {
          "output_type": "stream",
          "name": "stdout",
          "text": [
            "holdout percentage 0.09999999999999998\n",
            "test holdout percentage 0.5000000000000001\n"
          ]
        }
      ]
    },
    {
      "cell_type": "code",
      "source": [
        "df_test.to_csv(\"test.csv\")"
      ],
      "metadata": {
        "id": "rhgFl_nPbB3j"
      },
      "execution_count": null,
      "outputs": []
    },
    {
      "cell_type": "code",
      "source": [
        "\n",
        "\n",
        "from datetime import datetime\n",
        "from time import gmtime, strftime, sleep\n",
        "timestamp = datetime.now().strftime(\"%Y-%m-%dT%H:%M:%SZ\")\n",
        "train_inputs = df_train.apply(\n",
        "        lambda x: Input(\n",
        "            label=x[LABEL_COLUMN],\n",
        "            text=x[MESSAGE_COLUMN],\n",
        "            tweet_id=x[TWEETID_COLUMN],\n",
        "            date=timestamp,\n",
        "        ),\n",
        "        axis=1,\n",
        "    )\n",
        "\n",
        "validation_inputs = df_validation.apply(\n",
        "        lambda x: Input(\n",
        "            label=x[LABEL_COLUMN],\n",
        "            text=x[MESSAGE_COLUMN],\n",
        "            tweet_id=x[TWEETID_COLUMN],\n",
        "            date=timestamp,\n",
        "        ),\n",
        "        axis=1,\n",
        "    )\n",
        "\n",
        "test_inputs = df_test.apply(\n",
        "        lambda x: Input(\n",
        "            label=x[LABEL_COLUMN],\n",
        "            text=x[MESSAGE_COLUMN],\n",
        "            tweet_id=x[TWEETID_COLUMN],\n",
        "            date=timestamp,\n",
        "        ),\n",
        "        axis=1,\n",
        "    )\n"
      ],
      "metadata": {
        "id": "KBNTogHCD_Sk"
      },
      "execution_count": null,
      "outputs": []
    },
    {
      "cell_type": "code",
      "execution_count": null,
      "metadata": {
        "tags": [],
        "id": "9Rn7dow7BJwV"
      },
      "outputs": [],
      "source": [
        "output_file = \"data.tfrecord\""
      ]
    },
    {
      "cell_type": "code",
      "source": [
        "train_data = \"/content/drive/MyDrive/bert/train/{}\".format(output_file)\n",
        "validation_data = \"/content/drive/MyDrive/bert/validation/{}\".format(output_file)\n",
        "test_data = \"/content/drive/MyDrive/bert/test/{}\".format(output_file)"
      ],
      "metadata": {
        "id": "yj9kxQyuEG48"
      },
      "execution_count": null,
      "outputs": []
    },
    {
      "cell_type": "code",
      "source": [
        "train_data"
      ],
      "metadata": {
        "colab": {
          "base_uri": "https://localhost:8080/",
          "height": 35
        },
        "id": "nQZ_0fSGOIai",
        "outputId": "c04f174b-07f0-426f-c6e4-cdaeca8e7fac"
      },
      "execution_count": null,
      "outputs": [
        {
          "output_type": "execute_result",
          "data": {
            "text/plain": [
              "'/content/drive/MyDrive/bert/train/data.tfrecord'"
            ],
            "application/vnd.google.colaboratory.intrinsic+json": {
              "type": "string"
            }
          },
          "metadata": {},
          "execution_count": 27
        }
      ]
    },
    {
      "cell_type": "code",
      "source": [
        "mkdir bert"
      ],
      "metadata": {
        "id": "jfjejGXROa8H"
      },
      "execution_count": null,
      "outputs": []
    },
    {
      "cell_type": "code",
      "source": [],
      "metadata": {
        "colab": {
          "base_uri": "https://localhost:8080/",
          "height": 35
        },
        "id": "zEjwCd_5OgMd",
        "outputId": "69a1c358-4d14-4ee0-9e88-1c5d29d71ab4"
      },
      "execution_count": null,
      "outputs": [
        {
          "output_type": "execute_result",
          "data": {
            "text/plain": [
              "'/content'"
            ],
            "application/vnd.google.colaboratory.intrinsic+json": {
              "type": "string"
            }
          },
          "metadata": {},
          "execution_count": 34
        }
      ]
    },
    {
      "cell_type": "code",
      "source": [
        "!touch $train_data"
      ],
      "metadata": {
        "id": "nYe1BWP-OFt2"
      },
      "execution_count": null,
      "outputs": []
    },
    {
      "cell_type": "code",
      "source": [
        "# !touch $validation_data\n",
        "!touch $test_data"
      ],
      "metadata": {
        "id": "rTqHuTfvO6fq"
      },
      "execution_count": null,
      "outputs": []
    },
    {
      "cell_type": "code",
      "source": [
        "tr_rec=transform_inputs_to_tfrecord(\n",
        "        train_inputs,\n",
        "        train_data,\n",
        "        max_seq_length,\n",
        "    )\n",
        "\n",
        "val_rec=transform_inputs_to_tfrecord(\n",
        "        validation_inputs,\n",
        "        validation_data,\n",
        "        max_seq_length,\n",
        "    )\n",
        "\n",
        "te_rec=transform_inputs_to_tfrecord(\n",
        "        test_inputs,\n",
        "        test_data,\n",
        "        max_seq_length,\n",
        "    )"
      ],
      "metadata": {
        "colab": {
          "base_uri": "https://localhost:8080/"
        },
        "id": "lvqPBedzFAmV",
        "outputId": "626a4ebc-3ab3-4d46-afb8-b8098121c2e3"
      },
      "execution_count": null,
      "outputs": [
        {
          "output_type": "stream",
          "name": "stdout",
          "text": [
            "Writing input 0 of 14248\n",
            "\n",
            "Writing input 10000 of 14248\n",
            "\n",
            "Writing input 0 of 791\n",
            "\n",
            "Writing input 0 of 793\n",
            "\n"
          ]
        }
      ]
    },
    {
      "cell_type": "code",
      "execution_count": null,
      "metadata": {
        "colab": {
          "base_uri": "https://localhost:8080/",
          "height": 641
        },
        "id": "kV-HzRkMBJwX",
        "outputId": "4ef42cc8-6d22-4bdb-c2a1-6107f8c02506"
      },
      "outputs": [
        {
          "output_type": "execute_result",
          "data": {
            "text/plain": [
              "                                               input_ids  \\\n",
              "0      [0, 9713, 52, 218, 326, 2333, 7244, 9, 24447, ...   \n",
              "1      [0, 9713, 475, 338, 992, 179, 1071, 37, 26, 95...   \n",
              "2      [0, 9713, 54, 161, 1228, 3519, 16, 562, 4487, ...   \n",
              "3      [0, 4651, 638, 44, 711, 44970, 17, 27, 5933, 7...   \n",
              "4      [0, 16714, 8807, 720, 8232, 460, 817, 5, 340, ...   \n",
              "...                                                  ...   \n",
              "14243  [0, 25800, 123, 16, 1368, 260, 67, 6908, 185, ...   \n",
              "14244  [0, 8287, 145, 38909, 836, 10229, 22241, 1315,...   \n",
              "14245  [0, 118, 2813, 720, 8232, 2425, 14, 939, 74, 2...   \n",
              "14246  [0, 9713, 6255, 268, 3968, 632, 573, 1856, 16,...   \n",
              "14247  [0, 9713, 6631, 81, 506, 6234, 8, 5, 3038, 9, ...   \n",
              "\n",
              "                                              input_mask  \\\n",
              "0      [1, 1, 1, 1, 1, 1, 1, 1, 1, 1, 1, 1, 1, 1, 1, ...   \n",
              "1      [1, 1, 1, 1, 1, 1, 1, 1, 1, 1, 1, 1, 1, 1, 1, ...   \n",
              "2      [1, 1, 1, 1, 1, 1, 1, 1, 1, 1, 1, 1, 1, 1, 1, ...   \n",
              "3      [1, 1, 1, 1, 1, 1, 1, 1, 1, 1, 1, 1, 1, 1, 1, ...   \n",
              "4      [1, 1, 1, 1, 1, 1, 1, 1, 1, 1, 1, 1, 1, 1, 1, ...   \n",
              "...                                                  ...   \n",
              "14243  [1, 1, 1, 1, 1, 1, 1, 1, 1, 1, 1, 1, 1, 1, 1, ...   \n",
              "14244  [1, 1, 1, 1, 1, 1, 1, 1, 1, 1, 1, 1, 1, 1, 1, ...   \n",
              "14245  [1, 1, 1, 1, 1, 1, 1, 1, 1, 1, 1, 1, 1, 1, 1, ...   \n",
              "14246  [1, 1, 1, 1, 1, 1, 1, 1, 1, 1, 1, 1, 0, 0, 0, ...   \n",
              "14247  [1, 1, 1, 1, 1, 1, 1, 1, 1, 1, 1, 1, 1, 1, 1, ...   \n",
              "\n",
              "                                             segment_ids  label_id  \\\n",
              "0      [0, 0, 0, 0, 0, 0, 0, 0, 0, 0, 0, 0, 0, 0, 0, ...         3   \n",
              "1      [0, 0, 0, 0, 0, 0, 0, 0, 0, 0, 0, 0, 0, 0, 0, ...         1   \n",
              "2      [0, 0, 0, 0, 0, 0, 0, 0, 0, 0, 0, 0, 0, 0, 0, ...         1   \n",
              "3      [0, 0, 0, 0, 0, 0, 0, 0, 0, 0, 0, 0, 0, 0, 0, ...         0   \n",
              "4      [0, 0, 0, 0, 0, 0, 0, 0, 0, 0, 0, 0, 0, 0, 0, ...         0   \n",
              "...                                                  ...       ...   \n",
              "14243  [0, 0, 0, 0, 0, 0, 0, 0, 0, 0, 0, 0, 0, 0, 0, ...         1   \n",
              "14244  [0, 0, 0, 0, 0, 0, 0, 0, 0, 0, 0, 0, 0, 0, 0, ...         0   \n",
              "14245  [0, 0, 0, 0, 0, 0, 0, 0, 0, 0, 0, 0, 0, 0, 0, ...         3   \n",
              "14246  [0, 0, 0, 0, 0, 0, 0, 0, 0, 0, 0, 0, 0, 0, 0, ...         2   \n",
              "14247  [0, 0, 0, 0, 0, 0, 0, 0, 0, 0, 0, 0, 0, 0, 0, ...         3   \n",
              "\n",
              "                 tweet_id                  date  label split_type  \n",
              "0      940128423397146626  2022-12-06T18:56:56Z      2      train  \n",
              "1      958577165699878912  2022-12-06T18:56:56Z      0      train  \n",
              "2      953709152827822080  2022-12-06T18:56:56Z      0      train  \n",
              "3      640206110151081984  2022-12-06T18:56:56Z     -1      train  \n",
              "4      868437485541576705  2022-12-06T18:56:56Z     -1      train  \n",
              "...                   ...                   ...    ...        ...  \n",
              "14243  958239516271132673  2022-12-06T18:56:56Z      0      train  \n",
              "14244  613141648692932608  2022-12-06T18:56:56Z     -1      train  \n",
              "14245  800698100373286912  2022-12-06T18:56:56Z      2      train  \n",
              "14246  654110652756197376  2022-12-06T18:56:56Z      1      train  \n",
              "14247  871958990082756609  2022-12-06T18:56:56Z      2      train  \n",
              "\n",
              "[14248 rows x 8 columns]"
            ],
            "text/html": [
              "\n",
              "  <div id=\"df-f93878e9-272a-4933-8e1c-f503e5a5ed1d\">\n",
              "    <div class=\"colab-df-container\">\n",
              "      <div>\n",
              "<style scoped>\n",
              "    .dataframe tbody tr th:only-of-type {\n",
              "        vertical-align: middle;\n",
              "    }\n",
              "\n",
              "    .dataframe tbody tr th {\n",
              "        vertical-align: top;\n",
              "    }\n",
              "\n",
              "    .dataframe thead th {\n",
              "        text-align: right;\n",
              "    }\n",
              "</style>\n",
              "<table border=\"1\" class=\"dataframe\">\n",
              "  <thead>\n",
              "    <tr style=\"text-align: right;\">\n",
              "      <th></th>\n",
              "      <th>input_ids</th>\n",
              "      <th>input_mask</th>\n",
              "      <th>segment_ids</th>\n",
              "      <th>label_id</th>\n",
              "      <th>tweet_id</th>\n",
              "      <th>date</th>\n",
              "      <th>label</th>\n",
              "      <th>split_type</th>\n",
              "    </tr>\n",
              "  </thead>\n",
              "  <tbody>\n",
              "    <tr>\n",
              "      <th>0</th>\n",
              "      <td>[0, 9713, 52, 218, 326, 2333, 7244, 9, 24447, ...</td>\n",
              "      <td>[1, 1, 1, 1, 1, 1, 1, 1, 1, 1, 1, 1, 1, 1, 1, ...</td>\n",
              "      <td>[0, 0, 0, 0, 0, 0, 0, 0, 0, 0, 0, 0, 0, 0, 0, ...</td>\n",
              "      <td>3</td>\n",
              "      <td>940128423397146626</td>\n",
              "      <td>2022-12-06T18:56:56Z</td>\n",
              "      <td>2</td>\n",
              "      <td>train</td>\n",
              "    </tr>\n",
              "    <tr>\n",
              "      <th>1</th>\n",
              "      <td>[0, 9713, 475, 338, 992, 179, 1071, 37, 26, 95...</td>\n",
              "      <td>[1, 1, 1, 1, 1, 1, 1, 1, 1, 1, 1, 1, 1, 1, 1, ...</td>\n",
              "      <td>[0, 0, 0, 0, 0, 0, 0, 0, 0, 0, 0, 0, 0, 0, 0, ...</td>\n",
              "      <td>1</td>\n",
              "      <td>958577165699878912</td>\n",
              "      <td>2022-12-06T18:56:56Z</td>\n",
              "      <td>0</td>\n",
              "      <td>train</td>\n",
              "    </tr>\n",
              "    <tr>\n",
              "      <th>2</th>\n",
              "      <td>[0, 9713, 54, 161, 1228, 3519, 16, 562, 4487, ...</td>\n",
              "      <td>[1, 1, 1, 1, 1, 1, 1, 1, 1, 1, 1, 1, 1, 1, 1, ...</td>\n",
              "      <td>[0, 0, 0, 0, 0, 0, 0, 0, 0, 0, 0, 0, 0, 0, 0, ...</td>\n",
              "      <td>1</td>\n",
              "      <td>953709152827822080</td>\n",
              "      <td>2022-12-06T18:56:56Z</td>\n",
              "      <td>0</td>\n",
              "      <td>train</td>\n",
              "    </tr>\n",
              "    <tr>\n",
              "      <th>3</th>\n",
              "      <td>[0, 4651, 638, 44, 711, 44970, 17, 27, 5933, 7...</td>\n",
              "      <td>[1, 1, 1, 1, 1, 1, 1, 1, 1, 1, 1, 1, 1, 1, 1, ...</td>\n",
              "      <td>[0, 0, 0, 0, 0, 0, 0, 0, 0, 0, 0, 0, 0, 0, 0, ...</td>\n",
              "      <td>0</td>\n",
              "      <td>640206110151081984</td>\n",
              "      <td>2022-12-06T18:56:56Z</td>\n",
              "      <td>-1</td>\n",
              "      <td>train</td>\n",
              "    </tr>\n",
              "    <tr>\n",
              "      <th>4</th>\n",
              "      <td>[0, 16714, 8807, 720, 8232, 460, 817, 5, 340, ...</td>\n",
              "      <td>[1, 1, 1, 1, 1, 1, 1, 1, 1, 1, 1, 1, 1, 1, 1, ...</td>\n",
              "      <td>[0, 0, 0, 0, 0, 0, 0, 0, 0, 0, 0, 0, 0, 0, 0, ...</td>\n",
              "      <td>0</td>\n",
              "      <td>868437485541576705</td>\n",
              "      <td>2022-12-06T18:56:56Z</td>\n",
              "      <td>-1</td>\n",
              "      <td>train</td>\n",
              "    </tr>\n",
              "    <tr>\n",
              "      <th>...</th>\n",
              "      <td>...</td>\n",
              "      <td>...</td>\n",
              "      <td>...</td>\n",
              "      <td>...</td>\n",
              "      <td>...</td>\n",
              "      <td>...</td>\n",
              "      <td>...</td>\n",
              "      <td>...</td>\n",
              "    </tr>\n",
              "    <tr>\n",
              "      <th>14243</th>\n",
              "      <td>[0, 25800, 123, 16, 1368, 260, 67, 6908, 185, ...</td>\n",
              "      <td>[1, 1, 1, 1, 1, 1, 1, 1, 1, 1, 1, 1, 1, 1, 1, ...</td>\n",
              "      <td>[0, 0, 0, 0, 0, 0, 0, 0, 0, 0, 0, 0, 0, 0, 0, ...</td>\n",
              "      <td>1</td>\n",
              "      <td>958239516271132673</td>\n",
              "      <td>2022-12-06T18:56:56Z</td>\n",
              "      <td>0</td>\n",
              "      <td>train</td>\n",
              "    </tr>\n",
              "    <tr>\n",
              "      <th>14244</th>\n",
              "      <td>[0, 8287, 145, 38909, 836, 10229, 22241, 1315,...</td>\n",
              "      <td>[1, 1, 1, 1, 1, 1, 1, 1, 1, 1, 1, 1, 1, 1, 1, ...</td>\n",
              "      <td>[0, 0, 0, 0, 0, 0, 0, 0, 0, 0, 0, 0, 0, 0, 0, ...</td>\n",
              "      <td>0</td>\n",
              "      <td>613141648692932608</td>\n",
              "      <td>2022-12-06T18:56:56Z</td>\n",
              "      <td>-1</td>\n",
              "      <td>train</td>\n",
              "    </tr>\n",
              "    <tr>\n",
              "      <th>14245</th>\n",
              "      <td>[0, 118, 2813, 720, 8232, 2425, 14, 939, 74, 2...</td>\n",
              "      <td>[1, 1, 1, 1, 1, 1, 1, 1, 1, 1, 1, 1, 1, 1, 1, ...</td>\n",
              "      <td>[0, 0, 0, 0, 0, 0, 0, 0, 0, 0, 0, 0, 0, 0, 0, ...</td>\n",
              "      <td>3</td>\n",
              "      <td>800698100373286912</td>\n",
              "      <td>2022-12-06T18:56:56Z</td>\n",
              "      <td>2</td>\n",
              "      <td>train</td>\n",
              "    </tr>\n",
              "    <tr>\n",
              "      <th>14246</th>\n",
              "      <td>[0, 9713, 6255, 268, 3968, 632, 573, 1856, 16,...</td>\n",
              "      <td>[1, 1, 1, 1, 1, 1, 1, 1, 1, 1, 1, 1, 0, 0, 0, ...</td>\n",
              "      <td>[0, 0, 0, 0, 0, 0, 0, 0, 0, 0, 0, 0, 0, 0, 0, ...</td>\n",
              "      <td>2</td>\n",
              "      <td>654110652756197376</td>\n",
              "      <td>2022-12-06T18:56:56Z</td>\n",
              "      <td>1</td>\n",
              "      <td>train</td>\n",
              "    </tr>\n",
              "    <tr>\n",
              "      <th>14247</th>\n",
              "      <td>[0, 9713, 6631, 81, 506, 6234, 8, 5, 3038, 9, ...</td>\n",
              "      <td>[1, 1, 1, 1, 1, 1, 1, 1, 1, 1, 1, 1, 1, 1, 1, ...</td>\n",
              "      <td>[0, 0, 0, 0, 0, 0, 0, 0, 0, 0, 0, 0, 0, 0, 0, ...</td>\n",
              "      <td>3</td>\n",
              "      <td>871958990082756609</td>\n",
              "      <td>2022-12-06T18:56:56Z</td>\n",
              "      <td>2</td>\n",
              "      <td>train</td>\n",
              "    </tr>\n",
              "  </tbody>\n",
              "</table>\n",
              "<p>14248 rows × 8 columns</p>\n",
              "</div>\n",
              "      <button class=\"colab-df-convert\" onclick=\"convertToInteractive('df-f93878e9-272a-4933-8e1c-f503e5a5ed1d')\"\n",
              "              title=\"Convert this dataframe to an interactive table.\"\n",
              "              style=\"display:none;\">\n",
              "        \n",
              "  <svg xmlns=\"http://www.w3.org/2000/svg\" height=\"24px\"viewBox=\"0 0 24 24\"\n",
              "       width=\"24px\">\n",
              "    <path d=\"M0 0h24v24H0V0z\" fill=\"none\"/>\n",
              "    <path d=\"M18.56 5.44l.94 2.06.94-2.06 2.06-.94-2.06-.94-.94-2.06-.94 2.06-2.06.94zm-11 1L8.5 8.5l.94-2.06 2.06-.94-2.06-.94L8.5 2.5l-.94 2.06-2.06.94zm10 10l.94 2.06.94-2.06 2.06-.94-2.06-.94-.94-2.06-.94 2.06-2.06.94z\"/><path d=\"M17.41 7.96l-1.37-1.37c-.4-.4-.92-.59-1.43-.59-.52 0-1.04.2-1.43.59L10.3 9.45l-7.72 7.72c-.78.78-.78 2.05 0 2.83L4 21.41c.39.39.9.59 1.41.59.51 0 1.02-.2 1.41-.59l7.78-7.78 2.81-2.81c.8-.78.8-2.07 0-2.86zM5.41 20L4 18.59l7.72-7.72 1.47 1.35L5.41 20z\"/>\n",
              "  </svg>\n",
              "      </button>\n",
              "      \n",
              "  <style>\n",
              "    .colab-df-container {\n",
              "      display:flex;\n",
              "      flex-wrap:wrap;\n",
              "      gap: 12px;\n",
              "    }\n",
              "\n",
              "    .colab-df-convert {\n",
              "      background-color: #E8F0FE;\n",
              "      border: none;\n",
              "      border-radius: 50%;\n",
              "      cursor: pointer;\n",
              "      display: none;\n",
              "      fill: #1967D2;\n",
              "      height: 32px;\n",
              "      padding: 0 0 0 0;\n",
              "      width: 32px;\n",
              "    }\n",
              "\n",
              "    .colab-df-convert:hover {\n",
              "      background-color: #E2EBFA;\n",
              "      box-shadow: 0px 1px 2px rgba(60, 64, 67, 0.3), 0px 1px 3px 1px rgba(60, 64, 67, 0.15);\n",
              "      fill: #174EA6;\n",
              "    }\n",
              "\n",
              "    [theme=dark] .colab-df-convert {\n",
              "      background-color: #3B4455;\n",
              "      fill: #D2E3FC;\n",
              "    }\n",
              "\n",
              "    [theme=dark] .colab-df-convert:hover {\n",
              "      background-color: #434B5C;\n",
              "      box-shadow: 0px 1px 3px 1px rgba(0, 0, 0, 0.15);\n",
              "      filter: drop-shadow(0px 1px 2px rgba(0, 0, 0, 0.3));\n",
              "      fill: #FFFFFF;\n",
              "    }\n",
              "  </style>\n",
              "\n",
              "      <script>\n",
              "        const buttonEl =\n",
              "          document.querySelector('#df-f93878e9-272a-4933-8e1c-f503e5a5ed1d button.colab-df-convert');\n",
              "        buttonEl.style.display =\n",
              "          google.colab.kernel.accessAllowed ? 'block' : 'none';\n",
              "\n",
              "        async function convertToInteractive(key) {\n",
              "          const element = document.querySelector('#df-f93878e9-272a-4933-8e1c-f503e5a5ed1d');\n",
              "          const dataTable =\n",
              "            await google.colab.kernel.invokeFunction('convertToInteractive',\n",
              "                                                     [key], {});\n",
              "          if (!dataTable) return;\n",
              "\n",
              "          const docLinkHtml = 'Like what you see? Visit the ' +\n",
              "            '<a target=\"_blank\" href=https://colab.research.google.com/notebooks/data_table.ipynb>data table notebook</a>'\n",
              "            + ' to learn more about interactive tables.';\n",
              "          element.innerHTML = '';\n",
              "          dataTable['output_type'] = 'display_data';\n",
              "          await google.colab.output.renderOutput(dataTable, element);\n",
              "          const docLink = document.createElement('div');\n",
              "          docLink.innerHTML = docLinkHtml;\n",
              "          element.appendChild(docLink);\n",
              "        }\n",
              "      </script>\n",
              "    </div>\n",
              "  </div>\n",
              "  "
            ]
          },
          "metadata": {},
          "execution_count": 29
        }
      ],
      "source": [
        "import pandas as pd\n",
        "\n",
        "tr_records = pd.DataFrame.from_dict(tr_rec)\n",
        "tr_records[\"split_type\"] = \"train\"\n",
        "tr_records"
      ]
    },
    {
      "cell_type": "code",
      "source": [
        "val_records = pd.DataFrame.from_dict(val_rec)\n",
        "val_records[\"split_type\"] = \"validation\"\n",
        "val_records"
      ],
      "metadata": {
        "colab": {
          "base_uri": "https://localhost:8080/",
          "height": 641
        },
        "id": "UZUCnq4HPxPa",
        "outputId": "e1422b9f-665e-4fa8-c839-fbaa9223938a"
      },
      "execution_count": null,
      "outputs": [
        {
          "output_type": "execute_result",
          "data": {
            "text/plain": [
              "                                             input_ids  \\\n",
              "0    [0, 9713, 16, 42, 147, 120, 49, 1114, 14, 2147...   \n",
              "1    [0, 179, 42, 169, 1236, 1851, 1809, 888, 2607,...   \n",
              "2    [0, 12229, 27121, 219, 794, 110, 3545, 1423, 2...   \n",
              "3    [0, 8155, 579, 567, 66, 7, 192, 162, 3008, 248...   \n",
              "4    [0, 9713, 720, 8232, 40, 478, 22555, 749, 1111...   \n",
              "..                                                 ...   \n",
              "786  [0, 9713, 1407, 5, 418, 720, 8232, 16, 122, 10...   \n",
              "787  [0, 9226, 266, 14524, 141, 602, 5, 4263, 9, 80...   \n",
              "788  [0, 9713, 18363, 1439, 26250, 1368, 2013, 607,...   \n",
              "789  [0, 9713, 5, 1104, 790, 161, 2147, 464, 1435, ...   \n",
              "790  [0, 9713, 6168, 2583, 3244, 2147, 464, 8, 7070...   \n",
              "\n",
              "                                            input_mask  \\\n",
              "0    [1, 1, 1, 1, 1, 1, 1, 1, 1, 1, 1, 1, 1, 1, 1, ...   \n",
              "1    [1, 1, 1, 1, 1, 1, 1, 1, 1, 1, 1, 1, 1, 1, 1, ...   \n",
              "2    [1, 1, 1, 1, 1, 1, 1, 1, 1, 1, 1, 1, 1, 1, 1, ...   \n",
              "3    [1, 1, 1, 1, 1, 1, 1, 1, 1, 1, 1, 1, 1, 1, 1, ...   \n",
              "4    [1, 1, 1, 1, 1, 1, 1, 1, 1, 1, 1, 0, 0, 0, 0, ...   \n",
              "..                                                 ...   \n",
              "786  [1, 1, 1, 1, 1, 1, 1, 1, 1, 1, 1, 1, 1, 1, 1, ...   \n",
              "787  [1, 1, 1, 1, 1, 1, 1, 1, 1, 1, 1, 1, 1, 1, 1, ...   \n",
              "788  [1, 1, 1, 1, 1, 1, 1, 1, 1, 1, 1, 1, 1, 1, 1, ...   \n",
              "789  [1, 1, 1, 1, 1, 1, 1, 1, 1, 1, 1, 1, 1, 1, 1, ...   \n",
              "790  [1, 1, 1, 1, 1, 1, 1, 1, 1, 1, 1, 1, 1, 1, 1, ...   \n",
              "\n",
              "                                           segment_ids  label_id  \\\n",
              "0    [0, 0, 0, 0, 0, 0, 0, 0, 0, 0, 0, 0, 0, 0, 0, ...         0   \n",
              "1    [0, 0, 0, 0, 0, 0, 0, 0, 0, 0, 0, 0, 0, 0, 0, ...         3   \n",
              "2    [0, 0, 0, 0, 0, 0, 0, 0, 0, 0, 0, 0, 0, 0, 0, ...         0   \n",
              "3    [0, 0, 0, 0, 0, 0, 0, 0, 0, 0, 0, 0, 0, 0, 0, ...         1   \n",
              "4    [0, 0, 0, 0, 0, 0, 0, 0, 0, 0, 0, 0, 0, 0, 0, ...         2   \n",
              "..                                                 ...       ...   \n",
              "786  [0, 0, 0, 0, 0, 0, 0, 0, 0, 0, 0, 0, 0, 0, 0, ...         0   \n",
              "787  [0, 0, 0, 0, 0, 0, 0, 0, 0, 0, 0, 0, 0, 0, 0, ...         1   \n",
              "788  [0, 0, 0, 0, 0, 0, 0, 0, 0, 0, 0, 0, 0, 0, 0, ...         2   \n",
              "789  [0, 0, 0, 0, 0, 0, 0, 0, 0, 0, 0, 0, 0, 0, 0, ...         2   \n",
              "790  [0, 0, 0, 0, 0, 0, 0, 0, 0, 0, 0, 0, 0, 0, 0, ...         1   \n",
              "\n",
              "               tweet_id                  date  label  split_type  \n",
              "0    672766644637143040  2022-12-06T18:56:56Z     -1  validation  \n",
              "1    952347480766771200  2022-12-06T18:56:56Z      2  validation  \n",
              "2    819279373438164993  2022-12-06T18:56:56Z     -1  validation  \n",
              "3    829243149134491648  2022-12-06T18:56:56Z      0  validation  \n",
              "4    732619240788918273  2022-12-06T18:56:56Z      1  validation  \n",
              "..                  ...                   ...    ...         ...  \n",
              "786  630451451752501248  2022-12-06T18:56:56Z     -1  validation  \n",
              "787  808008486030348288  2022-12-06T18:56:56Z      0  validation  \n",
              "788  844099871196008450  2022-12-06T18:56:56Z      1  validation  \n",
              "789  843730941684125696  2022-12-06T18:56:56Z      1  validation  \n",
              "790  601502713474584577  2022-12-06T18:56:56Z      0  validation  \n",
              "\n",
              "[791 rows x 8 columns]"
            ],
            "text/html": [
              "\n",
              "  <div id=\"df-017f181d-d8fe-4d5f-b7ca-9f2e09a7ac17\">\n",
              "    <div class=\"colab-df-container\">\n",
              "      <div>\n",
              "<style scoped>\n",
              "    .dataframe tbody tr th:only-of-type {\n",
              "        vertical-align: middle;\n",
              "    }\n",
              "\n",
              "    .dataframe tbody tr th {\n",
              "        vertical-align: top;\n",
              "    }\n",
              "\n",
              "    .dataframe thead th {\n",
              "        text-align: right;\n",
              "    }\n",
              "</style>\n",
              "<table border=\"1\" class=\"dataframe\">\n",
              "  <thead>\n",
              "    <tr style=\"text-align: right;\">\n",
              "      <th></th>\n",
              "      <th>input_ids</th>\n",
              "      <th>input_mask</th>\n",
              "      <th>segment_ids</th>\n",
              "      <th>label_id</th>\n",
              "      <th>tweet_id</th>\n",
              "      <th>date</th>\n",
              "      <th>label</th>\n",
              "      <th>split_type</th>\n",
              "    </tr>\n",
              "  </thead>\n",
              "  <tbody>\n",
              "    <tr>\n",
              "      <th>0</th>\n",
              "      <td>[0, 9713, 16, 42, 147, 120, 49, 1114, 14, 2147...</td>\n",
              "      <td>[1, 1, 1, 1, 1, 1, 1, 1, 1, 1, 1, 1, 1, 1, 1, ...</td>\n",
              "      <td>[0, 0, 0, 0, 0, 0, 0, 0, 0, 0, 0, 0, 0, 0, 0, ...</td>\n",
              "      <td>0</td>\n",
              "      <td>672766644637143040</td>\n",
              "      <td>2022-12-06T18:56:56Z</td>\n",
              "      <td>-1</td>\n",
              "      <td>validation</td>\n",
              "    </tr>\n",
              "    <tr>\n",
              "      <th>1</th>\n",
              "      <td>[0, 179, 42, 169, 1236, 1851, 1809, 888, 2607,...</td>\n",
              "      <td>[1, 1, 1, 1, 1, 1, 1, 1, 1, 1, 1, 1, 1, 1, 1, ...</td>\n",
              "      <td>[0, 0, 0, 0, 0, 0, 0, 0, 0, 0, 0, 0, 0, 0, 0, ...</td>\n",
              "      <td>3</td>\n",
              "      <td>952347480766771200</td>\n",
              "      <td>2022-12-06T18:56:56Z</td>\n",
              "      <td>2</td>\n",
              "      <td>validation</td>\n",
              "    </tr>\n",
              "    <tr>\n",
              "      <th>2</th>\n",
              "      <td>[0, 12229, 27121, 219, 794, 110, 3545, 1423, 2...</td>\n",
              "      <td>[1, 1, 1, 1, 1, 1, 1, 1, 1, 1, 1, 1, 1, 1, 1, ...</td>\n",
              "      <td>[0, 0, 0, 0, 0, 0, 0, 0, 0, 0, 0, 0, 0, 0, 0, ...</td>\n",
              "      <td>0</td>\n",
              "      <td>819279373438164993</td>\n",
              "      <td>2022-12-06T18:56:56Z</td>\n",
              "      <td>-1</td>\n",
              "      <td>validation</td>\n",
              "    </tr>\n",
              "    <tr>\n",
              "      <th>3</th>\n",
              "      <td>[0, 8155, 579, 567, 66, 7, 192, 162, 3008, 248...</td>\n",
              "      <td>[1, 1, 1, 1, 1, 1, 1, 1, 1, 1, 1, 1, 1, 1, 1, ...</td>\n",
              "      <td>[0, 0, 0, 0, 0, 0, 0, 0, 0, 0, 0, 0, 0, 0, 0, ...</td>\n",
              "      <td>1</td>\n",
              "      <td>829243149134491648</td>\n",
              "      <td>2022-12-06T18:56:56Z</td>\n",
              "      <td>0</td>\n",
              "      <td>validation</td>\n",
              "    </tr>\n",
              "    <tr>\n",
              "      <th>4</th>\n",
              "      <td>[0, 9713, 720, 8232, 40, 478, 22555, 749, 1111...</td>\n",
              "      <td>[1, 1, 1, 1, 1, 1, 1, 1, 1, 1, 1, 0, 0, 0, 0, ...</td>\n",
              "      <td>[0, 0, 0, 0, 0, 0, 0, 0, 0, 0, 0, 0, 0, 0, 0, ...</td>\n",
              "      <td>2</td>\n",
              "      <td>732619240788918273</td>\n",
              "      <td>2022-12-06T18:56:56Z</td>\n",
              "      <td>1</td>\n",
              "      <td>validation</td>\n",
              "    </tr>\n",
              "    <tr>\n",
              "      <th>...</th>\n",
              "      <td>...</td>\n",
              "      <td>...</td>\n",
              "      <td>...</td>\n",
              "      <td>...</td>\n",
              "      <td>...</td>\n",
              "      <td>...</td>\n",
              "      <td>...</td>\n",
              "      <td>...</td>\n",
              "    </tr>\n",
              "    <tr>\n",
              "      <th>786</th>\n",
              "      <td>[0, 9713, 1407, 5, 418, 720, 8232, 16, 122, 10...</td>\n",
              "      <td>[1, 1, 1, 1, 1, 1, 1, 1, 1, 1, 1, 1, 1, 1, 1, ...</td>\n",
              "      <td>[0, 0, 0, 0, 0, 0, 0, 0, 0, 0, 0, 0, 0, 0, 0, ...</td>\n",
              "      <td>0</td>\n",
              "      <td>630451451752501248</td>\n",
              "      <td>2022-12-06T18:56:56Z</td>\n",
              "      <td>-1</td>\n",
              "      <td>validation</td>\n",
              "    </tr>\n",
              "    <tr>\n",
              "      <th>787</th>\n",
              "      <td>[0, 9226, 266, 14524, 141, 602, 5, 4263, 9, 80...</td>\n",
              "      <td>[1, 1, 1, 1, 1, 1, 1, 1, 1, 1, 1, 1, 1, 1, 1, ...</td>\n",
              "      <td>[0, 0, 0, 0, 0, 0, 0, 0, 0, 0, 0, 0, 0, 0, 0, ...</td>\n",
              "      <td>1</td>\n",
              "      <td>808008486030348288</td>\n",
              "      <td>2022-12-06T18:56:56Z</td>\n",
              "      <td>0</td>\n",
              "      <td>validation</td>\n",
              "    </tr>\n",
              "    <tr>\n",
              "      <th>788</th>\n",
              "      <td>[0, 9713, 18363, 1439, 26250, 1368, 2013, 607,...</td>\n",
              "      <td>[1, 1, 1, 1, 1, 1, 1, 1, 1, 1, 1, 1, 1, 1, 1, ...</td>\n",
              "      <td>[0, 0, 0, 0, 0, 0, 0, 0, 0, 0, 0, 0, 0, 0, 0, ...</td>\n",
              "      <td>2</td>\n",
              "      <td>844099871196008450</td>\n",
              "      <td>2022-12-06T18:56:56Z</td>\n",
              "      <td>1</td>\n",
              "      <td>validation</td>\n",
              "    </tr>\n",
              "    <tr>\n",
              "      <th>789</th>\n",
              "      <td>[0, 9713, 5, 1104, 790, 161, 2147, 464, 1435, ...</td>\n",
              "      <td>[1, 1, 1, 1, 1, 1, 1, 1, 1, 1, 1, 1, 1, 1, 1, ...</td>\n",
              "      <td>[0, 0, 0, 0, 0, 0, 0, 0, 0, 0, 0, 0, 0, 0, 0, ...</td>\n",
              "      <td>2</td>\n",
              "      <td>843730941684125696</td>\n",
              "      <td>2022-12-06T18:56:56Z</td>\n",
              "      <td>1</td>\n",
              "      <td>validation</td>\n",
              "    </tr>\n",
              "    <tr>\n",
              "      <th>790</th>\n",
              "      <td>[0, 9713, 6168, 2583, 3244, 2147, 464, 8, 7070...</td>\n",
              "      <td>[1, 1, 1, 1, 1, 1, 1, 1, 1, 1, 1, 1, 1, 1, 1, ...</td>\n",
              "      <td>[0, 0, 0, 0, 0, 0, 0, 0, 0, 0, 0, 0, 0, 0, 0, ...</td>\n",
              "      <td>1</td>\n",
              "      <td>601502713474584577</td>\n",
              "      <td>2022-12-06T18:56:56Z</td>\n",
              "      <td>0</td>\n",
              "      <td>validation</td>\n",
              "    </tr>\n",
              "  </tbody>\n",
              "</table>\n",
              "<p>791 rows × 8 columns</p>\n",
              "</div>\n",
              "      <button class=\"colab-df-convert\" onclick=\"convertToInteractive('df-017f181d-d8fe-4d5f-b7ca-9f2e09a7ac17')\"\n",
              "              title=\"Convert this dataframe to an interactive table.\"\n",
              "              style=\"display:none;\">\n",
              "        \n",
              "  <svg xmlns=\"http://www.w3.org/2000/svg\" height=\"24px\"viewBox=\"0 0 24 24\"\n",
              "       width=\"24px\">\n",
              "    <path d=\"M0 0h24v24H0V0z\" fill=\"none\"/>\n",
              "    <path d=\"M18.56 5.44l.94 2.06.94-2.06 2.06-.94-2.06-.94-.94-2.06-.94 2.06-2.06.94zm-11 1L8.5 8.5l.94-2.06 2.06-.94-2.06-.94L8.5 2.5l-.94 2.06-2.06.94zm10 10l.94 2.06.94-2.06 2.06-.94-2.06-.94-.94-2.06-.94 2.06-2.06.94z\"/><path d=\"M17.41 7.96l-1.37-1.37c-.4-.4-.92-.59-1.43-.59-.52 0-1.04.2-1.43.59L10.3 9.45l-7.72 7.72c-.78.78-.78 2.05 0 2.83L4 21.41c.39.39.9.59 1.41.59.51 0 1.02-.2 1.41-.59l7.78-7.78 2.81-2.81c.8-.78.8-2.07 0-2.86zM5.41 20L4 18.59l7.72-7.72 1.47 1.35L5.41 20z\"/>\n",
              "  </svg>\n",
              "      </button>\n",
              "      \n",
              "  <style>\n",
              "    .colab-df-container {\n",
              "      display:flex;\n",
              "      flex-wrap:wrap;\n",
              "      gap: 12px;\n",
              "    }\n",
              "\n",
              "    .colab-df-convert {\n",
              "      background-color: #E8F0FE;\n",
              "      border: none;\n",
              "      border-radius: 50%;\n",
              "      cursor: pointer;\n",
              "      display: none;\n",
              "      fill: #1967D2;\n",
              "      height: 32px;\n",
              "      padding: 0 0 0 0;\n",
              "      width: 32px;\n",
              "    }\n",
              "\n",
              "    .colab-df-convert:hover {\n",
              "      background-color: #E2EBFA;\n",
              "      box-shadow: 0px 1px 2px rgba(60, 64, 67, 0.3), 0px 1px 3px 1px rgba(60, 64, 67, 0.15);\n",
              "      fill: #174EA6;\n",
              "    }\n",
              "\n",
              "    [theme=dark] .colab-df-convert {\n",
              "      background-color: #3B4455;\n",
              "      fill: #D2E3FC;\n",
              "    }\n",
              "\n",
              "    [theme=dark] .colab-df-convert:hover {\n",
              "      background-color: #434B5C;\n",
              "      box-shadow: 0px 1px 3px 1px rgba(0, 0, 0, 0.15);\n",
              "      filter: drop-shadow(0px 1px 2px rgba(0, 0, 0, 0.3));\n",
              "      fill: #FFFFFF;\n",
              "    }\n",
              "  </style>\n",
              "\n",
              "      <script>\n",
              "        const buttonEl =\n",
              "          document.querySelector('#df-017f181d-d8fe-4d5f-b7ca-9f2e09a7ac17 button.colab-df-convert');\n",
              "        buttonEl.style.display =\n",
              "          google.colab.kernel.accessAllowed ? 'block' : 'none';\n",
              "\n",
              "        async function convertToInteractive(key) {\n",
              "          const element = document.querySelector('#df-017f181d-d8fe-4d5f-b7ca-9f2e09a7ac17');\n",
              "          const dataTable =\n",
              "            await google.colab.kernel.invokeFunction('convertToInteractive',\n",
              "                                                     [key], {});\n",
              "          if (!dataTable) return;\n",
              "\n",
              "          const docLinkHtml = 'Like what you see? Visit the ' +\n",
              "            '<a target=\"_blank\" href=https://colab.research.google.com/notebooks/data_table.ipynb>data table notebook</a>'\n",
              "            + ' to learn more about interactive tables.';\n",
              "          element.innerHTML = '';\n",
              "          dataTable['output_type'] = 'display_data';\n",
              "          await google.colab.output.renderOutput(dataTable, element);\n",
              "          const docLink = document.createElement('div');\n",
              "          docLink.innerHTML = docLinkHtml;\n",
              "          element.appendChild(docLink);\n",
              "        }\n",
              "      </script>\n",
              "    </div>\n",
              "  </div>\n",
              "  "
            ]
          },
          "metadata": {},
          "execution_count": 30
        }
      ]
    },
    {
      "cell_type": "code",
      "source": [],
      "metadata": {
        "id": "lt9qb67HP7mQ"
      },
      "execution_count": null,
      "outputs": []
    },
    {
      "cell_type": "markdown",
      "metadata": {
        "id": "IsPNhz3CBJwX"
      },
      "source": [
        "# Cast DataFrame `Object` to Supported Feature Store Data Type `String`"
      ]
    },
    {
      "cell_type": "code",
      "execution_count": null,
      "metadata": {
        "id": "2QY7sCyLBJwX"
      },
      "outputs": [],
      "source": [
        "def cast_object_to_string(data_frame):\n",
        "    for label in data_frame.columns:\n",
        "        if data_frame.dtypes[label] == \"object\":\n",
        "            data_frame[label] = data_frame[label].astype(\"str\").astype(\"string\")"
      ]
    },
    {
      "cell_type": "code",
      "execution_count": null,
      "metadata": {
        "id": "VMoX7_GQBJwY"
      },
      "outputs": [],
      "source": [
        "import tensorflow as tf\n",
        "from transformers import RobertaTokenizer\n",
        "from transformers import TFRobertaForSequenceClassification,TFAutoModelForSequenceClassification\n",
        "from transformers import RobertaConfig"
      ]
    },
    {
      "cell_type": "code",
      "source": [
        "def select_data_and_label_from_record(record):\n",
        "    x = {\n",
        "        \"input_ids\": record[\"input_ids\"],\n",
        "        \"input_mask\": record[\"input_mask\"],\n",
        "    }\n",
        "    y = record[\"label_ids\"]\n",
        "\n",
        "    return (x, y)"
      ],
      "metadata": {
        "id": "DGgJ2a65T70B"
      },
      "execution_count": null,
      "outputs": []
    },
    {
      "cell_type": "code",
      "source": [
        "def file_based_input_dataset_builder(channel, input_filenames, max_seq_length, is_training, drop_remainder):\n",
        "    # For training, we want a lot of parallel reading and shuffling.\n",
        "    # For eval, we want no shuffling and parallel reading doesn't matter.\n",
        "\n",
        "    dataset = tf.data.TFRecordDataset(input_filenames)\n",
        "    dataset = dataset.repeat(100)\n",
        "    dataset = dataset.prefetch(tf.data.experimental.AUTOTUNE)\n",
        "\n",
        "    name_to_features = {\n",
        "        \"input_ids\": tf.io.FixedLenFeature([max_seq_length], tf.int64),\n",
        "        \"input_mask\": tf.io.FixedLenFeature([max_seq_length], tf.int64),\n",
        "        \"label_ids\": tf.io.FixedLenFeature([], tf.int64),\n",
        "    }\n",
        "\n",
        "    def _decode_record(record, name_to_features):\n",
        "        \"\"\"Decodes a record to a TensorFlow example.\"\"\"\n",
        "        return tf.io.parse_single_example(record, name_to_features)\n",
        "\n",
        "    dataset = dataset.apply(\n",
        "        tf.data.experimental.map_and_batch(\n",
        "            lambda record: _decode_record(record, name_to_features),\n",
        "            batch_size=16,\n",
        "            drop_remainder=drop_remainder,\n",
        "            num_parallel_calls=tf.data.experimental.AUTOTUNE,\n",
        "        )\n",
        "    )\n",
        "\n",
        "    dataset.cache()\n",
        "\n",
        "    if is_training:\n",
        "        dataset = dataset.shuffle(seed=42, buffer_size=10, reshuffle_each_iteration=True)\n",
        "\n",
        "    return dataset"
      ],
      "metadata": {
        "id": "umgT1g-QUF3b"
      },
      "execution_count": null,
      "outputs": []
    },
    {
      "cell_type": "code",
      "source": [
        "\n",
        "train_dataset = file_based_input_dataset_builder(\n",
        "    channel=\"train\", input_filenames=train_data, max_seq_length=max_seq_length, is_training=True, drop_remainder=False\n",
        ").map(select_data_and_label_from_record)"
      ],
      "metadata": {
        "colab": {
          "base_uri": "https://localhost:8080/"
        },
        "id": "m2pe6M2AUoRr",
        "outputId": "2b5b86e8-37d0-40b2-a0dd-2bab2ec6540c"
      },
      "execution_count": null,
      "outputs": [
        {
          "output_type": "stream",
          "name": "stderr",
          "text": [
            "WARNING:tensorflow:From <ipython-input-34-a5341f9223c3>:20: map_and_batch (from tensorflow.python.data.experimental.ops.batching) is deprecated and will be removed in a future version.\n",
            "Instructions for updating:\n",
            "Use `tf.data.Dataset.map(map_func, num_parallel_calls)` followed by `tf.data.Dataset.batch(batch_size, drop_remainder)`. Static tf.data optimizations will take care of using the fused implementation.\n"
          ]
        }
      ]
    },
    {
      "cell_type": "code",
      "source": [
        "train_dataset"
      ],
      "metadata": {
        "colab": {
          "base_uri": "https://localhost:8080/"
        },
        "id": "pzzAIyYke4YW",
        "outputId": "ac8fb45b-c74f-4d6e-8e53-fb9ac536acd4"
      },
      "execution_count": null,
      "outputs": [
        {
          "output_type": "execute_result",
          "data": {
            "text/plain": [
              "<MapDataset element_spec=({'input_ids': TensorSpec(shape=(None, 22), dtype=tf.int64, name=None), 'input_mask': TensorSpec(shape=(None, 22), dtype=tf.int64, name=None)}, TensorSpec(shape=(None,), dtype=tf.int64, name=None))>"
            ]
          },
          "metadata": {},
          "execution_count": 36
        }
      ]
    },
    {
      "cell_type": "code",
      "source": [
        "validation_dataset = file_based_input_dataset_builder(\n",
        "    channel=\"validation\",\n",
        "    input_filenames=validation_data,\n",
        "    max_seq_length=max_seq_length,\n",
        "    is_training=False,\n",
        "    drop_remainder=False,\n",
        ").map(select_data_and_label_from_record)"
      ],
      "metadata": {
        "id": "jGt_MuKBUsLA"
      },
      "execution_count": null,
      "outputs": []
    },
    {
      "cell_type": "code",
      "source": [
        "validation_dataset"
      ],
      "metadata": {
        "colab": {
          "base_uri": "https://localhost:8080/"
        },
        "id": "eiGYTEbGe7YF",
        "outputId": "f195b9b0-cde8-4790-8b69-2615939be958"
      },
      "execution_count": null,
      "outputs": [
        {
          "output_type": "execute_result",
          "data": {
            "text/plain": [
              "<MapDataset element_spec=({'input_ids': TensorSpec(shape=(None, 22), dtype=tf.int64, name=None), 'input_mask': TensorSpec(shape=(None, 22), dtype=tf.int64, name=None)}, TensorSpec(shape=(None,), dtype=tf.int64, name=None))>"
            ]
          },
          "metadata": {},
          "execution_count": 38
        }
      ]
    },
    {
      "cell_type": "code",
      "source": [
        "test_dataset = file_based_input_dataset_builder(\n",
        "    channel=\"test\",\n",
        "    input_filenames=test_data,\n",
        "    max_seq_length=max_seq_length,\n",
        "    is_training=False,\n",
        "    drop_remainder=False,\n",
        ").map(select_data_and_label_from_record)"
      ],
      "metadata": {
        "id": "_ztcO_4PVQvt"
      },
      "execution_count": null,
      "outputs": []
    },
    {
      "cell_type": "code",
      "source": [
        "epochs = 180\n",
        "steps_per_epoch = 50\n",
        "validation_steps = 50\n",
        "test_steps = 50\n",
        "freeze_bert_layer = True\n",
        "learning_rate = 3e-5\n",
        "epsilon = 1e-08\n",
        "max_seq_length = max_seq_length"
      ],
      "metadata": {
        "id": "4HJsqDbXVZvJ"
      },
      "execution_count": null,
      "outputs": []
    },
    {
      "cell_type": "code",
      "source": [
        "wandb.config = {\n",
        "    \"epochs\":epochs,\n",
        "  \"learning_rate\": learning_rate,\n",
        "  \"max_seq_length\": max_seq_length,\n",
        "  \"freeze_bert_layer\":freeze_bert_layer,\n",
        "  \"number_of_freeze\":2\n",
        "  \n",
        "}"
      ],
      "metadata": {
        "id": "IShFQCXxoSDT"
      },
      "execution_count": null,
      "outputs": []
    },
    {
      "cell_type": "code",
      "source": [
        "CLASSES = [-1,0,1,2]\n",
        "\n",
        "config = RobertaTokenizer.from_pretrained(\n",
        "    \"roberta-base\",\n",
        "    num_labels=len(CLASSES),\n",
        "    id2label={0:-1,1:0,2:1,3:2},\n",
        "    label2id={-1:0,0:1,1:2,2:3},\n",
        ")\n",
        "print(config)"
      ],
      "metadata": {
        "colab": {
          "base_uri": "https://localhost:8080/"
        },
        "id": "iBnsSoUxVncU",
        "outputId": "9435ab38-1943-4835-b531-d97c7675b04d"
      },
      "execution_count": null,
      "outputs": [
        {
          "output_type": "stream",
          "name": "stdout",
          "text": [
            "PreTrainedTokenizer(name_or_path='roberta-base', vocab_size=50265, model_max_len=512, is_fast=False, padding_side='right', truncation_side='right', special_tokens={'bos_token': AddedToken(\"<s>\", rstrip=False, lstrip=False, single_word=False, normalized=True), 'eos_token': AddedToken(\"</s>\", rstrip=False, lstrip=False, single_word=False, normalized=True), 'unk_token': AddedToken(\"<unk>\", rstrip=False, lstrip=False, single_word=False, normalized=True), 'sep_token': AddedToken(\"</s>\", rstrip=False, lstrip=False, single_word=False, normalized=True), 'pad_token': AddedToken(\"<pad>\", rstrip=False, lstrip=False, single_word=False, normalized=True), 'cls_token': AddedToken(\"<s>\", rstrip=False, lstrip=False, single_word=False, normalized=True), 'mask_token': AddedToken(\"<mask>\", rstrip=False, lstrip=True, single_word=False, normalized=True)})\n"
          ]
        }
      ]
    },
    {
      "cell_type": "code",
      "source": [
        "transformer_model = TFAutoModelForSequenceClassification.from_pretrained(\"roberta-base\", config=config)\n",
        "\n",
        "input_ids = tf.keras.layers.Input(shape=(max_seq_length,), name=\"input_ids\", dtype=\"int32\")\n",
        "input_mask = tf.keras.layers.Input(shape=(max_seq_length,), name=\"input_mask\", dtype=\"int32\")\n",
        "\n",
        "embedding_layer = transformer_model.roberta(input_ids, attention_mask=input_mask)[0]\n",
        "X = tf.keras.layers.Bidirectional(tf.keras.layers.LSTM(32, return_sequences=True, dropout=0.1, recurrent_dropout=0.1))(\n",
        "    embedding_layer\n",
        ")\n",
        "X = tf.keras.layers.GlobalMaxPool1D()(X)\n",
        "X = tf.keras.layers.Dense(32, activation=\"relu\")(X)\n",
        "X = tf.keras.layers.Dropout(0.2)(X)\n",
        "X = tf.keras.layers.Dense(len(CLASSES), activation=\"softmax\")(X)\n",
        "\n",
        "model = tf.keras.Model(inputs=[input_ids, input_mask], outputs=X)\n",
        "\n",
        "for layer in model.layers[:2]:\n",
        "    layer.trainable = not freeze_bert_layer"
      ],
      "metadata": {
        "colab": {
          "base_uri": "https://localhost:8080/"
        },
        "id": "jjPatfjvV2BD",
        "outputId": "a1ba3c24-d4ed-423b-8821-a1afd8459a51"
      },
      "execution_count": null,
      "outputs": [
        {
          "output_type": "stream",
          "name": "stderr",
          "text": [
            "All model checkpoint layers were used when initializing TFRobertaForSequenceClassification.\n",
            "\n",
            "Some layers of TFRobertaForSequenceClassification were not initialized from the model checkpoint at roberta-base and are newly initialized: ['classifier']\n",
            "You should probably TRAIN this model on a down-stream task to be able to use it for predictions and inference.\n",
            "WARNING:tensorflow:Layer lstm_2 will not use cuDNN kernels since it doesn't meet the criteria. It will use a generic GPU kernel as fallback when running on GPU.\n",
            "WARNING:tensorflow:Layer lstm_2 will not use cuDNN kernels since it doesn't meet the criteria. It will use a generic GPU kernel as fallback when running on GPU.\n",
            "WARNING:tensorflow:Layer lstm_2 will not use cuDNN kernels since it doesn't meet the criteria. It will use a generic GPU kernel as fallback when running on GPU.\n"
          ]
        }
      ]
    },
    {
      "cell_type": "code",
      "source": [
        "from keras.callbacks import EarlyStopping\n",
        "es = EarlyStopping(monitor='val_loss', mode='min', verbose=1, patience=32)\n",
        "loss = tf.keras.losses.SparseCategoricalCrossentropy(from_logits=True)\n",
        "\n",
        "metric = tf.keras.metrics.SparseCategoricalAccuracy(\"accuracy\")\n",
        "\n",
        "optimizer = tf.keras.optimizers.Adam(learning_rate=learning_rate, epsilon=epsilon)\n",
        "\n",
        "model.compile(optimizer=optimizer, loss=loss, metrics=[metric])\n",
        "\n",
        "model.summary()"
      ],
      "metadata": {
        "colab": {
          "base_uri": "https://localhost:8080/"
        },
        "id": "j-9TJvZpWMc8",
        "outputId": "37f3a0c9-6ba4-4f38-8396-97b459887104"
      },
      "execution_count": null,
      "outputs": [
        {
          "output_type": "stream",
          "name": "stdout",
          "text": [
            "Model: \"model_2\"\n",
            "__________________________________________________________________________________________________\n",
            " Layer (type)                   Output Shape         Param #     Connected to                     \n",
            "==================================================================================================\n",
            " input_ids (InputLayer)         [(None, 22)]         0           []                               \n",
            "                                                                                                  \n",
            " input_mask (InputLayer)        [(None, 22)]         0           []                               \n",
            "                                                                                                  \n",
            " roberta (TFRobertaMainLayer)   TFBaseModelOutputWi  124055040   ['input_ids[0][0]',              \n",
            "                                thPoolingAndCrossAt               'input_mask[0][0]']             \n",
            "                                tentions(last_hidde                                               \n",
            "                                n_state=(None, 22,                                                \n",
            "                                768),                                                             \n",
            "                                 pooler_output=None                                               \n",
            "                                , past_key_values=N                                               \n",
            "                                one, hidden_states=                                               \n",
            "                                None, attentions=No                                               \n",
            "                                ne, cross_attention                                               \n",
            "                                s=None)                                                           \n",
            "                                                                                                  \n",
            " bidirectional_2 (Bidirectional  (None, 22, 64)      205056      ['roberta[0][0]']                \n",
            " )                                                                                                \n",
            "                                                                                                  \n",
            " global_max_pooling1d_2 (Global  (None, 64)          0           ['bidirectional_2[0][0]']        \n",
            " MaxPooling1D)                                                                                    \n",
            "                                                                                                  \n",
            " dense_4 (Dense)                (None, 32)           2080        ['global_max_pooling1d_2[0][0]'] \n",
            "                                                                                                  \n",
            " dropout_116 (Dropout)          (None, 32)           0           ['dense_4[0][0]']                \n",
            "                                                                                                  \n",
            " dense_5 (Dense)                (None, 4)            132         ['dropout_116[0][0]']            \n",
            "                                                                                                  \n",
            "==================================================================================================\n",
            "Total params: 124,262,308\n",
            "Trainable params: 124,262,308\n",
            "Non-trainable params: 0\n",
            "__________________________________________________________________________________________________\n"
          ]
        }
      ]
    },
    {
      "cell_type": "code",
      "source": [
        "tf.keras.utils.plot_model(\n",
        "    model,\n",
        "    to_file=\"/content/drive/MyDrive/bert/robera_model.png\",\n",
        "    show_shapes=True,\n",
        "    show_dtype=True,\n",
        "    show_layer_names=True,\n",
        "    rankdir=\"TB\",\n",
        "    expand_nested=False,\n",
        "    dpi=96,\n",
        "    layer_range=None,\n",
        "    show_layer_activations=True,\n",
        ")"
      ],
      "metadata": {
        "colab": {
          "base_uri": "https://localhost:8080/",
          "height": 580
        },
        "id": "q89k1fC4C0P0",
        "outputId": "b03d424d-b6a9-4155-e905-20ab1beccdfa"
      },
      "execution_count": null,
      "outputs": [
        {
          "output_type": "execute_result",
          "data": {
            "image/png": "[encoded data removed]",
            "text/plain": [
              "<IPython.core.display.Image object>"
            ]
          },
          "metadata": {},
          "execution_count": 64
        }
      ]
    },
    {
      "cell_type": "code",
      "source": [
        "history = model.fit(\n",
        "    train_dataset,\n",
        "    shuffle=True,\n",
        "    epochs=epochs,\n",
        "    steps_per_epoch=steps_per_epoch,\n",
        "    validation_data=validation_dataset,\n",
        "    validation_steps=validation_steps,\n",
        "    verbose=2,\n",
        "    callbacks=[WandbCallback(),es]\n",
        "    # callbacks=callbacks,\n",
        ")"
      ],
      "metadata": {
        "colab": {
          "base_uri": "https://localhost:8080/"
        },
        "id": "lycpfGZ7Wb8W",
        "outputId": "810168d9-173b-49e6-c857-a797a4d70335"
      },
      "execution_count": null,
      "outputs": [
        {
          "output_type": "stream",
          "name": "stdout",
          "text": [
            "Epoch 1/180\n"
          ]
        },
        {
          "output_type": "stream",
          "name": "stderr",
          "text": [
            "/usr/local/lib/python3.8/dist-packages/tensorflow/python/util/dispatch.py:1082: UserWarning: \"`sparse_categorical_crossentropy` received `from_logits=True`, but the `output` argument was produced by a sigmoid or softmax activation and thus does not represent logits. Was this intended?\"\n",
            "  return dispatch_target(*args, **kwargs)\n"
          ]
        },
        {
          "output_type": "stream",
          "name": "stdout",
          "text": [
            "50/50 - 47s - loss: 1.3692 - accuracy: 0.3288 - val_loss: 1.3028 - val_accuracy: 0.4238 - 47s/epoch - 946ms/step\n",
            "Epoch 2/180\n",
            "50/50 - 19s - loss: 1.2654 - accuracy: 0.4375 - val_loss: 1.1603 - val_accuracy: 0.5125 - 19s/epoch - 375ms/step\n",
            "Epoch 3/180\n",
            "50/50 - 18s - loss: 1.1918 - accuracy: 0.4700 - val_loss: 1.1144 - val_accuracy: 0.5213 - 18s/epoch - 355ms/step\n",
            "Epoch 4/180\n",
            "50/50 - 17s - loss: 1.1183 - accuracy: 0.5437 - val_loss: 1.0873 - val_accuracy: 0.5550 - 17s/epoch - 346ms/step\n",
            "Epoch 5/180\n",
            "50/50 - 20s - loss: 1.0750 - accuracy: 0.5525 - val_loss: 0.9651 - val_accuracy: 0.6375 - 20s/epoch - 391ms/step\n",
            "Epoch 6/180\n",
            "50/50 - 17s - loss: 1.0834 - accuracy: 0.5412 - val_loss: 1.0629 - val_accuracy: 0.5875 - 17s/epoch - 342ms/step\n",
            "Epoch 7/180\n",
            "50/50 - 18s - loss: 1.0393 - accuracy: 0.5813 - val_loss: 0.9490 - val_accuracy: 0.6388 - 18s/epoch - 350ms/step\n",
            "Epoch 8/180\n",
            "50/50 - 18s - loss: 0.9965 - accuracy: 0.6112 - val_loss: 0.8973 - val_accuracy: 0.6538 - 18s/epoch - 356ms/step\n",
            "Epoch 9/180\n",
            "50/50 - 17s - loss: 1.0027 - accuracy: 0.5813 - val_loss: 0.9552 - val_accuracy: 0.6150 - 17s/epoch - 346ms/step\n",
            "Epoch 10/180\n",
            "50/50 - 17s - loss: 1.0201 - accuracy: 0.5775 - val_loss: 0.9086 - val_accuracy: 0.6550 - 17s/epoch - 348ms/step\n",
            "Epoch 11/180\n",
            "50/50 - 17s - loss: 0.9792 - accuracy: 0.6000 - val_loss: 0.9297 - val_accuracy: 0.6212 - 17s/epoch - 349ms/step\n",
            "Epoch 12/180\n",
            "50/50 - 17s - loss: 0.9607 - accuracy: 0.6100 - val_loss: 0.8698 - val_accuracy: 0.6637 - 17s/epoch - 347ms/step\n",
            "Epoch 13/180\n",
            "50/50 - 17s - loss: 0.9096 - accuracy: 0.6562 - val_loss: 0.8738 - val_accuracy: 0.6675 - 17s/epoch - 347ms/step\n",
            "Epoch 14/180\n",
            "50/50 - 17s - loss: 0.9303 - accuracy: 0.6400 - val_loss: 0.8551 - val_accuracy: 0.6687 - 17s/epoch - 345ms/step\n",
            "Epoch 15/180\n",
            "50/50 - 17s - loss: 0.9187 - accuracy: 0.6363 - val_loss: 0.8312 - val_accuracy: 0.6938 - 17s/epoch - 342ms/step\n",
            "Epoch 16/180\n",
            "50/50 - 17s - loss: 0.9435 - accuracy: 0.6300 - val_loss: 0.8283 - val_accuracy: 0.6825 - 17s/epoch - 346ms/step\n",
            "Epoch 17/180\n",
            "50/50 - 19s - loss: 0.9118 - accuracy: 0.6363 - val_loss: 0.8337 - val_accuracy: 0.6825 - 19s/epoch - 390ms/step\n",
            "Epoch 18/180\n",
            "50/50 - 17s - loss: 0.9302 - accuracy: 0.6200 - val_loss: 0.8169 - val_accuracy: 0.6988 - 17s/epoch - 347ms/step\n",
            "Epoch 19/180\n",
            "50/50 - 17s - loss: 0.9349 - accuracy: 0.6350 - val_loss: 0.8722 - val_accuracy: 0.6637 - 17s/epoch - 349ms/step\n",
            "Epoch 20/180\n",
            "50/50 - 17s - loss: 0.8827 - accuracy: 0.6488 - val_loss: 0.9278 - val_accuracy: 0.6338 - 17s/epoch - 346ms/step\n",
            "Epoch 21/180\n",
            "50/50 - 17s - loss: 0.8421 - accuracy: 0.6862 - val_loss: 0.9004 - val_accuracy: 0.6662 - 17s/epoch - 345ms/step\n",
            "Epoch 22/180\n",
            "50/50 - 17s - loss: 0.8581 - accuracy: 0.6750 - val_loss: 0.7880 - val_accuracy: 0.7025 - 17s/epoch - 349ms/step\n",
            "Epoch 23/180\n",
            "50/50 - 17s - loss: 0.8437 - accuracy: 0.6762 - val_loss: 0.8011 - val_accuracy: 0.6800 - 17s/epoch - 349ms/step\n",
            "Epoch 24/180\n",
            "50/50 - 17s - loss: 0.7691 - accuracy: 0.7163 - val_loss: 0.8027 - val_accuracy: 0.6737 - 17s/epoch - 347ms/step\n",
            "Epoch 25/180\n",
            "50/50 - 17s - loss: 0.7529 - accuracy: 0.7375 - val_loss: 0.8453 - val_accuracy: 0.6700 - 17s/epoch - 345ms/step\n",
            "Epoch 26/180\n",
            "50/50 - 17s - loss: 0.7184 - accuracy: 0.7337 - val_loss: 0.8867 - val_accuracy: 0.6575 - 17s/epoch - 343ms/step\n",
            "Epoch 27/180\n",
            "50/50 - 17s - loss: 0.8058 - accuracy: 0.6875 - val_loss: 0.8180 - val_accuracy: 0.6725 - 17s/epoch - 348ms/step\n",
            "Epoch 28/180\n",
            "50/50 - 17s - loss: 0.7879 - accuracy: 0.7113 - val_loss: 0.8846 - val_accuracy: 0.6538 - 17s/epoch - 342ms/step\n",
            "Epoch 29/180\n",
            "50/50 - 17s - loss: 0.7770 - accuracy: 0.6950 - val_loss: 0.8668 - val_accuracy: 0.6538 - 17s/epoch - 344ms/step\n",
            "Epoch 30/180\n",
            "50/50 - 19s - loss: 0.7505 - accuracy: 0.7113 - val_loss: 0.8248 - val_accuracy: 0.6975 - 19s/epoch - 388ms/step\n",
            "Epoch 31/180\n",
            "50/50 - 17s - loss: 0.7700 - accuracy: 0.7262 - val_loss: 0.8024 - val_accuracy: 0.6837 - 17s/epoch - 344ms/step\n",
            "Epoch 32/180\n",
            "50/50 - 17s - loss: 0.7730 - accuracy: 0.7063 - val_loss: 0.8214 - val_accuracy: 0.6787 - 17s/epoch - 341ms/step\n",
            "Epoch 33/180\n",
            "50/50 - 17s - loss: 0.7687 - accuracy: 0.7088 - val_loss: 0.7786 - val_accuracy: 0.6988 - 17s/epoch - 343ms/step\n",
            "Epoch 34/180\n",
            "50/50 - 17s - loss: 0.7951 - accuracy: 0.7150 - val_loss: 0.7926 - val_accuracy: 0.7188 - 17s/epoch - 341ms/step\n",
            "Epoch 35/180\n",
            "50/50 - 17s - loss: 0.7536 - accuracy: 0.7275 - val_loss: 0.7884 - val_accuracy: 0.7025 - 17s/epoch - 342ms/step\n",
            "Epoch 36/180\n"
          ]
        },
        {
          "output_type": "stream",
          "name": "stderr",
          "text": [
            "WARNING:absl:Found untraced functions such as encoder_layer_call_fn, encoder_layer_call_and_return_conditional_losses, embeddings_layer_call_fn, embeddings_layer_call_and_return_conditional_losses, LayerNorm_layer_call_fn while saving (showing 5 of 416). These functions will not be directly callable after loading.\n",
            "\u001b[34m\u001b[1mwandb\u001b[0m: Adding directory to artifact (/content/wandb/run-20221206_185314-1ylewo3y/files/model-best)... Done. 8.7s\n"
          ]
        },
        {
          "output_type": "stream",
          "name": "stdout",
          "text": [
            "50/50 - 72s - loss: 0.7667 - accuracy: 0.7125 - val_loss: 0.7634 - val_accuracy: 0.7013 - 72s/epoch - 1s/step\n",
            "Epoch 37/180\n",
            "50/50 - 18s - loss: 0.6779 - accuracy: 0.7462 - val_loss: 0.8126 - val_accuracy: 0.6963 - 18s/epoch - 361ms/step\n",
            "Epoch 38/180\n",
            "50/50 - 18s - loss: 0.7060 - accuracy: 0.7325 - val_loss: 0.9064 - val_accuracy: 0.6425 - 18s/epoch - 366ms/step\n",
            "Epoch 39/180\n",
            "50/50 - 21s - loss: 0.6838 - accuracy: 0.7650 - val_loss: 0.8349 - val_accuracy: 0.6950 - 21s/epoch - 415ms/step\n",
            "Epoch 40/180\n",
            "50/50 - 18s - loss: 0.6875 - accuracy: 0.7450 - val_loss: 0.8178 - val_accuracy: 0.6888 - 18s/epoch - 353ms/step\n",
            "Epoch 41/180\n",
            "50/50 - 17s - loss: 0.6627 - accuracy: 0.7650 - val_loss: 0.8275 - val_accuracy: 0.6875 - 17s/epoch - 342ms/step\n",
            "Epoch 42/180\n",
            "50/50 - 17s - loss: 0.6331 - accuracy: 0.7650 - val_loss: 0.9663 - val_accuracy: 0.6500 - 17s/epoch - 346ms/step\n",
            "Epoch 43/180\n",
            "50/50 - 17s - loss: 0.5943 - accuracy: 0.7912 - val_loss: 0.8221 - val_accuracy: 0.7063 - 17s/epoch - 345ms/step\n",
            "Epoch 44/180\n",
            "50/50 - 17s - loss: 0.6291 - accuracy: 0.7725 - val_loss: 0.8566 - val_accuracy: 0.6787 - 17s/epoch - 343ms/step\n",
            "Epoch 45/180\n",
            "50/50 - 17s - loss: 0.6390 - accuracy: 0.7788 - val_loss: 0.8423 - val_accuracy: 0.6625 - 17s/epoch - 346ms/step\n",
            "Epoch 46/180\n",
            "50/50 - 17s - loss: 0.6417 - accuracy: 0.7713 - val_loss: 0.8351 - val_accuracy: 0.6938 - 17s/epoch - 343ms/step\n",
            "Epoch 47/180\n",
            "50/50 - 17s - loss: 0.6218 - accuracy: 0.7675 - val_loss: 0.8208 - val_accuracy: 0.6637 - 17s/epoch - 348ms/step\n",
            "Epoch 48/180\n",
            "50/50 - 17s - loss: 0.5954 - accuracy: 0.7862 - val_loss: 0.9027 - val_accuracy: 0.6925 - 17s/epoch - 344ms/step\n",
            "Epoch 49/180\n",
            "50/50 - 17s - loss: 0.5862 - accuracy: 0.7962 - val_loss: 0.8241 - val_accuracy: 0.6988 - 17s/epoch - 346ms/step\n",
            "Epoch 50/180\n"
          ]
        },
        {
          "output_type": "stream",
          "name": "stderr",
          "text": [
            "WARNING:absl:Found untraced functions such as encoder_layer_call_fn, encoder_layer_call_and_return_conditional_losses, embeddings_layer_call_fn, embeddings_layer_call_and_return_conditional_losses, LayerNorm_layer_call_fn while saving (showing 5 of 416). These functions will not be directly callable after loading.\n",
            "\u001b[34m\u001b[1mwandb\u001b[0m: Adding directory to artifact (/content/wandb/run-20221206_185314-1ylewo3y/files/model-best)... Done. 8.8s\n"
          ]
        },
        {
          "output_type": "stream",
          "name": "stdout",
          "text": [
            "50/50 - 74s - loss: 0.6514 - accuracy: 0.7663 - val_loss: 0.7526 - val_accuracy: 0.6925 - 74s/epoch - 1s/step\n",
            "Epoch 51/180\n",
            "50/50 - 18s - loss: 0.5786 - accuracy: 0.7962 - val_loss: 0.7751 - val_accuracy: 0.6975 - 18s/epoch - 364ms/step\n",
            "Epoch 52/180\n",
            "50/50 - 18s - loss: 0.6537 - accuracy: 0.7575 - val_loss: 0.8120 - val_accuracy: 0.6762 - 18s/epoch - 365ms/step\n",
            "Epoch 53/180\n",
            "50/50 - 18s - loss: 0.6816 - accuracy: 0.7437 - val_loss: 0.8565 - val_accuracy: 0.6862 - 18s/epoch - 363ms/step\n",
            "Epoch 54/180\n",
            "50/50 - 18s - loss: 0.6377 - accuracy: 0.7625 - val_loss: 0.8237 - val_accuracy: 0.6888 - 18s/epoch - 355ms/step\n",
            "Epoch 55/180\n",
            "50/50 - 17s - loss: 0.6045 - accuracy: 0.7788 - val_loss: 0.8084 - val_accuracy: 0.6862 - 17s/epoch - 343ms/step\n",
            "Epoch 56/180\n",
            "50/50 - 17s - loss: 0.5537 - accuracy: 0.8112 - val_loss: 0.8291 - val_accuracy: 0.6963 - 17s/epoch - 342ms/step\n",
            "Epoch 57/180\n",
            "50/50 - 17s - loss: 0.5331 - accuracy: 0.8163 - val_loss: 0.8727 - val_accuracy: 0.6862 - 17s/epoch - 346ms/step\n",
            "Epoch 58/180\n",
            "50/50 - 17s - loss: 0.5753 - accuracy: 0.8000 - val_loss: 0.8074 - val_accuracy: 0.6950 - 17s/epoch - 348ms/step\n",
            "Epoch 59/180\n",
            "50/50 - 17s - loss: 0.5135 - accuracy: 0.8150 - val_loss: 0.8832 - val_accuracy: 0.6900 - 17s/epoch - 345ms/step\n",
            "Epoch 60/180\n",
            "50/50 - 19s - loss: 0.5142 - accuracy: 0.8200 - val_loss: 0.8580 - val_accuracy: 0.7050 - 19s/epoch - 382ms/step\n",
            "Epoch 61/180\n",
            "50/50 - 17s - loss: 0.4866 - accuracy: 0.8537 - val_loss: 0.9186 - val_accuracy: 0.6963 - 17s/epoch - 346ms/step\n",
            "Epoch 62/180\n",
            "50/50 - 17s - loss: 0.4721 - accuracy: 0.8450 - val_loss: 0.8995 - val_accuracy: 0.6712 - 17s/epoch - 347ms/step\n",
            "Epoch 63/180\n",
            "50/50 - 17s - loss: 0.4883 - accuracy: 0.8313 - val_loss: 0.8656 - val_accuracy: 0.6875 - 17s/epoch - 346ms/step\n",
            "Epoch 64/180\n",
            "50/50 - 17s - loss: 0.5264 - accuracy: 0.8175 - val_loss: 0.8777 - val_accuracy: 0.6700 - 17s/epoch - 343ms/step\n",
            "Epoch 65/180\n",
            "50/50 - 17s - loss: 0.5062 - accuracy: 0.8288 - val_loss: 0.8914 - val_accuracy: 0.6850 - 17s/epoch - 340ms/step\n",
            "Epoch 66/180\n",
            "50/50 - 17s - loss: 0.4894 - accuracy: 0.8375 - val_loss: 0.9247 - val_accuracy: 0.6762 - 17s/epoch - 347ms/step\n",
            "Epoch 67/180\n",
            "50/50 - 17s - loss: 0.4541 - accuracy: 0.8363 - val_loss: 0.8804 - val_accuracy: 0.7013 - 17s/epoch - 342ms/step\n",
            "Epoch 68/180\n",
            "50/50 - 17s - loss: 0.5140 - accuracy: 0.8213 - val_loss: 0.8553 - val_accuracy: 0.6712 - 17s/epoch - 348ms/step\n",
            "Epoch 69/180\n",
            "50/50 - 17s - loss: 0.5055 - accuracy: 0.8300 - val_loss: 0.8654 - val_accuracy: 0.7063 - 17s/epoch - 343ms/step\n",
            "Epoch 70/180\n",
            "50/50 - 17s - loss: 0.5038 - accuracy: 0.8338 - val_loss: 0.9138 - val_accuracy: 0.6812 - 17s/epoch - 342ms/step\n",
            "Epoch 71/180\n",
            "50/50 - 17s - loss: 0.5583 - accuracy: 0.8188 - val_loss: 0.9199 - val_accuracy: 0.6850 - 17s/epoch - 340ms/step\n",
            "Epoch 72/180\n",
            "50/50 - 17s - loss: 0.5215 - accuracy: 0.8188 - val_loss: 0.9919 - val_accuracy: 0.6675 - 17s/epoch - 347ms/step\n",
            "Epoch 73/180\n",
            "50/50 - 19s - loss: 0.4592 - accuracy: 0.8438 - val_loss: 0.8894 - val_accuracy: 0.6900 - 19s/epoch - 389ms/step\n",
            "Epoch 74/180\n",
            "50/50 - 17s - loss: 0.4196 - accuracy: 0.8675 - val_loss: 0.9092 - val_accuracy: 0.6988 - 17s/epoch - 340ms/step\n",
            "Epoch 75/180\n",
            "50/50 - 17s - loss: 0.3760 - accuracy: 0.8750 - val_loss: 0.9862 - val_accuracy: 0.6913 - 17s/epoch - 344ms/step\n",
            "Epoch 76/180\n",
            "50/50 - 17s - loss: 0.4396 - accuracy: 0.8600 - val_loss: 0.9160 - val_accuracy: 0.7000 - 17s/epoch - 344ms/step\n",
            "Epoch 77/180\n",
            "50/50 - 17s - loss: 0.3768 - accuracy: 0.8800 - val_loss: 0.9001 - val_accuracy: 0.6988 - 17s/epoch - 344ms/step\n",
            "Epoch 78/180\n",
            "50/50 - 17s - loss: 0.3805 - accuracy: 0.8675 - val_loss: 0.9612 - val_accuracy: 0.6800 - 17s/epoch - 344ms/step\n",
            "Epoch 79/180\n",
            "50/50 - 17s - loss: 0.3895 - accuracy: 0.8813 - val_loss: 1.0469 - val_accuracy: 0.6825 - 17s/epoch - 343ms/step\n",
            "Epoch 80/180\n",
            "50/50 - 17s - loss: 0.4188 - accuracy: 0.8687 - val_loss: 0.9816 - val_accuracy: 0.6762 - 17s/epoch - 348ms/step\n",
            "Epoch 81/180\n",
            "50/50 - 17s - loss: 0.4204 - accuracy: 0.8675 - val_loss: 0.9196 - val_accuracy: 0.6737 - 17s/epoch - 338ms/step\n",
            "Epoch 82/180\n",
            "50/50 - 17s - loss: 0.4435 - accuracy: 0.8413 - val_loss: 0.9200 - val_accuracy: 0.6862 - 17s/epoch - 345ms/step\n",
            "Epoch 82: early stopping\n"
          ]
        }
      ]
    },
    {
      "cell_type": "code",
      "source": [
        "ls /content"
      ],
      "metadata": {
        "colab": {
          "base_uri": "https://localhost:8080/"
        },
        "id": "IuoPQc21dHpo",
        "outputId": "35316e77-8701-48b2-8ecf-ecc811c0473a"
      },
      "execution_count": null,
      "outputs": [
        {
          "output_type": "stream",
          "name": "stdout",
          "text": [
            " \u001b[0m\u001b[01;34mbert\u001b[0m/          test.csv                    \u001b[01;34m'Untitled Folder'\u001b[0m/\n",
            " \u001b[01;34msample_data\u001b[0m/   twitter_sentiment_data.csv\n"
          ]
        }
      ]
    },
    {
      "cell_type": "code",
      "source": [
        "model.save(\"/content/drive/MyDrive/Roberta/model\")\n"
      ],
      "metadata": {
        "colab": {
          "base_uri": "https://localhost:8080/"
        },
        "id": "GNldL5uDcsMa",
        "outputId": "92146bde-7e65-469e-eb09-541cf4007f46"
      },
      "execution_count": null,
      "outputs": [
        {
          "output_type": "stream",
          "name": "stderr",
          "text": [
            "WARNING:absl:Found untraced functions such as encoder_layer_call_fn, encoder_layer_call_and_return_conditional_losses, embeddings_layer_call_fn, embeddings_layer_call_and_return_conditional_losses, LayerNorm_layer_call_fn while saving (showing 5 of 416). These functions will not be directly callable after loading.\n"
          ]
        }
      ]
    },
    {
      "cell_type": "code",
      "source": [
        "from google.colab import drive\n",
        "drive.mount('/content/drive')"
      ],
      "metadata": {
        "colab": {
          "base_uri": "https://localhost:8080/"
        },
        "id": "PPGriISyfpkc",
        "outputId": "4866ce9a-4d34-45cb-de1d-e099cef6ca4f"
      },
      "execution_count": null,
      "outputs": [
        {
          "output_type": "stream",
          "name": "stdout",
          "text": [
            "Mounted at /content/drive\n"
          ]
        }
      ]
    },
    {
      "cell_type": "code",
      "source": [
        "\n",
        "CLASSES = [-1,0,1,2]\n",
        "\n",
        "# config = RobertaTokenizer.from_pretrained(\"roberta-base\",\n",
        "                                             #     num_labels=len(CLASSES),\n",
        "                                             #  id2label={0:-1,1:0,2:1,3:2},\n",
        "                                             # label2id={-1:0,0:1,1:2,2:3},\n",
        "                                             #     )\n",
        "\n",
        "tokenizer = RobertaTokenizer.from_pretrained(\"roberta-base\")"
      ],
      "metadata": {
        "id": "Gi1EOtEyXpKe"
      },
      "execution_count": null,
      "outputs": []
    },
    {
      "cell_type": "code",
      "source": [
        "def predict(text, model, max_seq_length):\n",
        "    tokenizer = RobertaTokenizer.from_pretrained(\"roberta-base\")\n",
        "    \n",
        "     # config = RobertaTokenizer.from_pretrained(\"roberta-base\",\n",
        "     #                                             num_labels=len(CLASSES),\n",
        "     #                                          id2label={0:-1,1:0,2:1,3:2},\n",
        "     #                                         label2id={-1:0,0:1,1:2,2:3},\n",
        "     #                                             )\n",
        "    id2label={0:-1,1:0,2:1,3:2}\n",
        "    encode_plus_tokens = tokenizer.encode_plus(\n",
        "        text, \n",
        "        padding='max_length', \n",
        "        max_length=max_seq_length, \n",
        "        truncation=True, \n",
        "        return_tensors=\"tf\"\n",
        "    )\n",
        "    # The id from the pre-trained BERT vocabulary that represents the token.  (Padding of 0 will be used if the # of tokens is less than `max_seq_length`)\n",
        "    input_ids = encode_plus_tokens[\"input_ids\"]\n",
        "\n",
        "    # Specifies which tokens BERT should pay attention to (0 or 1).  Padded `input_ids` will have 0 in each of these vector elements.\n",
        "    input_mask = encode_plus_tokens[\"attention_mask\"]\n",
        "\n",
        "    outputs = model.predict(x=(input_ids, input_mask))\n",
        "\n",
        "    prediction = [{\"label\": id2label[item.argmax()], \"score\": item.max().item()} for item in outputs]\n",
        "\n",
        "    return prediction[0][\"label\"]"
      ],
      "metadata": {
        "id": "SDZ1koWbYHgw"
      },
      "execution_count": null,
      "outputs": []
    },
    {
      "cell_type": "code",
      "source": [
        "# from tensorflow import keras\n",
        "# model = keras.models.load_model('/content/drive/MyDrive/bert/model')\n",
        "\n",
        "y_test = [predict(message, model, max_seq_length) for message in df_test[\"message\"][:50]]\n",
        "y_test\n",
        "\n",
        "y_actual = df_test[\"sentiment\"][:50]\n",
        "y_actual\n"
      ],
      "metadata": {
        "colab": {
          "base_uri": "https://localhost:8080/"
        },
        "id": "g_3lEYGzY5lx",
        "outputId": "9a804675-85c5-4fd2-b4a5-a00d23794ae6"
      },
      "execution_count": null,
      "outputs": [
        {
          "output_type": "stream",
          "name": "stdout",
          "text": [
            "1/1 [==============================] - 3s 3s/step\n",
            "1/1 [==============================] - 0s 55ms/step\n",
            "1/1 [==============================] - 0s 56ms/step\n",
            "1/1 [==============================] - 0s 56ms/step\n",
            "1/1 [==============================] - 0s 56ms/step\n",
            "1/1 [==============================] - 0s 60ms/step\n",
            "1/1 [==============================] - 0s 60ms/step\n",
            "1/1 [==============================] - 0s 57ms/step\n",
            "1/1 [==============================] - 0s 56ms/step\n",
            "1/1 [==============================] - 0s 55ms/step\n",
            "1/1 [==============================] - 0s 55ms/step\n",
            "1/1 [==============================] - 0s 60ms/step\n",
            "1/1 [==============================] - 0s 58ms/step\n",
            "1/1 [==============================] - 0s 63ms/step\n",
            "1/1 [==============================] - 0s 56ms/step\n",
            "1/1 [==============================] - 0s 57ms/step\n",
            "1/1 [==============================] - 0s 56ms/step\n",
            "1/1 [==============================] - 0s 56ms/step\n",
            "1/1 [==============================] - 0s 65ms/step\n",
            "1/1 [==============================] - 0s 56ms/step\n",
            "1/1 [==============================] - 0s 63ms/step\n",
            "1/1 [==============================] - 0s 58ms/step\n",
            "1/1 [==============================] - 0s 56ms/step\n",
            "1/1 [==============================] - 0s 56ms/step\n",
            "1/1 [==============================] - 0s 60ms/step\n",
            "1/1 [==============================] - 0s 57ms/step\n",
            "1/1 [==============================] - 0s 56ms/step\n",
            "1/1 [==============================] - 0s 63ms/step\n",
            "1/1 [==============================] - 0s 57ms/step\n",
            "1/1 [==============================] - 0s 57ms/step\n",
            "1/1 [==============================] - 0s 61ms/step\n",
            "1/1 [==============================] - 0s 56ms/step\n",
            "1/1 [==============================] - 0s 55ms/step\n",
            "1/1 [==============================] - 0s 55ms/step\n",
            "1/1 [==============================] - 0s 54ms/step\n",
            "1/1 [==============================] - 0s 57ms/step\n",
            "1/1 [==============================] - 0s 56ms/step\n",
            "1/1 [==============================] - 0s 55ms/step\n",
            "1/1 [==============================] - 0s 57ms/step\n",
            "1/1 [==============================] - 0s 56ms/step\n",
            "1/1 [==============================] - 0s 57ms/step\n",
            "1/1 [==============================] - 0s 67ms/step\n",
            "1/1 [==============================] - 0s 56ms/step\n",
            "1/1 [==============================] - 0s 56ms/step\n",
            "1/1 [==============================] - 0s 58ms/step\n",
            "1/1 [==============================] - 0s 56ms/step\n",
            "1/1 [==============================] - 0s 58ms/step\n",
            "1/1 [==============================] - 0s 62ms/step\n",
            "1/1 [==============================] - 0s 61ms/step\n",
            "1/1 [==============================] - 0s 56ms/step\n"
          ]
        },
        {
          "output_type": "execute_result",
          "data": {
            "text/plain": [
              "0     2\n",
              "1     2\n",
              "2     2\n",
              "3    -1\n",
              "4    -1\n",
              "5     1\n",
              "6     1\n",
              "7    -1\n",
              "8     1\n",
              "9     1\n",
              "10    0\n",
              "11   -1\n",
              "12    2\n",
              "13    0\n",
              "14    0\n",
              "15   -1\n",
              "16    2\n",
              "17    1\n",
              "18   -1\n",
              "19    1\n",
              "20    1\n",
              "21   -1\n",
              "22   -1\n",
              "23   -1\n",
              "24    1\n",
              "25    0\n",
              "26    0\n",
              "27    0\n",
              "28    0\n",
              "29    1\n",
              "30   -1\n",
              "31   -1\n",
              "32   -1\n",
              "33    0\n",
              "34    0\n",
              "35    2\n",
              "36    2\n",
              "37    2\n",
              "38    0\n",
              "39    1\n",
              "40    2\n",
              "41   -1\n",
              "42    2\n",
              "43   -1\n",
              "44   -1\n",
              "45   -1\n",
              "46    1\n",
              "47    2\n",
              "48    1\n",
              "49    1\n",
              "Name: sentiment, dtype: int64"
            ]
          },
          "metadata": {},
          "execution_count": 56
        }
      ]
    },
    {
      "cell_type": "code",
      "source": [
        "valpr=set(y_test)"
      ],
      "metadata": {
        "id": "L_lpeh0Iim7Z"
      },
      "execution_count": null,
      "outputs": []
    },
    {
      "cell_type": "code",
      "source": [
        "valpr"
      ],
      "metadata": {
        "colab": {
          "base_uri": "https://localhost:8080/"
        },
        "id": "5sabCT_iitIX",
        "outputId": "8a44ef5a-8f2a-4b87-fc3c-abb643be518d"
      },
      "execution_count": null,
      "outputs": [
        {
          "output_type": "execute_result",
          "data": {
            "text/plain": [
              "{-1, 0, 1, 2}"
            ]
          },
          "metadata": {},
          "execution_count": 58
        }
      ]
    },
    {
      "cell_type": "code",
      "source": [
        "valtr=set(y_actual)"
      ],
      "metadata": {
        "id": "IqNvtVnbivfK"
      },
      "execution_count": null,
      "outputs": []
    },
    {
      "cell_type": "code",
      "source": [
        "valtr"
      ],
      "metadata": {
        "colab": {
          "base_uri": "https://localhost:8080/"
        },
        "id": "RCh_KAhqiu_g",
        "outputId": "26c9d1fa-c057-4ed1-9a92-d3937e1d95c6"
      },
      "execution_count": null,
      "outputs": [
        {
          "output_type": "execute_result",
          "data": {
            "text/plain": [
              "{-1, 0, 1, 2}"
            ]
          },
          "metadata": {},
          "execution_count": 60
        }
      ]
    },
    {
      "cell_type": "code",
      "source": [
        "from sklearn.metrics import classification_report\n",
        "from sklearn.metrics import accuracy_score"
      ],
      "metadata": {
        "id": "DgPEb7nOcCkO"
      },
      "execution_count": null,
      "outputs": []
    },
    {
      "cell_type": "code",
      "source": [
        "classification_report(y_true=y_actual, y_pred=y_test)"
      ],
      "metadata": {
        "colab": {
          "base_uri": "https://localhost:8080/",
          "height": 89
        },
        "id": "j0sc7KXwbumE",
        "outputId": "79598b20-a1a6-475c-da6f-9ca595b331f1"
      },
      "execution_count": null,
      "outputs": [
        {
          "output_type": "execute_result",
          "data": {
            "text/plain": [
              "'              precision    recall  f1-score   support\\n\\n          -1       0.75      0.71      0.73        17\\n           0       0.60      0.75      0.67         8\\n           1       0.92      0.86      0.89        14\\n           2       0.73      0.73      0.73        11\\n\\n    accuracy                           0.76        50\\n   macro avg       0.75      0.76      0.75        50\\nweighted avg       0.77      0.76      0.76        50\\n'"
            ],
            "application/vnd.google.colaboratory.intrinsic+json": {
              "type": "string"
            }
          },
          "metadata": {},
          "execution_count": 62
        }
      ]
    },
    {
      "cell_type": "code",
      "source": [
        "accuracy = accuracy_score(y_true=y_test, y_pred=y_actual)\n",
        "print(\"Test accuracy: \", accuracy)"
      ],
      "metadata": {
        "colab": {
          "base_uri": "https://localhost:8080/"
        },
        "id": "WcPo0Gktb0aJ",
        "outputId": "cb371759-6ad0-4963-f389-e753f113f0c0"
      },
      "execution_count": null,
      "outputs": [
        {
          "output_type": "stream",
          "name": "stdout",
          "text": [
            "Test accuracy:  0.76\n"
          ]
        }
      ]
    },
    {
      "cell_type": "code",
      "source": [
        "import matplotlib.pyplot as plt\n",
        "from sklearn.metrics import confusion_matrix\n",
        "import seaborn as sns\n",
        "cf_matrix = confusion_matrix(y_actual, y_test)\n",
        "ax = sns.heatmap(cf_matrix, annot=True, cmap='Blues')\n",
        "\n",
        "ax.set_title('Confusion Matrix with labels\\n\\n');\n",
        "ax.set_xlabel('\\nPredicted Values')\n",
        "ax.set_ylabel('Actual Values ');\n",
        "\n",
        "## Ticket labels - List must be in alphabetical order\n",
        "# ax.xaxis.set_ticklabels(['False','True'])\n",
        "# ax.yaxis.set_ticklabels(['False','True'])\n",
        "\n",
        "## Display the visualization of the Confusion Matrix.\n",
        "plt.show()"
      ],
      "metadata": {
        "colab": {
          "base_uri": "https://localhost:8080/",
          "height": 337
        },
        "id": "jL_1fCGpDDet",
        "outputId": "55cca343-2d54-46cc-95c0-e4a7e2456896"
      },
      "execution_count": null,
      "outputs": [
        {
          "output_type": "display_data",
          "data": {
            "text/plain": [
              "<Figure size 432x288 with 2 Axes>"
            ],
            "image/png": "[encoded data removed]"
          },
          "metadata": {
            "needs_background": "light"
          }
        }
      ]
    },
    {
      "cell_type": "code",
      "source": [
        "\n",
        "pip install keras-tuner --upgrade"
      ],
      "metadata": {
        "colab": {
          "base_uri": "https://localhost:8080/"
        },
        "id": "P0SeB7h54zob",
        "outputId": "ebd0456d-2721-470c-d636-6ee7976b1061"
      },
      "execution_count": null,
      "outputs": [
        {
          "output_type": "stream",
          "name": "stdout",
          "text": [
            "Looking in indexes: https://pypi.org/simple, https://us-python.pkg.dev/colab-wheels/public/simple/\n",
            "Collecting keras-tuner\n",
            "  Downloading keras_tuner-1.1.3-py3-none-any.whl (135 kB)\n",
            "\u001b[K     |████████████████████████████████| 135 kB 5.3 MB/s \n",
            "\u001b[?25hCollecting kt-legacy\n",
            "  Downloading kt_legacy-1.0.4-py3-none-any.whl (9.6 kB)\n",
            "Requirement already satisfied: ipython in /usr/local/lib/python3.8/dist-packages (from keras-tuner) (7.9.0)\n",
            "Requirement already satisfied: requests in /usr/local/lib/python3.8/dist-packages (from keras-tuner) (2.23.0)\n",
            "Requirement already satisfied: numpy in /usr/local/lib/python3.8/dist-packages (from keras-tuner) (1.21.6)\n",
            "Requirement already satisfied: packaging in /usr/local/lib/python3.8/dist-packages (from keras-tuner) (21.3)\n",
            "Requirement already satisfied: tensorboard in /usr/local/lib/python3.8/dist-packages (from keras-tuner) (2.9.1)\n",
            "Requirement already satisfied: traitlets>=4.2 in /usr/local/lib/python3.8/dist-packages (from ipython->keras-tuner) (5.1.1)\n",
            "Collecting jedi>=0.10\n",
            "  Downloading jedi-0.18.2-py2.py3-none-any.whl (1.6 MB)\n",
            "\u001b[K     |████████████████████████████████| 1.6 MB 43.9 MB/s \n",
            "\u001b[?25hRequirement already satisfied: decorator in /usr/local/lib/python3.8/dist-packages (from ipython->keras-tuner) (4.4.2)\n",
            "Requirement already satisfied: pexpect in /usr/local/lib/python3.8/dist-packages (from ipython->keras-tuner) (4.8.0)\n",
            "Requirement already satisfied: pickleshare in /usr/local/lib/python3.8/dist-packages (from ipython->keras-tuner) (0.7.5)\n",
            "Requirement already satisfied: prompt-toolkit<2.1.0,>=2.0.0 in /usr/local/lib/python3.8/dist-packages (from ipython->keras-tuner) (2.0.10)\n",
            "Requirement already satisfied: backcall in /usr/local/lib/python3.8/dist-packages (from ipython->keras-tuner) (0.2.0)\n",
            "Requirement already satisfied: setuptools>=18.5 in /usr/local/lib/python3.8/dist-packages (from ipython->keras-tuner) (57.4.0)\n",
            "Requirement already satisfied: pygments in /usr/local/lib/python3.8/dist-packages (from ipython->keras-tuner) (2.6.1)\n",
            "Requirement already satisfied: parso<0.9.0,>=0.8.0 in /usr/local/lib/python3.8/dist-packages (from jedi>=0.10->ipython->keras-tuner) (0.8.3)\n",
            "Requirement already satisfied: wcwidth in /usr/local/lib/python3.8/dist-packages (from prompt-toolkit<2.1.0,>=2.0.0->ipython->keras-tuner) (0.2.5)\n",
            "Requirement already satisfied: six>=1.9.0 in /usr/local/lib/python3.8/dist-packages (from prompt-toolkit<2.1.0,>=2.0.0->ipython->keras-tuner) (1.15.0)\n",
            "Requirement already satisfied: pyparsing!=3.0.5,>=2.0.2 in /usr/local/lib/python3.8/dist-packages (from packaging->keras-tuner) (3.0.9)\n",
            "Requirement already satisfied: ptyprocess>=0.5 in /usr/local/lib/python3.8/dist-packages (from pexpect->ipython->keras-tuner) (0.7.0)\n",
            "Requirement already satisfied: idna<3,>=2.5 in /usr/local/lib/python3.8/dist-packages (from requests->keras-tuner) (2.10)\n",
            "Requirement already satisfied: certifi>=2017.4.17 in /usr/local/lib/python3.8/dist-packages (from requests->keras-tuner) (2022.9.24)\n",
            "Requirement already satisfied: urllib3!=1.25.0,!=1.25.1,<1.26,>=1.21.1 in /usr/local/lib/python3.8/dist-packages (from requests->keras-tuner) (1.24.3)\n",
            "Requirement already satisfied: chardet<4,>=3.0.2 in /usr/local/lib/python3.8/dist-packages (from requests->keras-tuner) (3.0.4)\n",
            "Requirement already satisfied: google-auth<3,>=1.6.3 in /usr/local/lib/python3.8/dist-packages (from tensorboard->keras-tuner) (2.14.1)\n",
            "Requirement already satisfied: tensorboard-data-server<0.7.0,>=0.6.0 in /usr/local/lib/python3.8/dist-packages (from tensorboard->keras-tuner) (0.6.1)\n",
            "Requirement already satisfied: wheel>=0.26 in /usr/local/lib/python3.8/dist-packages (from tensorboard->keras-tuner) (0.38.4)\n",
            "Requirement already satisfied: grpcio>=1.24.3 in /usr/local/lib/python3.8/dist-packages (from tensorboard->keras-tuner) (1.50.0)\n",
            "Requirement already satisfied: protobuf<3.20,>=3.9.2 in /usr/local/lib/python3.8/dist-packages (from tensorboard->keras-tuner) (3.19.6)\n",
            "Requirement already satisfied: werkzeug>=1.0.1 in /usr/local/lib/python3.8/dist-packages (from tensorboard->keras-tuner) (1.0.1)\n",
            "Requirement already satisfied: tensorboard-plugin-wit>=1.6.0 in /usr/local/lib/python3.8/dist-packages (from tensorboard->keras-tuner) (1.8.1)\n",
            "Requirement already satisfied: absl-py>=0.4 in /usr/local/lib/python3.8/dist-packages (from tensorboard->keras-tuner) (1.3.0)\n",
            "Requirement already satisfied: google-auth-oauthlib<0.5,>=0.4.1 in /usr/local/lib/python3.8/dist-packages (from tensorboard->keras-tuner) (0.4.6)\n",
            "Requirement already satisfied: markdown>=2.6.8 in /usr/local/lib/python3.8/dist-packages (from tensorboard->keras-tuner) (3.4.1)\n",
            "Requirement already satisfied: pyasn1-modules>=0.2.1 in /usr/local/lib/python3.8/dist-packages (from google-auth<3,>=1.6.3->tensorboard->keras-tuner) (0.2.8)\n",
            "Requirement already satisfied: rsa<5,>=3.1.4 in /usr/local/lib/python3.8/dist-packages (from google-auth<3,>=1.6.3->tensorboard->keras-tuner) (4.9)\n",
            "Requirement already satisfied: cachetools<6.0,>=2.0.0 in /usr/local/lib/python3.8/dist-packages (from google-auth<3,>=1.6.3->tensorboard->keras-tuner) (5.2.0)\n",
            "Requirement already satisfied: requests-oauthlib>=0.7.0 in /usr/local/lib/python3.8/dist-packages (from google-auth-oauthlib<0.5,>=0.4.1->tensorboard->keras-tuner) (1.3.1)\n",
            "Requirement already satisfied: importlib-metadata>=4.4 in /usr/local/lib/python3.8/dist-packages (from markdown>=2.6.8->tensorboard->keras-tuner) (4.13.0)\n",
            "Requirement already satisfied: zipp>=0.5 in /usr/local/lib/python3.8/dist-packages (from importlib-metadata>=4.4->markdown>=2.6.8->tensorboard->keras-tuner) (3.10.0)\n",
            "Requirement already satisfied: pyasn1<0.5.0,>=0.4.6 in /usr/local/lib/python3.8/dist-packages (from pyasn1-modules>=0.2.1->google-auth<3,>=1.6.3->tensorboard->keras-tuner) (0.4.8)\n",
            "Requirement already satisfied: oauthlib>=3.0.0 in /usr/local/lib/python3.8/dist-packages (from requests-oauthlib>=0.7.0->google-auth-oauthlib<0.5,>=0.4.1->tensorboard->keras-tuner) (3.2.2)\n",
            "Installing collected packages: jedi, kt-legacy, keras-tuner\n",
            "Successfully installed jedi-0.18.2 keras-tuner-1.1.3 kt-legacy-1.0.4\n"
          ]
        }
      ]
    },
    {
      "cell_type": "code",
      "source": [
        "import keras_tuner as kt"
      ],
      "metadata": {
        "id": "eOBBMR1i4t1I"
      },
      "execution_count": null,
      "outputs": []
    },
    {
      "cell_type": "code",
      "source": [
        "def build_model(hp):\n",
        "  transformer_model = TFAutoModelForSequenceClassification.from_pretrained(\"roberta-base\", config=config)\n",
        "  input_ids = tf.keras.layers.Input(shape=(max_seq_length,), name=\"input_ids\", dtype=\"int32\")\n",
        "  input_mask = tf.keras.layers.Input(shape=(max_seq_length,), name=\"input_mask\", dtype=\"int32\")\n",
        "  embedding_layer = transformer_model.roberta(input_ids, attention_mask=input_mask)[0]\n",
        "  X = tf.keras.layers.Bidirectional(tf.keras.layers.LSTM(50, return_sequences=True, dropout=0.1, recurrent_dropout=0.1))(\n",
        "    embedding_layer\n",
        "   )\n",
        "  X = tf.keras.layers.GlobalMaxPool1D()(X)\n",
        "  X = tf.keras.layers.Dense(units=hp.Int('units', min_value=32, max_value=128, step=32), activation=\"relu\")(X)\n",
        "  X = tf.keras.layers.Dropout(0.2)(X)\n",
        "  X = tf.keras.layers.Dense(len(CLASSES), activation=\"softmax\")(X)\n",
        "\n",
        "  model = tf.keras.Model(inputs=[input_ids, input_mask], outputs=X)\n",
        "  freeze_bert_layer=hp.Choice('freezelayer', values=[True,False])\n",
        "  for layer in model.layers[:hp.Choice('num_freeze_layers', values=[0, 2, 3])]:\n",
        "    layer.trainable = not freeze_bert_layer\n",
        "  loss = tf.keras.losses.SparseCategoricalCrossentropy(from_logits=True)\n",
        "\n",
        "  metric = tf.keras.metrics.SparseCategoricalAccuracy(\"accuracy\")\n",
        "  learning_rate=hp.Choice(\"learning_rate\",values=[3e-5,(3e-5)*100,(3e-5)/100])\n",
        "  optimizer = tf.keras.optimizers.Adam(learning_rate=learning_rate, epsilon=epsilon)\n",
        "\n",
        "  model.compile(optimizer=optimizer, loss=loss, metrics=[metric])\n",
        "\n",
        "  model.summary()\n",
        "  return model"
      ],
      "metadata": {
        "id": "f1_M56Xcx66W"
      },
      "execution_count": null,
      "outputs": []
    },
    {
      "cell_type": "code",
      "source": [
        "import kerastuner as kt\n",
        "from kerastuner.tuners import RandomSearch, Hyperband, BayesianOptimization\n",
        "from wandb.keras import WandbCallback\n",
        "\n",
        "class MyTuner(kt.Tuner):\n",
        "\n",
        "    def run_trial(self,trial, train_dataset,validation_dataset, steps_per_epoch, epochs, objective):\n",
        "      \n",
        "        hp = trial.hyperparameters\n",
        "        objective_name_str = objective\n",
        "\n",
        "        ## create the model with the current trial hyperparameters\n",
        "        model = self.hypermodel.build(hp)\n",
        "        \n",
        "        ## Initiates new run for each trial on the dashboard of Weights & Biases\n",
        "        run = wandb.init(project=\"roberta-hyperparam-test\", entity=\"ariq913\", config=hp.values)\n",
        "\n",
        "        ## WandbCallback() logs all the metric data such as\n",
        "        ## loss, accuracy and etc on dashboard for visualization\n",
        "        history = model.fit(\n",
        "    train_dataset,\n",
        "    shuffle=True,\n",
        "    epochs=epochs,\n",
        "    steps_per_epoch=steps_per_epoch,\n",
        "    validation_data=validation_dataset,\n",
        "    validation_steps=validation_steps,\n",
        "    verbose=2,\n",
        "    callbacks=[WandbCallback()]\n",
        "    # callbacks=callbacks,\n",
        "            )\n",
        "        # history = model.fit(trainX,\n",
        "        #           trainY,\n",
        "        #           batch_size=batch_size,\n",
        "        #           epochs=epochs,\n",
        "        #           validation_split=0.1,\n",
        "        #           callbacks=[WandbCallback()])  \n",
        "\n",
        "        ## if val_accurcy used, use the val_accuracy of last epoch model which is fully trained\n",
        "        val_acc = history.history['val_accuracy'][-1]  ## [-1] will give the last value in the list\n",
        "\n",
        "        ## Send the objective data to the oracle for comparison of hyperparameters\n",
        "        self.oracle.update_trial(trial.trial_id, {objective_name_str:val_acc})\n",
        "\n",
        "        ## save the trial model\n",
        "        # self.save_model(trial.trial_id, model)\n",
        "        \n",
        "        ## ends the run on the Weights & Biases dashboard\n",
        "        run.finish()"
      ],
      "metadata": {
        "id": "5U06-9v5AZFm"
      },
      "execution_count": null,
      "outputs": []
    },
    {
      "cell_type": "code",
      "source": [
        "## set the objective of tuning algorithm\n",
        "objective = 'val_accuracy'\n",
        "  \n",
        "## instantiate the new Tuner with tuning algorithm and required parameters\n",
        "tuner = MyTuner(\n",
        "      oracle=kt.oracles.RandomSearch(\n",
        "          objective=objective,\n",
        "          max_trials=4),\n",
        "      hypermodel=build_model,\n",
        "      directory='/content/drive/MyDrive/hyperparam/')\n",
        "\n",
        "tuner.search_space_summary()"
      ],
      "metadata": {
        "colab": {
          "base_uri": "https://localhost:8080/"
        },
        "id": "zYAP7VV7EiNk",
        "outputId": "282012df-e97e-49e5-8824-98dc9dd2c11b"
      },
      "execution_count": null,
      "outputs": [
        {
          "output_type": "stream",
          "name": "stderr",
          "text": [
            "All model checkpoint layers were used when initializing TFRobertaForSequenceClassification.\n",
            "\n",
            "Some layers of TFRobertaForSequenceClassification were not initialized from the model checkpoint at roberta-base and are newly initialized: ['classifier']\n",
            "You should probably TRAIN this model on a down-stream task to be able to use it for predictions and inference.\n",
            "WARNING:tensorflow:Layer lstm_2 will not use cuDNN kernels since it doesn't meet the criteria. It will use a generic GPU kernel as fallback when running on GPU.\n",
            "WARNING:tensorflow:Layer lstm_2 will not use cuDNN kernels since it doesn't meet the criteria. It will use a generic GPU kernel as fallback when running on GPU.\n",
            "WARNING:tensorflow:Layer lstm_2 will not use cuDNN kernels since it doesn't meet the criteria. It will use a generic GPU kernel as fallback when running on GPU.\n"
          ]
        },
        {
          "output_type": "stream",
          "name": "stdout",
          "text": [
            "Model: \"model_2\"\n",
            "__________________________________________________________________________________________________\n",
            " Layer (type)                   Output Shape         Param #     Connected to                     \n",
            "==================================================================================================\n",
            " input_ids (InputLayer)         [(None, 18)]         0           []                               \n",
            "                                                                                                  \n",
            " input_mask (InputLayer)        [(None, 18)]         0           []                               \n",
            "                                                                                                  \n",
            " roberta (TFRobertaMainLayer)   TFBaseModelOutputWi  124055040   ['input_ids[0][0]',              \n",
            "                                thPoolingAndCrossAt               'input_mask[0][0]']             \n",
            "                                tentions(last_hidde                                               \n",
            "                                n_state=(None, 18,                                                \n",
            "                                768),                                                             \n",
            "                                 pooler_output=None                                               \n",
            "                                , past_key_values=N                                               \n",
            "                                one, hidden_states=                                               \n",
            "                                None, attentions=No                                               \n",
            "                                ne, cross_attention                                               \n",
            "                                s=None)                                                           \n",
            "                                                                                                  \n",
            " bidirectional_2 (Bidirectional  (None, 18, 100)     327600      ['roberta[0][0]']                \n",
            " )                                                                                                \n",
            "                                                                                                  \n",
            " global_max_pooling1d_2 (Global  (None, 100)         0           ['bidirectional_2[0][0]']        \n",
            " MaxPooling1D)                                                                                    \n",
            "                                                                                                  \n",
            " dense_4 (Dense)                (None, 32)           3232        ['global_max_pooling1d_2[0][0]'] \n",
            "                                                                                                  \n",
            " dropout_116 (Dropout)          (None, 32)           0           ['dense_4[0][0]']                \n",
            "                                                                                                  \n",
            " dense_5 (Dense)                (None, 4)            132         ['dropout_116[0][0]']            \n",
            "                                                                                                  \n",
            "==================================================================================================\n",
            "Total params: 124,386,004\n",
            "Trainable params: 124,386,004\n",
            "Non-trainable params: 0\n",
            "__________________________________________________________________________________________________\n",
            "Search space summary\n",
            "Default search space size: 4\n",
            "units (Int)\n",
            "{'default': None, 'conditions': [], 'min_value': 32, 'max_value': 128, 'step': 32, 'sampling': None}\n",
            "freezelayer (Choice)\n",
            "{'default': 1, 'conditions': [], 'values': [1, 0], 'ordered': True}\n",
            "num_freeze_layers (Choice)\n",
            "{'default': 0, 'conditions': [], 'values': [0, 2, 3], 'ordered': True}\n",
            "learning_rate (Choice)\n",
            "{'default': 3e-05, 'conditions': [], 'values': [3e-05, 0.003, 3e-07], 'ordered': True}\n"
          ]
        }
      ]
    },
    {
      "cell_type": "code",
      "source": [
        "tuner.search(train_dataset, validation_dataset, steps_per_epoch=steps_per_epoch, epochs=2, objective=objective)\n",
        "\n"
      ],
      "metadata": {
        "colab": {
          "base_uri": "https://localhost:8080/",
          "height": 1000,
          "referenced_widgets": [
            "42b0a3c6a881494e9d36774f34da6215",
            "4d039542fc2d47cead8c4709da792280",
            "a6037a2be6bb457393b829b64d0f0810",
            "eb67a6907a3e4d7897fa04f37f6e3c12",
            "47d81ff47d474cdca1329c7d2cd3769f",
            "0e28212fcfd14b63ac58ef4422611d8a",
            "0bc4662d3b164920a86248f4f5255c32",
            "078cbf12c71e4dc992633432baf97b72",
            "62ce9f99ca2f4b01b2f8a850f5b8eea1",
            "4e0ff53845e44386b3b5e874032e3c1e",
            "fdfbce8ea50b4528a34837e88f35cde7",
            "9bd2e81452a248a4ad9b402eee653a6b",
            "f1392381d7aa4138a8191251bb2e52b8",
            "6f806d56f3ca4a1da2fd97797b388255",
            "2481d382695b4d20afd95dd9ba736564",
            "7005657673ae4390a5edda6d385cea55"
          ]
        },
        "id": "j-UoxKd8Ei_I",
        "outputId": "86b25c45-6f66-46c4-afe6-3cba667100da"
      },
      "execution_count": null,
      "outputs": [
        {
          "output_type": "stream",
          "name": "stdout",
          "text": [
            "Trial 4 Complete [00h 02m 39s]\n",
            "val_accuracy: 0.27250000834465027\n",
            "\n",
            "Best val_accuracy So Far: 0.4362500011920929\n",
            "Total elapsed time: 00h 13m 46s\n"
          ]
        }
      ]
    },
    {
      "cell_type": "code",
      "source": [
        "best_hps = tuner.get_best_hyperparameters()[0]\n",
        "print(best_hps.values)\n",
        "\n",
        "## get the best\n",
        "best_model = tuner.get_best_models()[0]"
      ],
      "metadata": {
        "id": "ButJxf-7Iw5U"
      },
      "execution_count": null,
      "outputs": []
    }
  ],
  "metadata": {
    "instance_type": "ml.t3.medium",
    "kernelspec": {
      "display_name": "Python 3 (Data Science)",
      "language": "python",
      "name": "python3__SAGEMAKER_INTERNAL__arn:aws:sagemaker:us-east-1:081325390199:image/datascience-1.0"
    },
    "language_info": {
      "codemirror_mode": {
        "name": "ipython",
        "version": 3
      },
      "file_extension": ".py",
      "mimetype": "text/x-python",
      "name": "python",
      "nbconvert_exporter": "python",
      "pygments_lexer": "ipython3",
      "version": "3.7.10"
    },
    "colab": {
      "provenance": []
    },
    "gpuClass": "standard",
    "accelerator": "GPU",
    "widgets": {
      "application/vnd.jupyter.widget-state+json": {
        "42b0a3c6a881494e9d36774f34da6215": {
          "model_module": "@jupyter-widgets/controls",
          "model_name": "VBoxModel",
          "model_module_version": "1.5.0",
          "state": {
            "_dom_classes": [],
            "_model_module": "@jupyter-widgets/controls",
            "_model_module_version": "1.5.0",
            "_model_name": "VBoxModel",
            "_view_count": null,
            "_view_module": "@jupyter-widgets/controls",
            "_view_module_version": "1.5.0",
            "_view_name": "VBoxView",
            "box_style": "",
            "children": [
              "IPY_MODEL_4d039542fc2d47cead8c4709da792280",
              "IPY_MODEL_a6037a2be6bb457393b829b64d0f0810"
            ],
            "layout": "IPY_MODEL_eb67a6907a3e4d7897fa04f37f6e3c12"
          }
        },
        "4d039542fc2d47cead8c4709da792280": {
          "model_module": "@jupyter-widgets/controls",
          "model_name": "LabelModel",
          "model_module_version": "1.5.0",
          "state": {
            "_dom_classes": [],
            "_model_module": "@jupyter-widgets/controls",
            "_model_module_version": "1.5.0",
            "_model_name": "LabelModel",
            "_view_count": null,
            "_view_module": "@jupyter-widgets/controls",
            "_view_module_version": "1.5.0",
            "_view_name": "LabelView",
            "description": "",
            "description_tooltip": null,
            "layout": "IPY_MODEL_47d81ff47d474cdca1329c7d2cd3769f",
            "placeholder": "​",
            "style": "IPY_MODEL_0e28212fcfd14b63ac58ef4422611d8a",
            "value": "4278.268 MB of 4288.379 MB uploaded (0.160 MB deduped)\r"
          }
        },
        "a6037a2be6bb457393b829b64d0f0810": {
          "model_module": "@jupyter-widgets/controls",
          "model_name": "FloatProgressModel",
          "model_module_version": "1.5.0",
          "state": {
            "_dom_classes": [],
            "_model_module": "@jupyter-widgets/controls",
            "_model_module_version": "1.5.0",
            "_model_name": "FloatProgressModel",
            "_view_count": null,
            "_view_module": "@jupyter-widgets/controls",
            "_view_module_version": "1.5.0",
            "_view_name": "ProgressView",
            "bar_style": "",
            "description": "",
            "description_tooltip": null,
            "layout": "IPY_MODEL_0bc4662d3b164920a86248f4f5255c32",
            "max": 1,
            "min": 0,
            "orientation": "horizontal",
            "style": "IPY_MODEL_078cbf12c71e4dc992633432baf97b72",
            "value": 0.9976423268290243
          }
        },
        "eb67a6907a3e4d7897fa04f37f6e3c12": {
          "model_module": "@jupyter-widgets/base",
          "model_name": "LayoutModel",
          "model_module_version": "1.2.0",
          "state": {
            "_model_module": "@jupyter-widgets/base",
            "_model_module_version": "1.2.0",
            "_model_name": "LayoutModel",
            "_view_count": null,
            "_view_module": "@jupyter-widgets/base",
            "_view_module_version": "1.2.0",
            "_view_name": "LayoutView",
            "align_content": null,
            "align_items": null,
            "align_self": null,
            "border": null,
            "bottom": null,
            "display": null,
            "flex": null,
            "flex_flow": null,
            "grid_area": null,
            "grid_auto_columns": null,
            "grid_auto_flow": null,
            "grid_auto_rows": null,
            "grid_column": null,
            "grid_gap": null,
            "grid_row": null,
            "grid_template_areas": null,
            "grid_template_columns": null,
            "grid_template_rows": null,
            "height": null,
            "justify_content": null,
            "justify_items": null,
            "left": null,
            "margin": null,
            "max_height": null,
            "max_width": null,
            "min_height": null,
            "min_width": null,
            "object_fit": null,
            "object_position": null,
            "order": null,
            "overflow": null,
            "overflow_x": null,
            "overflow_y": null,
            "padding": null,
            "right": null,
            "top": null,
            "visibility": null,
            "width": null
          }
        },
        "47d81ff47d474cdca1329c7d2cd3769f": {
          "model_module": "@jupyter-widgets/base",
          "model_name": "LayoutModel",
          "model_module_version": "1.2.0",
          "state": {
            "_model_module": "@jupyter-widgets/base",
            "_model_module_version": "1.2.0",
            "_model_name": "LayoutModel",
            "_view_count": null,
            "_view_module": "@jupyter-widgets/base",
            "_view_module_version": "1.2.0",
            "_view_name": "LayoutView",
            "align_content": null,
            "align_items": null,
            "align_self": null,
            "border": null,
            "bottom": null,
            "display": null,
            "flex": null,
            "flex_flow": null,
            "grid_area": null,
            "grid_auto_columns": null,
            "grid_auto_flow": null,
            "grid_auto_rows": null,
            "grid_column": null,
            "grid_gap": null,
            "grid_row": null,
            "grid_template_areas": null,
            "grid_template_columns": null,
            "grid_template_rows": null,
            "height": null,
            "justify_content": null,
            "justify_items": null,
            "left": null,
            "margin": null,
            "max_height": null,
            "max_width": null,
            "min_height": null,
            "min_width": null,
            "object_fit": null,
            "object_position": null,
            "order": null,
            "overflow": null,
            "overflow_x": null,
            "overflow_y": null,
            "padding": null,
            "right": null,
            "top": null,
            "visibility": null,
            "width": null
          }
        },
        "0e28212fcfd14b63ac58ef4422611d8a": {
          "model_module": "@jupyter-widgets/controls",
          "model_name": "DescriptionStyleModel",
          "model_module_version": "1.5.0",
          "state": {
            "_model_module": "@jupyter-widgets/controls",
            "_model_module_version": "1.5.0",
            "_model_name": "DescriptionStyleModel",
            "_view_count": null,
            "_view_module": "@jupyter-widgets/base",
            "_view_module_version": "1.2.0",
            "_view_name": "StyleView",
            "description_width": ""
          }
        },
        "0bc4662d3b164920a86248f4f5255c32": {
          "model_module": "@jupyter-widgets/base",
          "model_name": "LayoutModel",
          "model_module_version": "1.2.0",
          "state": {
            "_model_module": "@jupyter-widgets/base",
            "_model_module_version": "1.2.0",
            "_model_name": "LayoutModel",
            "_view_count": null,
            "_view_module": "@jupyter-widgets/base",
            "_view_module_version": "1.2.0",
            "_view_name": "LayoutView",
            "align_content": null,
            "align_items": null,
            "align_self": null,
            "border": null,
            "bottom": null,
            "display": null,
            "flex": null,
            "flex_flow": null,
            "grid_area": null,
            "grid_auto_columns": null,
            "grid_auto_flow": null,
            "grid_auto_rows": null,
            "grid_column": null,
            "grid_gap": null,
            "grid_row": null,
            "grid_template_areas": null,
            "grid_template_columns": null,
            "grid_template_rows": null,
            "height": null,
            "justify_content": null,
            "justify_items": null,
            "left": null,
            "margin": null,
            "max_height": null,
            "max_width": null,
            "min_height": null,
            "min_width": null,
            "object_fit": null,
            "object_position": null,
            "order": null,
            "overflow": null,
            "overflow_x": null,
            "overflow_y": null,
            "padding": null,
            "right": null,
            "top": null,
            "visibility": null,
            "width": null
          }
        },
        "078cbf12c71e4dc992633432baf97b72": {
          "model_module": "@jupyter-widgets/controls",
          "model_name": "ProgressStyleModel",
          "model_module_version": "1.5.0",
          "state": {
            "_model_module": "@jupyter-widgets/controls",
            "_model_module_version": "1.5.0",
            "_model_name": "ProgressStyleModel",
            "_view_count": null,
            "_view_module": "@jupyter-widgets/base",
            "_view_module_version": "1.2.0",
            "_view_name": "StyleView",
            "bar_color": null,
            "description_width": ""
          }
        },
        "62ce9f99ca2f4b01b2f8a850f5b8eea1": {
          "model_module": "@jupyter-widgets/controls",
          "model_name": "VBoxModel",
          "model_module_version": "1.5.0",
          "state": {
            "_dom_classes": [],
            "_model_module": "@jupyter-widgets/controls",
            "_model_module_version": "1.5.0",
            "_model_name": "VBoxModel",
            "_view_count": null,
            "_view_module": "@jupyter-widgets/controls",
            "_view_module_version": "1.5.0",
            "_view_name": "VBoxView",
            "box_style": "",
            "children": [
              "IPY_MODEL_4e0ff53845e44386b3b5e874032e3c1e",
              "IPY_MODEL_fdfbce8ea50b4528a34837e88f35cde7"
            ],
            "layout": "IPY_MODEL_9bd2e81452a248a4ad9b402eee653a6b"
          }
        },
        "4e0ff53845e44386b3b5e874032e3c1e": {
          "model_module": "@jupyter-widgets/controls",
          "model_name": "LabelModel",
          "model_module_version": "1.5.0",
          "state": {
            "_dom_classes": [],
            "_model_module": "@jupyter-widgets/controls",
            "_model_module_version": "1.5.0",
            "_model_name": "LabelModel",
            "_view_count": null,
            "_view_module": "@jupyter-widgets/controls",
            "_view_module_version": "1.5.0",
            "_view_name": "LabelView",
            "description": "",
            "description_tooltip": null,
            "layout": "IPY_MODEL_f1392381d7aa4138a8191251bb2e52b8",
            "placeholder": "​",
            "style": "IPY_MODEL_6f806d56f3ca4a1da2fd97797b388255",
            "value": "2794.436 MB of 2856.601 MB uploaded (0.000 MB deduped)\r"
          }
        },
        "fdfbce8ea50b4528a34837e88f35cde7": {
          "model_module": "@jupyter-widgets/controls",
          "model_name": "FloatProgressModel",
          "model_module_version": "1.5.0",
          "state": {
            "_dom_classes": [],
            "_model_module": "@jupyter-widgets/controls",
            "_model_module_version": "1.5.0",
            "_model_name": "FloatProgressModel",
            "_view_count": null,
            "_view_module": "@jupyter-widgets/controls",
            "_view_module_version": "1.5.0",
            "_view_name": "ProgressView",
            "bar_style": "",
            "description": "",
            "description_tooltip": null,
            "layout": "IPY_MODEL_2481d382695b4d20afd95dd9ba736564",
            "max": 1,
            "min": 0,
            "orientation": "horizontal",
            "style": "IPY_MODEL_7005657673ae4390a5edda6d385cea55",
            "value": 0.9782382857590581
          }
        },
        "9bd2e81452a248a4ad9b402eee653a6b": {
          "model_module": "@jupyter-widgets/base",
          "model_name": "LayoutModel",
          "model_module_version": "1.2.0",
          "state": {
            "_model_module": "@jupyter-widgets/base",
            "_model_module_version": "1.2.0",
            "_model_name": "LayoutModel",
            "_view_count": null,
            "_view_module": "@jupyter-widgets/base",
            "_view_module_version": "1.2.0",
            "_view_name": "LayoutView",
            "align_content": null,
            "align_items": null,
            "align_self": null,
            "border": null,
            "bottom": null,
            "display": null,
            "flex": null,
            "flex_flow": null,
            "grid_area": null,
            "grid_auto_columns": null,
            "grid_auto_flow": null,
            "grid_auto_rows": null,
            "grid_column": null,
            "grid_gap": null,
            "grid_row": null,
            "grid_template_areas": null,
            "grid_template_columns": null,
            "grid_template_rows": null,
            "height": null,
            "justify_content": null,
            "justify_items": null,
            "left": null,
            "margin": null,
            "max_height": null,
            "max_width": null,
            "min_height": null,
            "min_width": null,
            "object_fit": null,
            "object_position": null,
            "order": null,
            "overflow": null,
            "overflow_x": null,
            "overflow_y": null,
            "padding": null,
            "right": null,
            "top": null,
            "visibility": null,
            "width": null
          }
        },
        "f1392381d7aa4138a8191251bb2e52b8": {
          "model_module": "@jupyter-widgets/base",
          "model_name": "LayoutModel",
          "model_module_version": "1.2.0",
          "state": {
            "_model_module": "@jupyter-widgets/base",
            "_model_module_version": "1.2.0",
            "_model_name": "LayoutModel",
            "_view_count": null,
            "_view_module": "@jupyter-widgets/base",
            "_view_module_version": "1.2.0",
            "_view_name": "LayoutView",
            "align_content": null,
            "align_items": null,
            "align_self": null,
            "border": null,
            "bottom": null,
            "display": null,
            "flex": null,
            "flex_flow": null,
            "grid_area": null,
            "grid_auto_columns": null,
            "grid_auto_flow": null,
            "grid_auto_rows": null,
            "grid_column": null,
            "grid_gap": null,
            "grid_row": null,
            "grid_template_areas": null,
            "grid_template_columns": null,
            "grid_template_rows": null,
            "height": null,
            "justify_content": null,
            "justify_items": null,
            "left": null,
            "margin": null,
            "max_height": null,
            "max_width": null,
            "min_height": null,
            "min_width": null,
            "object_fit": null,
            "object_position": null,
            "order": null,
            "overflow": null,
            "overflow_x": null,
            "overflow_y": null,
            "padding": null,
            "right": null,
            "top": null,
            "visibility": null,
            "width": null
          }
        },
        "6f806d56f3ca4a1da2fd97797b388255": {
          "model_module": "@jupyter-widgets/controls",
          "model_name": "DescriptionStyleModel",
          "model_module_version": "1.5.0",
          "state": {
            "_model_module": "@jupyter-widgets/controls",
            "_model_module_version": "1.5.0",
            "_model_name": "DescriptionStyleModel",
            "_view_count": null,
            "_view_module": "@jupyter-widgets/base",
            "_view_module_version": "1.2.0",
            "_view_name": "StyleView",
            "description_width": ""
          }
        },
        "2481d382695b4d20afd95dd9ba736564": {
          "model_module": "@jupyter-widgets/base",
          "model_name": "LayoutModel",
          "model_module_version": "1.2.0",
          "state": {
            "_model_module": "@jupyter-widgets/base",
            "_model_module_version": "1.2.0",
            "_model_name": "LayoutModel",
            "_view_count": null,
            "_view_module": "@jupyter-widgets/base",
            "_view_module_version": "1.2.0",
            "_view_name": "LayoutView",
            "align_content": null,
            "align_items": null,
            "align_self": null,
            "border": null,
            "bottom": null,
            "display": null,
            "flex": null,
            "flex_flow": null,
            "grid_area": null,
            "grid_auto_columns": null,
            "grid_auto_flow": null,
            "grid_auto_rows": null,
            "grid_column": null,
            "grid_gap": null,
            "grid_row": null,
            "grid_template_areas": null,
            "grid_template_columns": null,
            "grid_template_rows": null,
            "height": null,
            "justify_content": null,
            "justify_items": null,
            "left": null,
            "margin": null,
            "max_height": null,
            "max_width": null,
            "min_height": null,
            "min_width": null,
            "object_fit": null,
            "object_position": null,
            "order": null,
            "overflow": null,
            "overflow_x": null,
            "overflow_y": null,
            "padding": null,
            "right": null,
            "top": null,
            "visibility": null,
            "width": null
          }
        },
        "7005657673ae4390a5edda6d385cea55": {
          "model_module": "@jupyter-widgets/controls",
          "model_name": "ProgressStyleModel",
          "model_module_version": "1.5.0",
          "state": {
            "_model_module": "@jupyter-widgets/controls",
            "_model_module_version": "1.5.0",
            "_model_name": "ProgressStyleModel",
            "_view_count": null,
            "_view_module": "@jupyter-widgets/base",
            "_view_module_version": "1.2.0",
            "_view_name": "StyleView",
            "bar_color": null,
            "description_width": ""
          }
        },
        "2c79333a14a944eea50ceaed03c6fbab": {
          "model_module": "@jupyter-widgets/controls",
          "model_name": "HBoxModel",
          "model_module_version": "1.5.0",
          "state": {
            "_dom_classes": [],
            "_model_module": "@jupyter-widgets/controls",
            "_model_module_version": "1.5.0",
            "_model_name": "HBoxModel",
            "_view_count": null,
            "_view_module": "@jupyter-widgets/controls",
            "_view_module_version": "1.5.0",
            "_view_name": "HBoxView",
            "box_style": "",
            "children": [
              "IPY_MODEL_ca90f82a349d46af9f9ceb39b4fa1e4d",
              "IPY_MODEL_02779d6406ce437d908ceed28203e055",
              "IPY_MODEL_eb60a63e79eb47ca94b7f92f3ba4092a"
            ],
            "layout": "IPY_MODEL_ca8bb5d7e8fa4a77926e46eafe6b492e"
          }
        },
        "ca90f82a349d46af9f9ceb39b4fa1e4d": {
          "model_module": "@jupyter-widgets/controls",
          "model_name": "HTMLModel",
          "model_module_version": "1.5.0",
          "state": {
            "_dom_classes": [],
            "_model_module": "@jupyter-widgets/controls",
            "_model_module_version": "1.5.0",
            "_model_name": "HTMLModel",
            "_view_count": null,
            "_view_module": "@jupyter-widgets/controls",
            "_view_module_version": "1.5.0",
            "_view_name": "HTMLView",
            "description": "",
            "description_tooltip": null,
            "layout": "IPY_MODEL_efb35298781640b7812113497093a3c2",
            "placeholder": "​",
            "style": "IPY_MODEL_9228f45844af47548eeaa44c56e958f0",
            "value": "Downloading: 100%"
          }
        },
        "02779d6406ce437d908ceed28203e055": {
          "model_module": "@jupyter-widgets/controls",
          "model_name": "FloatProgressModel",
          "model_module_version": "1.5.0",
          "state": {
            "_dom_classes": [],
            "_model_module": "@jupyter-widgets/controls",
            "_model_module_version": "1.5.0",
            "_model_name": "FloatProgressModel",
            "_view_count": null,
            "_view_module": "@jupyter-widgets/controls",
            "_view_module_version": "1.5.0",
            "_view_name": "ProgressView",
            "bar_style": "success",
            "description": "",
            "description_tooltip": null,
            "layout": "IPY_MODEL_fe5da18ef8094965ac0c05080525a0f6",
            "max": 898823,
            "min": 0,
            "orientation": "horizontal",
            "style": "IPY_MODEL_3de5f02ad2b246ada1fc8eb7ab60814d",
            "value": 898823
          }
        },
        "eb60a63e79eb47ca94b7f92f3ba4092a": {
          "model_module": "@jupyter-widgets/controls",
          "model_name": "HTMLModel",
          "model_module_version": "1.5.0",
          "state": {
            "_dom_classes": [],
            "_model_module": "@jupyter-widgets/controls",
            "_model_module_version": "1.5.0",
            "_model_name": "HTMLModel",
            "_view_count": null,
            "_view_module": "@jupyter-widgets/controls",
            "_view_module_version": "1.5.0",
            "_view_name": "HTMLView",
            "description": "",
            "description_tooltip": null,
            "layout": "IPY_MODEL_84fc913c74c344c3ad702288a1f2cdce",
            "placeholder": "​",
            "style": "IPY_MODEL_218a6d97ef2542f99e7afab4e088aefa",
            "value": " 899k/899k [00:01&lt;00:00, 947kB/s]"
          }
        },
        "ca8bb5d7e8fa4a77926e46eafe6b492e": {
          "model_module": "@jupyter-widgets/base",
          "model_name": "LayoutModel",
          "model_module_version": "1.2.0",
          "state": {
            "_model_module": "@jupyter-widgets/base",
            "_model_module_version": "1.2.0",
            "_model_name": "LayoutModel",
            "_view_count": null,
            "_view_module": "@jupyter-widgets/base",
            "_view_module_version": "1.2.0",
            "_view_name": "LayoutView",
            "align_content": null,
            "align_items": null,
            "align_self": null,
            "border": null,
            "bottom": null,
            "display": null,
            "flex": null,
            "flex_flow": null,
            "grid_area": null,
            "grid_auto_columns": null,
            "grid_auto_flow": null,
            "grid_auto_rows": null,
            "grid_column": null,
            "grid_gap": null,
            "grid_row": null,
            "grid_template_areas": null,
            "grid_template_columns": null,
            "grid_template_rows": null,
            "height": null,
            "justify_content": null,
            "justify_items": null,
            "left": null,
            "margin": null,
            "max_height": null,
            "max_width": null,
            "min_height": null,
            "min_width": null,
            "object_fit": null,
            "object_position": null,
            "order": null,
            "overflow": null,
            "overflow_x": null,
            "overflow_y": null,
            "padding": null,
            "right": null,
            "top": null,
            "visibility": null,
            "width": null
          }
        },
        "efb35298781640b7812113497093a3c2": {
          "model_module": "@jupyter-widgets/base",
          "model_name": "LayoutModel",
          "model_module_version": "1.2.0",
          "state": {
            "_model_module": "@jupyter-widgets/base",
            "_model_module_version": "1.2.0",
            "_model_name": "LayoutModel",
            "_view_count": null,
            "_view_module": "@jupyter-widgets/base",
            "_view_module_version": "1.2.0",
            "_view_name": "LayoutView",
            "align_content": null,
            "align_items": null,
            "align_self": null,
            "border": null,
            "bottom": null,
            "display": null,
            "flex": null,
            "flex_flow": null,
            "grid_area": null,
            "grid_auto_columns": null,
            "grid_auto_flow": null,
            "grid_auto_rows": null,
            "grid_column": null,
            "grid_gap": null,
            "grid_row": null,
            "grid_template_areas": null,
            "grid_template_columns": null,
            "grid_template_rows": null,
            "height": null,
            "justify_content": null,
            "justify_items": null,
            "left": null,
            "margin": null,
            "max_height": null,
            "max_width": null,
            "min_height": null,
            "min_width": null,
            "object_fit": null,
            "object_position": null,
            "order": null,
            "overflow": null,
            "overflow_x": null,
            "overflow_y": null,
            "padding": null,
            "right": null,
            "top": null,
            "visibility": null,
            "width": null
          }
        },
        "9228f45844af47548eeaa44c56e958f0": {
          "model_module": "@jupyter-widgets/controls",
          "model_name": "DescriptionStyleModel",
          "model_module_version": "1.5.0",
          "state": {
            "_model_module": "@jupyter-widgets/controls",
            "_model_module_version": "1.5.0",
            "_model_name": "DescriptionStyleModel",
            "_view_count": null,
            "_view_module": "@jupyter-widgets/base",
            "_view_module_version": "1.2.0",
            "_view_name": "StyleView",
            "description_width": ""
          }
        },
        "fe5da18ef8094965ac0c05080525a0f6": {
          "model_module": "@jupyter-widgets/base",
          "model_name": "LayoutModel",
          "model_module_version": "1.2.0",
          "state": {
            "_model_module": "@jupyter-widgets/base",
            "_model_module_version": "1.2.0",
            "_model_name": "LayoutModel",
            "_view_count": null,
            "_view_module": "@jupyter-widgets/base",
            "_view_module_version": "1.2.0",
            "_view_name": "LayoutView",
            "align_content": null,
            "align_items": null,
            "align_self": null,
            "border": null,
            "bottom": null,
            "display": null,
            "flex": null,
            "flex_flow": null,
            "grid_area": null,
            "grid_auto_columns": null,
            "grid_auto_flow": null,
            "grid_auto_rows": null,
            "grid_column": null,
            "grid_gap": null,
            "grid_row": null,
            "grid_template_areas": null,
            "grid_template_columns": null,
            "grid_template_rows": null,
            "height": null,
            "justify_content": null,
            "justify_items": null,
            "left": null,
            "margin": null,
            "max_height": null,
            "max_width": null,
            "min_height": null,
            "min_width": null,
            "object_fit": null,
            "object_position": null,
            "order": null,
            "overflow": null,
            "overflow_x": null,
            "overflow_y": null,
            "padding": null,
            "right": null,
            "top": null,
            "visibility": null,
            "width": null
          }
        },
        "3de5f02ad2b246ada1fc8eb7ab60814d": {
          "model_module": "@jupyter-widgets/controls",
          "model_name": "ProgressStyleModel",
          "model_module_version": "1.5.0",
          "state": {
            "_model_module": "@jupyter-widgets/controls",
            "_model_module_version": "1.5.0",
            "_model_name": "ProgressStyleModel",
            "_view_count": null,
            "_view_module": "@jupyter-widgets/base",
            "_view_module_version": "1.2.0",
            "_view_name": "StyleView",
            "bar_color": null,
            "description_width": ""
          }
        },
        "84fc913c74c344c3ad702288a1f2cdce": {
          "model_module": "@jupyter-widgets/base",
          "model_name": "LayoutModel",
          "model_module_version": "1.2.0",
          "state": {
            "_model_module": "@jupyter-widgets/base",
            "_model_module_version": "1.2.0",
            "_model_name": "LayoutModel",
            "_view_count": null,
            "_view_module": "@jupyter-widgets/base",
            "_view_module_version": "1.2.0",
            "_view_name": "LayoutView",
            "align_content": null,
            "align_items": null,
            "align_self": null,
            "border": null,
            "bottom": null,
            "display": null,
            "flex": null,
            "flex_flow": null,
            "grid_area": null,
            "grid_auto_columns": null,
            "grid_auto_flow": null,
            "grid_auto_rows": null,
            "grid_column": null,
            "grid_gap": null,
            "grid_row": null,
            "grid_template_areas": null,
            "grid_template_columns": null,
            "grid_template_rows": null,
            "height": null,
            "justify_content": null,
            "justify_items": null,
            "left": null,
            "margin": null,
            "max_height": null,
            "max_width": null,
            "min_height": null,
            "min_width": null,
            "object_fit": null,
            "object_position": null,
            "order": null,
            "overflow": null,
            "overflow_x": null,
            "overflow_y": null,
            "padding": null,
            "right": null,
            "top": null,
            "visibility": null,
            "width": null
          }
        },
        "218a6d97ef2542f99e7afab4e088aefa": {
          "model_module": "@jupyter-widgets/controls",
          "model_name": "DescriptionStyleModel",
          "model_module_version": "1.5.0",
          "state": {
            "_model_module": "@jupyter-widgets/controls",
            "_model_module_version": "1.5.0",
            "_model_name": "DescriptionStyleModel",
            "_view_count": null,
            "_view_module": "@jupyter-widgets/base",
            "_view_module_version": "1.2.0",
            "_view_name": "StyleView",
            "description_width": ""
          }
        },
        "b0f83505f3d643f68022250377f8e35f": {
          "model_module": "@jupyter-widgets/controls",
          "model_name": "HBoxModel",
          "model_module_version": "1.5.0",
          "state": {
            "_dom_classes": [],
            "_model_module": "@jupyter-widgets/controls",
            "_model_module_version": "1.5.0",
            "_model_name": "HBoxModel",
            "_view_count": null,
            "_view_module": "@jupyter-widgets/controls",
            "_view_module_version": "1.5.0",
            "_view_name": "HBoxView",
            "box_style": "",
            "children": [
              "IPY_MODEL_3199badea29d47d596352504b98c58f4",
              "IPY_MODEL_2db970052d1f4e00858cbd31d1b9aa95",
              "IPY_MODEL_f17fbc3a62984f598963489f07525ddb"
            ],
            "layout": "IPY_MODEL_5148d8b16d8a44b7b38df55e523db2cd"
          }
        },
        "3199badea29d47d596352504b98c58f4": {
          "model_module": "@jupyter-widgets/controls",
          "model_name": "HTMLModel",
          "model_module_version": "1.5.0",
          "state": {
            "_dom_classes": [],
            "_model_module": "@jupyter-widgets/controls",
            "_model_module_version": "1.5.0",
            "_model_name": "HTMLModel",
            "_view_count": null,
            "_view_module": "@jupyter-widgets/controls",
            "_view_module_version": "1.5.0",
            "_view_name": "HTMLView",
            "description": "",
            "description_tooltip": null,
            "layout": "IPY_MODEL_2a060ecedb4641cca580414baaf59e13",
            "placeholder": "​",
            "style": "IPY_MODEL_7105c89ca9834de9a2037c961e03de82",
            "value": "Downloading: 100%"
          }
        },
        "2db970052d1f4e00858cbd31d1b9aa95": {
          "model_module": "@jupyter-widgets/controls",
          "model_name": "FloatProgressModel",
          "model_module_version": "1.5.0",
          "state": {
            "_dom_classes": [],
            "_model_module": "@jupyter-widgets/controls",
            "_model_module_version": "1.5.0",
            "_model_name": "FloatProgressModel",
            "_view_count": null,
            "_view_module": "@jupyter-widgets/controls",
            "_view_module_version": "1.5.0",
            "_view_name": "ProgressView",
            "bar_style": "success",
            "description": "",
            "description_tooltip": null,
            "layout": "IPY_MODEL_19a2ff400a084427a76b1314af63905b",
            "max": 456318,
            "min": 0,
            "orientation": "horizontal",
            "style": "IPY_MODEL_1405f8aed67e480c86b40a5bbeb7ddf1",
            "value": 456318
          }
        },
        "f17fbc3a62984f598963489f07525ddb": {
          "model_module": "@jupyter-widgets/controls",
          "model_name": "HTMLModel",
          "model_module_version": "1.5.0",
          "state": {
            "_dom_classes": [],
            "_model_module": "@jupyter-widgets/controls",
            "_model_module_version": "1.5.0",
            "_model_name": "HTMLModel",
            "_view_count": null,
            "_view_module": "@jupyter-widgets/controls",
            "_view_module_version": "1.5.0",
            "_view_name": "HTMLView",
            "description": "",
            "description_tooltip": null,
            "layout": "IPY_MODEL_b4c1f6ed94c143f89ec4988f8b3e6880",
            "placeholder": "​",
            "style": "IPY_MODEL_2ca54f4cc80a4141b05108e6246c6666",
            "value": " 456k/456k [00:01&lt;00:00, 509kB/s]"
          }
        },
        "5148d8b16d8a44b7b38df55e523db2cd": {
          "model_module": "@jupyter-widgets/base",
          "model_name": "LayoutModel",
          "model_module_version": "1.2.0",
          "state": {
            "_model_module": "@jupyter-widgets/base",
            "_model_module_version": "1.2.0",
            "_model_name": "LayoutModel",
            "_view_count": null,
            "_view_module": "@jupyter-widgets/base",
            "_view_module_version": "1.2.0",
            "_view_name": "LayoutView",
            "align_content": null,
            "align_items": null,
            "align_self": null,
            "border": null,
            "bottom": null,
            "display": null,
            "flex": null,
            "flex_flow": null,
            "grid_area": null,
            "grid_auto_columns": null,
            "grid_auto_flow": null,
            "grid_auto_rows": null,
            "grid_column": null,
            "grid_gap": null,
            "grid_row": null,
            "grid_template_areas": null,
            "grid_template_columns": null,
            "grid_template_rows": null,
            "height": null,
            "justify_content": null,
            "justify_items": null,
            "left": null,
            "margin": null,
            "max_height": null,
            "max_width": null,
            "min_height": null,
            "min_width": null,
            "object_fit": null,
            "object_position": null,
            "order": null,
            "overflow": null,
            "overflow_x": null,
            "overflow_y": null,
            "padding": null,
            "right": null,
            "top": null,
            "visibility": null,
            "width": null
          }
        },
        "2a060ecedb4641cca580414baaf59e13": {
          "model_module": "@jupyter-widgets/base",
          "model_name": "LayoutModel",
          "model_module_version": "1.2.0",
          "state": {
            "_model_module": "@jupyter-widgets/base",
            "_model_module_version": "1.2.0",
            "_model_name": "LayoutModel",
            "_view_count": null,
            "_view_module": "@jupyter-widgets/base",
            "_view_module_version": "1.2.0",
            "_view_name": "LayoutView",
            "align_content": null,
            "align_items": null,
            "align_self": null,
            "border": null,
            "bottom": null,
            "display": null,
            "flex": null,
            "flex_flow": null,
            "grid_area": null,
            "grid_auto_columns": null,
            "grid_auto_flow": null,
            "grid_auto_rows": null,
            "grid_column": null,
            "grid_gap": null,
            "grid_row": null,
            "grid_template_areas": null,
            "grid_template_columns": null,
            "grid_template_rows": null,
            "height": null,
            "justify_content": null,
            "justify_items": null,
            "left": null,
            "margin": null,
            "max_height": null,
            "max_width": null,
            "min_height": null,
            "min_width": null,
            "object_fit": null,
            "object_position": null,
            "order": null,
            "overflow": null,
            "overflow_x": null,
            "overflow_y": null,
            "padding": null,
            "right": null,
            "top": null,
            "visibility": null,
            "width": null
          }
        },
        "7105c89ca9834de9a2037c961e03de82": {
          "model_module": "@jupyter-widgets/controls",
          "model_name": "DescriptionStyleModel",
          "model_module_version": "1.5.0",
          "state": {
            "_model_module": "@jupyter-widgets/controls",
            "_model_module_version": "1.5.0",
            "_model_name": "DescriptionStyleModel",
            "_view_count": null,
            "_view_module": "@jupyter-widgets/base",
            "_view_module_version": "1.2.0",
            "_view_name": "StyleView",
            "description_width": ""
          }
        },
        "19a2ff400a084427a76b1314af63905b": {
          "model_module": "@jupyter-widgets/base",
          "model_name": "LayoutModel",
          "model_module_version": "1.2.0",
          "state": {
            "_model_module": "@jupyter-widgets/base",
            "_model_module_version": "1.2.0",
            "_model_name": "LayoutModel",
            "_view_count": null,
            "_view_module": "@jupyter-widgets/base",
            "_view_module_version": "1.2.0",
            "_view_name": "LayoutView",
            "align_content": null,
            "align_items": null,
            "align_self": null,
            "border": null,
            "bottom": null,
            "display": null,
            "flex": null,
            "flex_flow": null,
            "grid_area": null,
            "grid_auto_columns": null,
            "grid_auto_flow": null,
            "grid_auto_rows": null,
            "grid_column": null,
            "grid_gap": null,
            "grid_row": null,
            "grid_template_areas": null,
            "grid_template_columns": null,
            "grid_template_rows": null,
            "height": null,
            "justify_content": null,
            "justify_items": null,
            "left": null,
            "margin": null,
            "max_height": null,
            "max_width": null,
            "min_height": null,
            "min_width": null,
            "object_fit": null,
            "object_position": null,
            "order": null,
            "overflow": null,
            "overflow_x": null,
            "overflow_y": null,
            "padding": null,
            "right": null,
            "top": null,
            "visibility": null,
            "width": null
          }
        },
        "1405f8aed67e480c86b40a5bbeb7ddf1": {
          "model_module": "@jupyter-widgets/controls",
          "model_name": "ProgressStyleModel",
          "model_module_version": "1.5.0",
          "state": {
            "_model_module": "@jupyter-widgets/controls",
            "_model_module_version": "1.5.0",
            "_model_name": "ProgressStyleModel",
            "_view_count": null,
            "_view_module": "@jupyter-widgets/base",
            "_view_module_version": "1.2.0",
            "_view_name": "StyleView",
            "bar_color": null,
            "description_width": ""
          }
        },
        "b4c1f6ed94c143f89ec4988f8b3e6880": {
          "model_module": "@jupyter-widgets/base",
          "model_name": "LayoutModel",
          "model_module_version": "1.2.0",
          "state": {
            "_model_module": "@jupyter-widgets/base",
            "_model_module_version": "1.2.0",
            "_model_name": "LayoutModel",
            "_view_count": null,
            "_view_module": "@jupyter-widgets/base",
            "_view_module_version": "1.2.0",
            "_view_name": "LayoutView",
            "align_content": null,
            "align_items": null,
            "align_self": null,
            "border": null,
            "bottom": null,
            "display": null,
            "flex": null,
            "flex_flow": null,
            "grid_area": null,
            "grid_auto_columns": null,
            "grid_auto_flow": null,
            "grid_auto_rows": null,
            "grid_column": null,
            "grid_gap": null,
            "grid_row": null,
            "grid_template_areas": null,
            "grid_template_columns": null,
            "grid_template_rows": null,
            "height": null,
            "justify_content": null,
            "justify_items": null,
            "left": null,
            "margin": null,
            "max_height": null,
            "max_width": null,
            "min_height": null,
            "min_width": null,
            "object_fit": null,
            "object_position": null,
            "order": null,
            "overflow": null,
            "overflow_x": null,
            "overflow_y": null,
            "padding": null,
            "right": null,
            "top": null,
            "visibility": null,
            "width": null
          }
        },
        "2ca54f4cc80a4141b05108e6246c6666": {
          "model_module": "@jupyter-widgets/controls",
          "model_name": "DescriptionStyleModel",
          "model_module_version": "1.5.0",
          "state": {
            "_model_module": "@jupyter-widgets/controls",
            "_model_module_version": "1.5.0",
            "_model_name": "DescriptionStyleModel",
            "_view_count": null,
            "_view_module": "@jupyter-widgets/base",
            "_view_module_version": "1.2.0",
            "_view_name": "StyleView",
            "description_width": ""
          }
        },
        "d45f59b9b60f4d58a428a1670ec175a3": {
          "model_module": "@jupyter-widgets/controls",
          "model_name": "HBoxModel",
          "model_module_version": "1.5.0",
          "state": {
            "_dom_classes": [],
            "_model_module": "@jupyter-widgets/controls",
            "_model_module_version": "1.5.0",
            "_model_name": "HBoxModel",
            "_view_count": null,
            "_view_module": "@jupyter-widgets/controls",
            "_view_module_version": "1.5.0",
            "_view_name": "HBoxView",
            "box_style": "",
            "children": [
              "IPY_MODEL_00297bd0be7544e888a87ddbba538bb4",
              "IPY_MODEL_848806f2aeb6404096406f66538bb5ba",
              "IPY_MODEL_dccaf923af96413299a970faec4b31e1"
            ],
            "layout": "IPY_MODEL_49de934c143e4220b68fb17b55a46884"
          }
        },
        "00297bd0be7544e888a87ddbba538bb4": {
          "model_module": "@jupyter-widgets/controls",
          "model_name": "HTMLModel",
          "model_module_version": "1.5.0",
          "state": {
            "_dom_classes": [],
            "_model_module": "@jupyter-widgets/controls",
            "_model_module_version": "1.5.0",
            "_model_name": "HTMLModel",
            "_view_count": null,
            "_view_module": "@jupyter-widgets/controls",
            "_view_module_version": "1.5.0",
            "_view_name": "HTMLView",
            "description": "",
            "description_tooltip": null,
            "layout": "IPY_MODEL_ebc9b2a789a640d8b71b0bd97438a5c7",
            "placeholder": "​",
            "style": "IPY_MODEL_dab31661a14a4c3abf0086667a3d122f",
            "value": "Downloading: 100%"
          }
        },
        "848806f2aeb6404096406f66538bb5ba": {
          "model_module": "@jupyter-widgets/controls",
          "model_name": "FloatProgressModel",
          "model_module_version": "1.5.0",
          "state": {
            "_dom_classes": [],
            "_model_module": "@jupyter-widgets/controls",
            "_model_module_version": "1.5.0",
            "_model_name": "FloatProgressModel",
            "_view_count": null,
            "_view_module": "@jupyter-widgets/controls",
            "_view_module_version": "1.5.0",
            "_view_name": "ProgressView",
            "bar_style": "success",
            "description": "",
            "description_tooltip": null,
            "layout": "IPY_MODEL_ed727ae28cb6498e989b80d0fb187fb7",
            "max": 481,
            "min": 0,
            "orientation": "horizontal",
            "style": "IPY_MODEL_d4126576d0494915b06369666bf5c038",
            "value": 481
          }
        },
        "dccaf923af96413299a970faec4b31e1": {
          "model_module": "@jupyter-widgets/controls",
          "model_name": "HTMLModel",
          "model_module_version": "1.5.0",
          "state": {
            "_dom_classes": [],
            "_model_module": "@jupyter-widgets/controls",
            "_model_module_version": "1.5.0",
            "_model_name": "HTMLModel",
            "_view_count": null,
            "_view_module": "@jupyter-widgets/controls",
            "_view_module_version": "1.5.0",
            "_view_name": "HTMLView",
            "description": "",
            "description_tooltip": null,
            "layout": "IPY_MODEL_86d22adb3ceb422ca4c6a9bf9b627b2d",
            "placeholder": "​",
            "style": "IPY_MODEL_1f520181369e4ddcbb557c31a8414009",
            "value": " 481/481 [00:00&lt;00:00, 5.56kB/s]"
          }
        },
        "49de934c143e4220b68fb17b55a46884": {
          "model_module": "@jupyter-widgets/base",
          "model_name": "LayoutModel",
          "model_module_version": "1.2.0",
          "state": {
            "_model_module": "@jupyter-widgets/base",
            "_model_module_version": "1.2.0",
            "_model_name": "LayoutModel",
            "_view_count": null,
            "_view_module": "@jupyter-widgets/base",
            "_view_module_version": "1.2.0",
            "_view_name": "LayoutView",
            "align_content": null,
            "align_items": null,
            "align_self": null,
            "border": null,
            "bottom": null,
            "display": null,
            "flex": null,
            "flex_flow": null,
            "grid_area": null,
            "grid_auto_columns": null,
            "grid_auto_flow": null,
            "grid_auto_rows": null,
            "grid_column": null,
            "grid_gap": null,
            "grid_row": null,
            "grid_template_areas": null,
            "grid_template_columns": null,
            "grid_template_rows": null,
            "height": null,
            "justify_content": null,
            "justify_items": null,
            "left": null,
            "margin": null,
            "max_height": null,
            "max_width": null,
            "min_height": null,
            "min_width": null,
            "object_fit": null,
            "object_position": null,
            "order": null,
            "overflow": null,
            "overflow_x": null,
            "overflow_y": null,
            "padding": null,
            "right": null,
            "top": null,
            "visibility": null,
            "width": null
          }
        },
        "ebc9b2a789a640d8b71b0bd97438a5c7": {
          "model_module": "@jupyter-widgets/base",
          "model_name": "LayoutModel",
          "model_module_version": "1.2.0",
          "state": {
            "_model_module": "@jupyter-widgets/base",
            "_model_module_version": "1.2.0",
            "_model_name": "LayoutModel",
            "_view_count": null,
            "_view_module": "@jupyter-widgets/base",
            "_view_module_version": "1.2.0",
            "_view_name": "LayoutView",
            "align_content": null,
            "align_items": null,
            "align_self": null,
            "border": null,
            "bottom": null,
            "display": null,
            "flex": null,
            "flex_flow": null,
            "grid_area": null,
            "grid_auto_columns": null,
            "grid_auto_flow": null,
            "grid_auto_rows": null,
            "grid_column": null,
            "grid_gap": null,
            "grid_row": null,
            "grid_template_areas": null,
            "grid_template_columns": null,
            "grid_template_rows": null,
            "height": null,
            "justify_content": null,
            "justify_items": null,
            "left": null,
            "margin": null,
            "max_height": null,
            "max_width": null,
            "min_height": null,
            "min_width": null,
            "object_fit": null,
            "object_position": null,
            "order": null,
            "overflow": null,
            "overflow_x": null,
            "overflow_y": null,
            "padding": null,
            "right": null,
            "top": null,
            "visibility": null,
            "width": null
          }
        },
        "dab31661a14a4c3abf0086667a3d122f": {
          "model_module": "@jupyter-widgets/controls",
          "model_name": "DescriptionStyleModel",
          "model_module_version": "1.5.0",
          "state": {
            "_model_module": "@jupyter-widgets/controls",
            "_model_module_version": "1.5.0",
            "_model_name": "DescriptionStyleModel",
            "_view_count": null,
            "_view_module": "@jupyter-widgets/base",
            "_view_module_version": "1.2.0",
            "_view_name": "StyleView",
            "description_width": ""
          }
        },
        "ed727ae28cb6498e989b80d0fb187fb7": {
          "model_module": "@jupyter-widgets/base",
          "model_name": "LayoutModel",
          "model_module_version": "1.2.0",
          "state": {
            "_model_module": "@jupyter-widgets/base",
            "_model_module_version": "1.2.0",
            "_model_name": "LayoutModel",
            "_view_count": null,
            "_view_module": "@jupyter-widgets/base",
            "_view_module_version": "1.2.0",
            "_view_name": "LayoutView",
            "align_content": null,
            "align_items": null,
            "align_self": null,
            "border": null,
            "bottom": null,
            "display": null,
            "flex": null,
            "flex_flow": null,
            "grid_area": null,
            "grid_auto_columns": null,
            "grid_auto_flow": null,
            "grid_auto_rows": null,
            "grid_column": null,
            "grid_gap": null,
            "grid_row": null,
            "grid_template_areas": null,
            "grid_template_columns": null,
            "grid_template_rows": null,
            "height": null,
            "justify_content": null,
            "justify_items": null,
            "left": null,
            "margin": null,
            "max_height": null,
            "max_width": null,
            "min_height": null,
            "min_width": null,
            "object_fit": null,
            "object_position": null,
            "order": null,
            "overflow": null,
            "overflow_x": null,
            "overflow_y": null,
            "padding": null,
            "right": null,
            "top": null,
            "visibility": null,
            "width": null
          }
        },
        "d4126576d0494915b06369666bf5c038": {
          "model_module": "@jupyter-widgets/controls",
          "model_name": "ProgressStyleModel",
          "model_module_version": "1.5.0",
          "state": {
            "_model_module": "@jupyter-widgets/controls",
            "_model_module_version": "1.5.0",
            "_model_name": "ProgressStyleModel",
            "_view_count": null,
            "_view_module": "@jupyter-widgets/base",
            "_view_module_version": "1.2.0",
            "_view_name": "StyleView",
            "bar_color": null,
            "description_width": ""
          }
        },
        "86d22adb3ceb422ca4c6a9bf9b627b2d": {
          "model_module": "@jupyter-widgets/base",
          "model_name": "LayoutModel",
          "model_module_version": "1.2.0",
          "state": {
            "_model_module": "@jupyter-widgets/base",
            "_model_module_version": "1.2.0",
            "_model_name": "LayoutModel",
            "_view_count": null,
            "_view_module": "@jupyter-widgets/base",
            "_view_module_version": "1.2.0",
            "_view_name": "LayoutView",
            "align_content": null,
            "align_items": null,
            "align_self": null,
            "border": null,
            "bottom": null,
            "display": null,
            "flex": null,
            "flex_flow": null,
            "grid_area": null,
            "grid_auto_columns": null,
            "grid_auto_flow": null,
            "grid_auto_rows": null,
            "grid_column": null,
            "grid_gap": null,
            "grid_row": null,
            "grid_template_areas": null,
            "grid_template_columns": null,
            "grid_template_rows": null,
            "height": null,
            "justify_content": null,
            "justify_items": null,
            "left": null,
            "margin": null,
            "max_height": null,
            "max_width": null,
            "min_height": null,
            "min_width": null,
            "object_fit": null,
            "object_position": null,
            "order": null,
            "overflow": null,
            "overflow_x": null,
            "overflow_y": null,
            "padding": null,
            "right": null,
            "top": null,
            "visibility": null,
            "width": null
          }
        },
        "1f520181369e4ddcbb557c31a8414009": {
          "model_module": "@jupyter-widgets/controls",
          "model_name": "DescriptionStyleModel",
          "model_module_version": "1.5.0",
          "state": {
            "_model_module": "@jupyter-widgets/controls",
            "_model_module_version": "1.5.0",
            "_model_name": "DescriptionStyleModel",
            "_view_count": null,
            "_view_module": "@jupyter-widgets/base",
            "_view_module_version": "1.2.0",
            "_view_name": "StyleView",
            "description_width": ""
          }
        }
      }
    }
  },
  "nbformat": 4,
  "nbformat_minor": 0
}